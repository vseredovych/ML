{
 "cells": [
  {
   "cell_type": "code",
   "execution_count": 1,
   "metadata": {},
   "outputs": [],
   "source": [
    "import newsgroups\n",
    "im\n",
    "from NeuralNet import NeuralNet"
   ]
  },
  {
   "cell_type": "markdown",
   "metadata": {},
   "source": [
    "# Load and preprocess data"
   ]
  },
  {
   "cell_type": "code",
   "execution_count": 2,
   "metadata": {},
   "outputs": [],
   "source": [
    "data = newsgroups.load()"
   ]
  },
  {
   "cell_type": "code",
   "execution_count": 3,
   "metadata": {},
   "outputs": [
    {
     "data": {
      "text/html": [
       "<div>\n",
       "<style scoped>\n",
       "    .dataframe tbody tr th:only-of-type {\n",
       "        vertical-align: middle;\n",
       "    }\n",
       "\n",
       "    .dataframe tbody tr th {\n",
       "        vertical-align: top;\n",
       "    }\n",
       "\n",
       "    .dataframe thead th {\n",
       "        text-align: right;\n",
       "    }\n",
       "</style>\n",
       "<table border=\"1\" class=\"dataframe\">\n",
       "  <thead>\n",
       "    <tr style=\"text-align: right;\">\n",
       "      <th></th>\n",
       "      <th>text</th>\n",
       "      <th>group</th>\n",
       "    </tr>\n",
       "  </thead>\n",
       "  <tbody>\n",
       "    <tr>\n",
       "      <th>0</th>\n",
       "      <td>morgan and guzman will have era's 1 run higher...</td>\n",
       "      <td>rec.sport.baseball</td>\n",
       "    </tr>\n",
       "    <tr>\n",
       "      <th>1</th>\n",
       "      <td>Well, I just got my Centris 610 yesterday.  It...</td>\n",
       "      <td>comp.sys.mac.hardware</td>\n",
       "    </tr>\n",
       "    <tr>\n",
       "      <th>2</th>\n",
       "      <td>History and classical methods. Modern methods....</td>\n",
       "      <td>sci.crypt</td>\n",
       "    </tr>\n",
       "    <tr>\n",
       "      <th>3</th>\n",
       "      <td>ATTENTION: Mac Quadra owners: Many storage ind...</td>\n",
       "      <td>comp.sys.mac.hardware</td>\n",
       "    </tr>\n",
       "    <tr>\n",
       "      <th>4</th>\n",
       "      <td>To show that the examples I and others have pr...</td>\n",
       "      <td>alt.atheism</td>\n",
       "    </tr>\n",
       "    <tr>\n",
       "      <th>...</th>\n",
       "      <td>...</td>\n",
       "      <td>...</td>\n",
       "    </tr>\n",
       "    <tr>\n",
       "      <th>18841</th>\n",
       "      <td>Why are circuit boards green?  The material us...</td>\n",
       "      <td>sci.electronics</td>\n",
       "    </tr>\n",
       "    <tr>\n",
       "      <th>18842</th>\n",
       "      <td>bike.  Luckily the guy stops a foot behind my ...</td>\n",
       "      <td>rec.motorcycles</td>\n",
       "    </tr>\n",
       "    <tr>\n",
       "      <th>18843</th>\n",
       "      <td>We were told that the resolution on the 5FGe c...</td>\n",
       "      <td>comp.sys.mac.hardware</td>\n",
       "    </tr>\n",
       "    <tr>\n",
       "      <th>18844</th>\n",
       "      <td>CAD Setup For Sale: G486PLB Local Bus Motherbo...</td>\n",
       "      <td>misc.forsale</td>\n",
       "    </tr>\n",
       "    <tr>\n",
       "      <th>18845</th>\n",
       "      <td>&lt;email&gt;  Path: eclipse!yktnews.watson.ibm.com!...</td>\n",
       "      <td>rec.autos</td>\n",
       "    </tr>\n",
       "  </tbody>\n",
       "</table>\n",
       "<p>18846 rows × 2 columns</p>\n",
       "</div>"
      ],
      "text/plain": [
       "                                                    text  \\\n",
       "0      morgan and guzman will have era's 1 run higher...   \n",
       "1      Well, I just got my Centris 610 yesterday.  It...   \n",
       "2      History and classical methods. Modern methods....   \n",
       "3      ATTENTION: Mac Quadra owners: Many storage ind...   \n",
       "4      To show that the examples I and others have pr...   \n",
       "...                                                  ...   \n",
       "18841  Why are circuit boards green?  The material us...   \n",
       "18842  bike.  Luckily the guy stops a foot behind my ...   \n",
       "18843  We were told that the resolution on the 5FGe c...   \n",
       "18844  CAD Setup For Sale: G486PLB Local Bus Motherbo...   \n",
       "18845  <email>  Path: eclipse!yktnews.watson.ibm.com!...   \n",
       "\n",
       "                       group  \n",
       "0         rec.sport.baseball  \n",
       "1      comp.sys.mac.hardware  \n",
       "2                  sci.crypt  \n",
       "3      comp.sys.mac.hardware  \n",
       "4                alt.atheism  \n",
       "...                      ...  \n",
       "18841        sci.electronics  \n",
       "18842        rec.motorcycles  \n",
       "18843  comp.sys.mac.hardware  \n",
       "18844           misc.forsale  \n",
       "18845              rec.autos  \n",
       "\n",
       "[18846 rows x 2 columns]"
      ]
     },
     "execution_count": 3,
     "metadata": {},
     "output_type": "execute_result"
    }
   ],
   "source": [
    "data"
   ]
  },
  {
   "cell_type": "markdown",
   "metadata": {},
   "source": [
    "# Split all data into train and test set"
   ]
  },
  {
   "cell_type": "code",
   "execution_count": 32,
   "metadata": {},
   "outputs": [],
   "source": [
    "from sklearn.model_selection import train_test_split\n",
    "\n",
    "train, test = train_test_split(data, test_size=0.2, random_state=42, stratify=data.group)"
   ]
  },
  {
   "cell_type": "markdown",
   "metadata": {},
   "source": [
    "#### Train Set:"
   ]
  },
  {
   "cell_type": "code",
   "execution_count": 33,
   "metadata": {},
   "outputs": [
    {
     "data": {
      "text/plain": [
       "(15076, 2)"
      ]
     },
     "execution_count": 33,
     "metadata": {},
     "output_type": "execute_result"
    }
   ],
   "source": [
    "train.shape"
   ]
  },
  {
   "cell_type": "markdown",
   "metadata": {},
   "source": [
    "#### Test Set:"
   ]
  },
  {
   "cell_type": "code",
   "execution_count": 34,
   "metadata": {},
   "outputs": [
    {
     "data": {
      "text/plain": [
       "(3770, 2)"
      ]
     },
     "execution_count": 34,
     "metadata": {},
     "output_type": "execute_result"
    }
   ],
   "source": [
    "test.shape"
   ]
  },
  {
   "cell_type": "markdown",
   "metadata": {},
   "source": [
    "#### Train-Set label distribution:"
   ]
  },
  {
   "cell_type": "code",
   "execution_count": 35,
   "metadata": {},
   "outputs": [
    {
     "data": {
      "text/plain": [
       "rec.sport.hockey            799\n",
       "soc.religion.christian      798\n",
       "rec.motorcycles             797\n",
       "rec.sport.baseball          795\n",
       "sci.crypt                   793\n",
       "rec.autos                   792\n",
       "sci.med                     792\n",
       "sci.space                   790\n",
       "comp.windows.x              790\n",
       "comp.os.ms-windows.misc     788\n",
       "sci.electronics             787\n",
       "comp.sys.ibm.pc.hardware    786\n",
       "misc.forsale                780\n",
       "comp.graphics               778\n",
       "comp.sys.mac.hardware       770\n",
       "talk.politics.mideast       752\n",
       "talk.politics.guns          728\n",
       "alt.atheism                 639\n",
       "talk.politics.misc          620\n",
       "talk.religion.misc          502\n",
       "Name: group, dtype: int64"
      ]
     },
     "execution_count": 35,
     "metadata": {},
     "output_type": "execute_result"
    }
   ],
   "source": [
    "train.group.value_counts()"
   ]
  },
  {
   "cell_type": "markdown",
   "metadata": {},
   "source": [
    "#### Test-Set label distribution"
   ]
  },
  {
   "cell_type": "code",
   "execution_count": 8,
   "metadata": {},
   "outputs": [
    {
     "data": {
      "text/plain": [
       "rec.sport.hockey            200\n",
       "rec.sport.baseball          199\n",
       "rec.motorcycles             199\n",
       "soc.religion.christian      199\n",
       "comp.windows.x              198\n",
       "rec.autos                   198\n",
       "sci.crypt                   198\n",
       "sci.med                     198\n",
       "sci.electronics             197\n",
       "sci.space                   197\n",
       "comp.os.ms-windows.misc     197\n",
       "comp.sys.ibm.pc.hardware    196\n",
       "comp.graphics               195\n",
       "misc.forsale                195\n",
       "comp.sys.mac.hardware       193\n",
       "talk.politics.mideast       188\n",
       "talk.politics.guns          182\n",
       "alt.atheism                 160\n",
       "talk.politics.misc          155\n",
       "talk.religion.misc          126\n",
       "Name: group, dtype: int64"
      ]
     },
     "execution_count": 8,
     "metadata": {},
     "output_type": "execute_result"
    }
   ],
   "source": [
    "test.group.value_counts()"
   ]
  },
  {
   "cell_type": "markdown",
   "metadata": {},
   "source": [
    "# Encode text using bag of words"
   ]
  },
  {
   "cell_type": "code",
   "execution_count": 9,
   "metadata": {},
   "outputs": [],
   "source": [
    "from sklearn.feature_extraction.text import CountVectorizer\n",
    "import pandas as pd\n",
    "\n",
    "cv = CountVectorizer(max_features=20).fit(train.text)"
   ]
  },
  {
   "cell_type": "code",
   "execution_count": 10,
   "metadata": {},
   "outputs": [
    {
     "data": {
      "text/plain": [
       "[(0, 'and'),\n",
       " (1, 'are'),\n",
       " (2, 'as'),\n",
       " (3, 'ax'),\n",
       " (4, 'be'),\n",
       " (5, 'email'),\n",
       " (6, 'for'),\n",
       " (7, 'have'),\n",
       " (8, 'in'),\n",
       " (9, 'is'),\n",
       " (10, 'it'),\n",
       " (11, 'not'),\n",
       " (12, 'of'),\n",
       " (13, 'on'),\n",
       " (14, 'that'),\n",
       " (15, 'the'),\n",
       " (16, 'this'),\n",
       " (17, 'to'),\n",
       " (18, 'with'),\n",
       " (19, 'you')]"
      ]
     },
     "execution_count": 10,
     "metadata": {},
     "output_type": "execute_result"
    }
   ],
   "source": [
    "keys = sorted((key, token) for token, key in cv.vocabulary_.items())\n",
    "keys"
   ]
  },
  {
   "cell_type": "code",
   "execution_count": 42,
   "metadata": {},
   "outputs": [],
   "source": [
    "samples = ['this is an email', 'be not afraid', 'may force be with you and you']\n",
    "encoded = pd.DataFrame(data = cv.transform(samples).toarray(), columns = [token for key, token in keys])"
   ]
  },
  {
   "cell_type": "markdown",
   "metadata": {},
   "source": [
    "# Encode text using TF-IDF"
   ]
  },
  {
   "cell_type": "markdown",
   "metadata": {},
   "source": [
    "Consider a document containing 100 words wherein the word ’cat’ appears 3 times. Assume we have 10 million documents and the word ’cat’ appears in one thousand of these. Calculate TF-idf for the term ‘cat’\n",
    "1. Tf = 3 / 100 = 0.03\n",
    "2. Idf = log(10000000 / 1000) = 4.0\n",
    "3. TfIdf = Tf * Idf = 0.03 * 4.0 = 0.12"
   ]
  },
  {
   "cell_type": "code",
   "execution_count": 45,
   "metadata": {},
   "outputs": [
    {
     "name": "stdout",
     "output_type": "stream",
     "text": [
      "TfidfVectorizer(analyzer='word', binary=False, decode_error='strict',\n",
      "                dtype=<class 'numpy.float64'>, encoding='utf-8',\n",
      "                input='content', lowercase=True, max_df=1.0, max_features=20,\n",
      "                min_df=1, ngram_range=(1, 1), norm='l2', preprocessor=None,\n",
      "                smooth_idf=True, stop_words=None, strip_accents=None,\n",
      "                sublinear_tf=False, token_pattern='(?u)\\\\b\\\\w\\\\w+\\\\b',\n",
      "                tokenizer=None, use_idf=True, vocabulary=None)\n"
     ]
    }
   ],
   "source": [
    "from sklearn.feature_extraction.text import TfidfVectorizer\n",
    "\n",
    "tfidf = TfidfVectorizer(max_features=20).fit(train.text)"
   ]
  },
  {
   "cell_type": "code",
   "execution_count": 13,
   "metadata": {},
   "outputs": [
    {
     "data": {
      "text/plain": [
       "[(0, 'and'),\n",
       " (1, 'are'),\n",
       " (2, 'as'),\n",
       " (3, 'ax'),\n",
       " (4, 'be'),\n",
       " (5, 'email'),\n",
       " (6, 'for'),\n",
       " (7, 'have'),\n",
       " (8, 'in'),\n",
       " (9, 'is'),\n",
       " (10, 'it'),\n",
       " (11, 'not'),\n",
       " (12, 'of'),\n",
       " (13, 'on'),\n",
       " (14, 'that'),\n",
       " (15, 'the'),\n",
       " (16, 'this'),\n",
       " (17, 'to'),\n",
       " (18, 'with'),\n",
       " (19, 'you')]"
      ]
     },
     "execution_count": 13,
     "metadata": {},
     "output_type": "execute_result"
    }
   ],
   "source": [
    "keys = sorted((key, token) for token, key in tfidf.vocabulary_.items())\n",
    "keys"
   ]
  },
  {
   "cell_type": "code",
   "execution_count": 14,
   "metadata": {},
   "outputs": [
    {
     "data": {
      "text/html": [
       "<div>\n",
       "<style scoped>\n",
       "    .dataframe tbody tr th:only-of-type {\n",
       "        vertical-align: middle;\n",
       "    }\n",
       "\n",
       "    .dataframe tbody tr th {\n",
       "        vertical-align: top;\n",
       "    }\n",
       "\n",
       "    .dataframe thead th {\n",
       "        text-align: right;\n",
       "    }\n",
       "</style>\n",
       "<table border=\"1\" class=\"dataframe\">\n",
       "  <thead>\n",
       "    <tr style=\"text-align: right;\">\n",
       "      <th></th>\n",
       "      <th>and</th>\n",
       "      <th>are</th>\n",
       "      <th>as</th>\n",
       "      <th>ax</th>\n",
       "      <th>be</th>\n",
       "      <th>email</th>\n",
       "      <th>for</th>\n",
       "      <th>have</th>\n",
       "      <th>in</th>\n",
       "      <th>is</th>\n",
       "      <th>it</th>\n",
       "      <th>not</th>\n",
       "      <th>of</th>\n",
       "      <th>on</th>\n",
       "      <th>that</th>\n",
       "      <th>the</th>\n",
       "      <th>this</th>\n",
       "      <th>to</th>\n",
       "      <th>with</th>\n",
       "      <th>you</th>\n",
       "    </tr>\n",
       "  </thead>\n",
       "  <tbody>\n",
       "    <tr>\n",
       "      <th>0</th>\n",
       "      <td>0.000000</td>\n",
       "      <td>0.0</td>\n",
       "      <td>0.0</td>\n",
       "      <td>0.0</td>\n",
       "      <td>0.000000</td>\n",
       "      <td>0.580743</td>\n",
       "      <td>0.0</td>\n",
       "      <td>0.0</td>\n",
       "      <td>0.0</td>\n",
       "      <td>0.525736</td>\n",
       "      <td>0.0</td>\n",
       "      <td>0.000000</td>\n",
       "      <td>0.0</td>\n",
       "      <td>0.0</td>\n",
       "      <td>0.0</td>\n",
       "      <td>0.0</td>\n",
       "      <td>0.621563</td>\n",
       "      <td>0.0</td>\n",
       "      <td>0.000000</td>\n",
       "      <td>0.000000</td>\n",
       "    </tr>\n",
       "    <tr>\n",
       "      <th>1</th>\n",
       "      <td>0.000000</td>\n",
       "      <td>0.0</td>\n",
       "      <td>0.0</td>\n",
       "      <td>0.0</td>\n",
       "      <td>0.696696</td>\n",
       "      <td>0.000000</td>\n",
       "      <td>0.0</td>\n",
       "      <td>0.0</td>\n",
       "      <td>0.0</td>\n",
       "      <td>0.000000</td>\n",
       "      <td>0.0</td>\n",
       "      <td>0.717367</td>\n",
       "      <td>0.0</td>\n",
       "      <td>0.0</td>\n",
       "      <td>0.0</td>\n",
       "      <td>0.0</td>\n",
       "      <td>0.000000</td>\n",
       "      <td>0.0</td>\n",
       "      <td>0.000000</td>\n",
       "      <td>0.000000</td>\n",
       "    </tr>\n",
       "    <tr>\n",
       "      <th>2</th>\n",
       "      <td>0.297537</td>\n",
       "      <td>0.0</td>\n",
       "      <td>0.0</td>\n",
       "      <td>0.0</td>\n",
       "      <td>0.391901</td>\n",
       "      <td>0.000000</td>\n",
       "      <td>0.0</td>\n",
       "      <td>0.0</td>\n",
       "      <td>0.0</td>\n",
       "      <td>0.000000</td>\n",
       "      <td>0.0</td>\n",
       "      <td>0.000000</td>\n",
       "      <td>0.0</td>\n",
       "      <td>0.0</td>\n",
       "      <td>0.0</td>\n",
       "      <td>0.0</td>\n",
       "      <td>0.000000</td>\n",
       "      <td>0.0</td>\n",
       "      <td>0.396685</td>\n",
       "      <td>0.774936</td>\n",
       "    </tr>\n",
       "  </tbody>\n",
       "</table>\n",
       "</div>"
      ],
      "text/plain": [
       "        and  are   as   ax        be     email  for  have   in        is   it  \\\n",
       "0  0.000000  0.0  0.0  0.0  0.000000  0.580743  0.0   0.0  0.0  0.525736  0.0   \n",
       "1  0.000000  0.0  0.0  0.0  0.696696  0.000000  0.0   0.0  0.0  0.000000  0.0   \n",
       "2  0.297537  0.0  0.0  0.0  0.391901  0.000000  0.0   0.0  0.0  0.000000  0.0   \n",
       "\n",
       "        not   of   on  that  the      this   to      with       you  \n",
       "0  0.000000  0.0  0.0   0.0  0.0  0.621563  0.0  0.000000  0.000000  \n",
       "1  0.717367  0.0  0.0   0.0  0.0  0.000000  0.0  0.000000  0.000000  \n",
       "2  0.000000  0.0  0.0   0.0  0.0  0.000000  0.0  0.396685  0.774936  "
      ]
     },
     "execution_count": 14,
     "metadata": {},
     "output_type": "execute_result"
    }
   ],
   "source": [
    "samples = ['this is an email', 'be not afraid', 'may force be with you and you']\n",
    "encoded = pd.DataFrame(data = tfidf.transform(samples).toarray(), columns = [token for key, token in keys])\n",
    "encoded"
   ]
  },
  {
   "cell_type": "markdown",
   "metadata": {},
   "source": [
    "#### Vocabulary"
   ]
  },
  {
   "cell_type": "code",
   "execution_count": 15,
   "metadata": {},
   "outputs": [
    {
     "data": {
      "text/plain": [
       "10000"
      ]
     },
     "execution_count": 15,
     "metadata": {},
     "output_type": "execute_result"
    }
   ],
   "source": [
    "tfidf = TfidfVectorizer(max_features=10000).fit(train.text)\n",
    "len(tfidf.vocabulary_)"
   ]
  },
  {
   "cell_type": "markdown",
   "metadata": {},
   "source": [
    "#### Encode train and test sets using same vocabulary"
   ]
  },
  {
   "cell_type": "code",
   "execution_count": 16,
   "metadata": {},
   "outputs": [
    {
     "name": "stdout",
     "output_type": "stream",
     "text": [
      "X_train shape: (15076, 10000)\n",
      "X_test shape: (3770, 10000)\n"
     ]
    }
   ],
   "source": [
    "X_train = tfidf.transform(train.text).toarray()\n",
    "print('X_train shape: %s' % (X_train.shape,))\n",
    "\n",
    "X_test = tfidf.transform(test.text).toarray()\n",
    "print('X_test shape: %s' % (X_test.shape,))"
   ]
  },
  {
   "cell_type": "markdown",
   "metadata": {},
   "source": [
    "# Convert labels to integer values"
   ]
  },
  {
   "cell_type": "markdown",
   "metadata": {},
   "source": [
    "#### Fit label encoder:"
   ]
  },
  {
   "cell_type": "code",
   "execution_count": 17,
   "metadata": {},
   "outputs": [],
   "source": [
    "from sklearn.preprocessing import LabelEncoder\n",
    "\n",
    "label_encoder = LabelEncoder().fit(train.group)"
   ]
  },
  {
   "cell_type": "markdown",
   "metadata": {},
   "source": [
    "#### Known labels:"
   ]
  },
  {
   "cell_type": "code",
   "execution_count": 18,
   "metadata": {},
   "outputs": [
    {
     "data": {
      "text/plain": [
       "array(['alt.atheism', 'comp.graphics', 'comp.os.ms-windows.misc',\n",
       "       'comp.sys.ibm.pc.hardware', 'comp.sys.mac.hardware',\n",
       "       'comp.windows.x', 'misc.forsale', 'rec.autos', 'rec.motorcycles',\n",
       "       'rec.sport.baseball', 'rec.sport.hockey', 'sci.crypt',\n",
       "       'sci.electronics', 'sci.med', 'sci.space',\n",
       "       'soc.religion.christian', 'talk.politics.guns',\n",
       "       'talk.politics.mideast', 'talk.politics.misc',\n",
       "       'talk.religion.misc'], dtype=object)"
      ]
     },
     "execution_count": 18,
     "metadata": {},
     "output_type": "execute_result"
    }
   ],
   "source": [
    "label_encoder.classes_"
   ]
  },
  {
   "cell_type": "markdown",
   "metadata": {},
   "source": [
    "#### Convert labels using encoder:"
   ]
  },
  {
   "cell_type": "code",
   "execution_count": 19,
   "metadata": {},
   "outputs": [
    {
     "name": "stdout",
     "output_type": "stream",
     "text": [
      "Y_train shape: (15076,)\n",
      "Y_test shape: (3770,)\n"
     ]
    }
   ],
   "source": [
    "Y_train = label_encoder.transform(train.group)\n",
    "print('Y_train shape: %s' % (Y_train.shape,))\n",
    "\n",
    "Y_test = label_encoder.transform(test.group)\n",
    "print('Y_test shape: %s' % (Y_test.shape,))"
   ]
  },
  {
   "cell_type": "markdown",
   "metadata": {},
   "source": [
    "# Naive Bayes"
   ]
  },
  {
   "cell_type": "code",
   "execution_count": 60,
   "metadata": {},
   "outputs": [],
   "source": [
    "from sklearn.naive_bayes import MultinomialNB\n",
    "clf = MultinomialNB().fit(X_train, Y_train)\n",
    "# from NeuralNetwork import NeuralNet\n",
    "\n",
    "# cls = NeuralNet((10, ), normalize=False, learning_rate=0.1, num_iter = 1)\n",
    "# cls.fit(X_train, Y_train, epsilon=1e-15)\n"
   ]
  },
  {
   "cell_type": "markdown",
   "metadata": {},
   "source": [
    "#### Train report:"
   ]
  },
  {
   "cell_type": "code",
   "execution_count": 61,
   "metadata": {},
   "outputs": [
    {
     "name": "stdout",
     "output_type": "stream",
     "text": [
      "                          precision    recall  f1-score   support\n",
      "\n",
      "             alt.atheism       0.88      0.72      0.79       639\n",
      "           comp.graphics       0.84      0.85      0.85       778\n",
      " comp.os.ms-windows.misc       0.83      0.86      0.85       788\n",
      "comp.sys.ibm.pc.hardware       0.79      0.88      0.83       786\n",
      "   comp.sys.mac.hardware       0.92      0.89      0.91       770\n",
      "          comp.windows.x       0.92      0.88      0.90       790\n",
      "            misc.forsale       0.90      0.80      0.85       780\n",
      "               rec.autos       0.91      0.94      0.92       792\n",
      "         rec.motorcycles       0.96      0.95      0.96       797\n",
      "      rec.sport.baseball       0.96      0.97      0.97       795\n",
      "        rec.sport.hockey       0.94      0.98      0.96       799\n",
      "               sci.crypt       0.91      0.95      0.93       793\n",
      "         sci.electronics       0.88      0.84      0.86       787\n",
      "                 sci.med       0.94      0.95      0.95       792\n",
      "               sci.space       0.95      0.93      0.94       790\n",
      "  soc.religion.christian       0.59      0.97      0.74       798\n",
      "      talk.politics.guns       0.75      0.96      0.84       728\n",
      "   talk.politics.mideast       0.92      0.95      0.94       752\n",
      "      talk.politics.misc       0.97      0.67      0.79       620\n",
      "      talk.religion.misc       1.00      0.10      0.18       502\n",
      "\n",
      "                accuracy                           0.87     15076\n",
      "               macro avg       0.89      0.85      0.85     15076\n",
      "            weighted avg       0.89      0.87      0.86     15076\n",
      "\n"
     ]
    }
   ],
   "source": [
    "from sklearn.metrics import classification_report\n",
    "\n",
    "print(classification_report(Y_train, clf.predict(X_train), target_names=label_encoder.classes_))"
   ]
  },
  {
   "cell_type": "markdown",
   "metadata": {},
   "source": [
    "#### Test report:"
   ]
  },
  {
   "cell_type": "code",
   "execution_count": 22,
   "metadata": {},
   "outputs": [
    {
     "name": "stdout",
     "output_type": "stream",
     "text": [
      "                          precision    recall  f1-score   support\n",
      "\n",
      "             alt.atheism       0.79      0.58      0.67       160\n",
      "           comp.graphics       0.72      0.79      0.76       195\n",
      " comp.os.ms-windows.misc       0.77      0.77      0.77       197\n",
      "comp.sys.ibm.pc.hardware       0.69      0.79      0.73       196\n",
      "   comp.sys.mac.hardware       0.85      0.77      0.81       193\n",
      "          comp.windows.x       0.84      0.82      0.83       198\n",
      "            misc.forsale       0.89      0.75      0.81       195\n",
      "               rec.autos       0.87      0.86      0.86       198\n",
      "         rec.motorcycles       0.88      0.90      0.89       199\n",
      "      rec.sport.baseball       0.95      0.95      0.95       199\n",
      "        rec.sport.hockey       0.93      0.93      0.93       200\n",
      "               sci.crypt       0.85      0.91      0.88       198\n",
      "         sci.electronics       0.82      0.77      0.79       197\n",
      "                 sci.med       0.94      0.88      0.91       198\n",
      "               sci.space       0.91      0.91      0.91       197\n",
      "  soc.religion.christian       0.52      0.96      0.68       199\n",
      "      talk.politics.guns       0.67      0.95      0.79       182\n",
      "   talk.politics.mideast       0.89      0.92      0.90       188\n",
      "      talk.politics.misc       0.94      0.52      0.67       155\n",
      "      talk.religion.misc       1.00      0.04      0.08       126\n",
      "\n",
      "                accuracy                           0.81      3770\n",
      "               macro avg       0.84      0.79      0.78      3770\n",
      "            weighted avg       0.83      0.81      0.80      3770\n",
      "\n"
     ]
    }
   ],
   "source": [
    "print(classification_report(Y_test, clf.predict(X_test), target_names=label_encoder.classes_))"
   ]
  },
  {
   "cell_type": "code",
   "execution_count": 23,
   "metadata": {},
   "outputs": [
    {
     "data": {
      "text/html": [
       "<div>\n",
       "<style scoped>\n",
       "    .dataframe tbody tr th:only-of-type {\n",
       "        vertical-align: middle;\n",
       "    }\n",
       "\n",
       "    .dataframe tbody tr th {\n",
       "        vertical-align: top;\n",
       "    }\n",
       "\n",
       "    .dataframe thead th {\n",
       "        text-align: right;\n",
       "    }\n",
       "</style>\n",
       "<table border=\"1\" class=\"dataframe\">\n",
       "  <thead>\n",
       "    <tr style=\"text-align: right;\">\n",
       "      <th></th>\n",
       "      <th>alt.atheism</th>\n",
       "      <th>comp.graphics</th>\n",
       "      <th>comp.os.ms-windows.misc</th>\n",
       "      <th>comp.sys.ibm.pc.hardware</th>\n",
       "      <th>comp.sys.mac.hardware</th>\n",
       "      <th>comp.windows.x</th>\n",
       "      <th>misc.forsale</th>\n",
       "      <th>rec.autos</th>\n",
       "      <th>rec.motorcycles</th>\n",
       "      <th>rec.sport.baseball</th>\n",
       "      <th>rec.sport.hockey</th>\n",
       "      <th>sci.crypt</th>\n",
       "      <th>sci.electronics</th>\n",
       "      <th>sci.med</th>\n",
       "      <th>sci.space</th>\n",
       "      <th>soc.religion.christian</th>\n",
       "      <th>talk.politics.guns</th>\n",
       "      <th>talk.politics.mideast</th>\n",
       "      <th>talk.politics.misc</th>\n",
       "      <th>talk.religion.misc</th>\n",
       "    </tr>\n",
       "  </thead>\n",
       "  <tbody>\n",
       "    <tr>\n",
       "      <th>alt.atheism</th>\n",
       "      <td>93</td>\n",
       "      <td>1</td>\n",
       "      <td>0</td>\n",
       "      <td>0</td>\n",
       "      <td>1</td>\n",
       "      <td>0</td>\n",
       "      <td>0</td>\n",
       "      <td>0</td>\n",
       "      <td>2</td>\n",
       "      <td>0</td>\n",
       "      <td>0</td>\n",
       "      <td>0</td>\n",
       "      <td>0</td>\n",
       "      <td>0</td>\n",
       "      <td>0</td>\n",
       "      <td>50</td>\n",
       "      <td>7</td>\n",
       "      <td>6</td>\n",
       "      <td>0</td>\n",
       "      <td>0</td>\n",
       "    </tr>\n",
       "    <tr>\n",
       "      <th>comp.graphics</th>\n",
       "      <td>0</td>\n",
       "      <td>155</td>\n",
       "      <td>7</td>\n",
       "      <td>7</td>\n",
       "      <td>2</td>\n",
       "      <td>10</td>\n",
       "      <td>1</td>\n",
       "      <td>1</td>\n",
       "      <td>2</td>\n",
       "      <td>0</td>\n",
       "      <td>2</td>\n",
       "      <td>4</td>\n",
       "      <td>1</td>\n",
       "      <td>1</td>\n",
       "      <td>1</td>\n",
       "      <td>1</td>\n",
       "      <td>0</td>\n",
       "      <td>0</td>\n",
       "      <td>0</td>\n",
       "      <td>0</td>\n",
       "    </tr>\n",
       "    <tr>\n",
       "      <th>comp.os.ms-windows.misc</th>\n",
       "      <td>1</td>\n",
       "      <td>9</td>\n",
       "      <td>151</td>\n",
       "      <td>18</td>\n",
       "      <td>2</td>\n",
       "      <td>9</td>\n",
       "      <td>1</td>\n",
       "      <td>1</td>\n",
       "      <td>1</td>\n",
       "      <td>0</td>\n",
       "      <td>0</td>\n",
       "      <td>2</td>\n",
       "      <td>1</td>\n",
       "      <td>0</td>\n",
       "      <td>1</td>\n",
       "      <td>0</td>\n",
       "      <td>0</td>\n",
       "      <td>0</td>\n",
       "      <td>0</td>\n",
       "      <td>0</td>\n",
       "    </tr>\n",
       "    <tr>\n",
       "      <th>comp.sys.ibm.pc.hardware</th>\n",
       "      <td>0</td>\n",
       "      <td>5</td>\n",
       "      <td>13</td>\n",
       "      <td>154</td>\n",
       "      <td>9</td>\n",
       "      <td>3</td>\n",
       "      <td>3</td>\n",
       "      <td>1</td>\n",
       "      <td>1</td>\n",
       "      <td>0</td>\n",
       "      <td>1</td>\n",
       "      <td>1</td>\n",
       "      <td>5</td>\n",
       "      <td>0</td>\n",
       "      <td>0</td>\n",
       "      <td>0</td>\n",
       "      <td>0</td>\n",
       "      <td>0</td>\n",
       "      <td>0</td>\n",
       "      <td>0</td>\n",
       "    </tr>\n",
       "    <tr>\n",
       "      <th>comp.sys.mac.hardware</th>\n",
       "      <td>0</td>\n",
       "      <td>3</td>\n",
       "      <td>6</td>\n",
       "      <td>18</td>\n",
       "      <td>148</td>\n",
       "      <td>1</td>\n",
       "      <td>2</td>\n",
       "      <td>1</td>\n",
       "      <td>0</td>\n",
       "      <td>1</td>\n",
       "      <td>1</td>\n",
       "      <td>3</td>\n",
       "      <td>8</td>\n",
       "      <td>0</td>\n",
       "      <td>0</td>\n",
       "      <td>1</td>\n",
       "      <td>0</td>\n",
       "      <td>0</td>\n",
       "      <td>0</td>\n",
       "      <td>0</td>\n",
       "    </tr>\n",
       "    <tr>\n",
       "      <th>comp.windows.x</th>\n",
       "      <td>0</td>\n",
       "      <td>16</td>\n",
       "      <td>3</td>\n",
       "      <td>7</td>\n",
       "      <td>0</td>\n",
       "      <td>163</td>\n",
       "      <td>0</td>\n",
       "      <td>1</td>\n",
       "      <td>0</td>\n",
       "      <td>0</td>\n",
       "      <td>1</td>\n",
       "      <td>2</td>\n",
       "      <td>1</td>\n",
       "      <td>0</td>\n",
       "      <td>3</td>\n",
       "      <td>1</td>\n",
       "      <td>0</td>\n",
       "      <td>0</td>\n",
       "      <td>0</td>\n",
       "      <td>0</td>\n",
       "    </tr>\n",
       "    <tr>\n",
       "      <th>misc.forsale</th>\n",
       "      <td>0</td>\n",
       "      <td>1</td>\n",
       "      <td>1</td>\n",
       "      <td>12</td>\n",
       "      <td>5</td>\n",
       "      <td>1</td>\n",
       "      <td>147</td>\n",
       "      <td>4</td>\n",
       "      <td>6</td>\n",
       "      <td>0</td>\n",
       "      <td>4</td>\n",
       "      <td>5</td>\n",
       "      <td>6</td>\n",
       "      <td>0</td>\n",
       "      <td>2</td>\n",
       "      <td>1</td>\n",
       "      <td>0</td>\n",
       "      <td>0</td>\n",
       "      <td>0</td>\n",
       "      <td>0</td>\n",
       "    </tr>\n",
       "    <tr>\n",
       "      <th>rec.autos</th>\n",
       "      <td>0</td>\n",
       "      <td>1</td>\n",
       "      <td>2</td>\n",
       "      <td>1</td>\n",
       "      <td>0</td>\n",
       "      <td>1</td>\n",
       "      <td>3</td>\n",
       "      <td>170</td>\n",
       "      <td>6</td>\n",
       "      <td>1</td>\n",
       "      <td>1</td>\n",
       "      <td>0</td>\n",
       "      <td>2</td>\n",
       "      <td>3</td>\n",
       "      <td>0</td>\n",
       "      <td>4</td>\n",
       "      <td>3</td>\n",
       "      <td>0</td>\n",
       "      <td>0</td>\n",
       "      <td>0</td>\n",
       "    </tr>\n",
       "    <tr>\n",
       "      <th>rec.motorcycles</th>\n",
       "      <td>0</td>\n",
       "      <td>3</td>\n",
       "      <td>0</td>\n",
       "      <td>0</td>\n",
       "      <td>0</td>\n",
       "      <td>0</td>\n",
       "      <td>1</td>\n",
       "      <td>7</td>\n",
       "      <td>180</td>\n",
       "      <td>0</td>\n",
       "      <td>0</td>\n",
       "      <td>0</td>\n",
       "      <td>1</td>\n",
       "      <td>0</td>\n",
       "      <td>2</td>\n",
       "      <td>3</td>\n",
       "      <td>2</td>\n",
       "      <td>0</td>\n",
       "      <td>0</td>\n",
       "      <td>0</td>\n",
       "    </tr>\n",
       "    <tr>\n",
       "      <th>rec.sport.baseball</th>\n",
       "      <td>0</td>\n",
       "      <td>0</td>\n",
       "      <td>2</td>\n",
       "      <td>0</td>\n",
       "      <td>0</td>\n",
       "      <td>0</td>\n",
       "      <td>1</td>\n",
       "      <td>0</td>\n",
       "      <td>1</td>\n",
       "      <td>190</td>\n",
       "      <td>3</td>\n",
       "      <td>0</td>\n",
       "      <td>0</td>\n",
       "      <td>0</td>\n",
       "      <td>0</td>\n",
       "      <td>0</td>\n",
       "      <td>1</td>\n",
       "      <td>0</td>\n",
       "      <td>1</td>\n",
       "      <td>0</td>\n",
       "    </tr>\n",
       "    <tr>\n",
       "      <th>rec.sport.hockey</th>\n",
       "      <td>0</td>\n",
       "      <td>2</td>\n",
       "      <td>0</td>\n",
       "      <td>0</td>\n",
       "      <td>0</td>\n",
       "      <td>0</td>\n",
       "      <td>1</td>\n",
       "      <td>0</td>\n",
       "      <td>0</td>\n",
       "      <td>6</td>\n",
       "      <td>185</td>\n",
       "      <td>0</td>\n",
       "      <td>1</td>\n",
       "      <td>1</td>\n",
       "      <td>0</td>\n",
       "      <td>4</td>\n",
       "      <td>0</td>\n",
       "      <td>0</td>\n",
       "      <td>0</td>\n",
       "      <td>0</td>\n",
       "    </tr>\n",
       "    <tr>\n",
       "      <th>sci.crypt</th>\n",
       "      <td>0</td>\n",
       "      <td>3</td>\n",
       "      <td>3</td>\n",
       "      <td>0</td>\n",
       "      <td>0</td>\n",
       "      <td>2</td>\n",
       "      <td>0</td>\n",
       "      <td>1</td>\n",
       "      <td>0</td>\n",
       "      <td>0</td>\n",
       "      <td>0</td>\n",
       "      <td>180</td>\n",
       "      <td>2</td>\n",
       "      <td>1</td>\n",
       "      <td>1</td>\n",
       "      <td>2</td>\n",
       "      <td>2</td>\n",
       "      <td>1</td>\n",
       "      <td>0</td>\n",
       "      <td>0</td>\n",
       "    </tr>\n",
       "    <tr>\n",
       "      <th>sci.electronics</th>\n",
       "      <td>0</td>\n",
       "      <td>7</td>\n",
       "      <td>5</td>\n",
       "      <td>7</td>\n",
       "      <td>6</td>\n",
       "      <td>1</td>\n",
       "      <td>5</td>\n",
       "      <td>6</td>\n",
       "      <td>0</td>\n",
       "      <td>0</td>\n",
       "      <td>2</td>\n",
       "      <td>5</td>\n",
       "      <td>151</td>\n",
       "      <td>0</td>\n",
       "      <td>0</td>\n",
       "      <td>0</td>\n",
       "      <td>1</td>\n",
       "      <td>0</td>\n",
       "      <td>1</td>\n",
       "      <td>0</td>\n",
       "    </tr>\n",
       "    <tr>\n",
       "      <th>sci.med</th>\n",
       "      <td>1</td>\n",
       "      <td>3</td>\n",
       "      <td>1</td>\n",
       "      <td>0</td>\n",
       "      <td>1</td>\n",
       "      <td>0</td>\n",
       "      <td>0</td>\n",
       "      <td>0</td>\n",
       "      <td>0</td>\n",
       "      <td>0</td>\n",
       "      <td>0</td>\n",
       "      <td>2</td>\n",
       "      <td>3</td>\n",
       "      <td>174</td>\n",
       "      <td>2</td>\n",
       "      <td>8</td>\n",
       "      <td>1</td>\n",
       "      <td>2</td>\n",
       "      <td>0</td>\n",
       "      <td>0</td>\n",
       "    </tr>\n",
       "    <tr>\n",
       "      <th>sci.space</th>\n",
       "      <td>0</td>\n",
       "      <td>3</td>\n",
       "      <td>1</td>\n",
       "      <td>0</td>\n",
       "      <td>0</td>\n",
       "      <td>1</td>\n",
       "      <td>0</td>\n",
       "      <td>1</td>\n",
       "      <td>0</td>\n",
       "      <td>0</td>\n",
       "      <td>0</td>\n",
       "      <td>2</td>\n",
       "      <td>2</td>\n",
       "      <td>3</td>\n",
       "      <td>179</td>\n",
       "      <td>2</td>\n",
       "      <td>2</td>\n",
       "      <td>1</td>\n",
       "      <td>0</td>\n",
       "      <td>0</td>\n",
       "    </tr>\n",
       "    <tr>\n",
       "      <th>soc.religion.christian</th>\n",
       "      <td>1</td>\n",
       "      <td>0</td>\n",
       "      <td>0</td>\n",
       "      <td>0</td>\n",
       "      <td>0</td>\n",
       "      <td>1</td>\n",
       "      <td>0</td>\n",
       "      <td>1</td>\n",
       "      <td>0</td>\n",
       "      <td>0</td>\n",
       "      <td>0</td>\n",
       "      <td>0</td>\n",
       "      <td>0</td>\n",
       "      <td>1</td>\n",
       "      <td>0</td>\n",
       "      <td>191</td>\n",
       "      <td>1</td>\n",
       "      <td>3</td>\n",
       "      <td>0</td>\n",
       "      <td>0</td>\n",
       "    </tr>\n",
       "    <tr>\n",
       "      <th>talk.politics.guns</th>\n",
       "      <td>0</td>\n",
       "      <td>0</td>\n",
       "      <td>0</td>\n",
       "      <td>0</td>\n",
       "      <td>0</td>\n",
       "      <td>0</td>\n",
       "      <td>1</td>\n",
       "      <td>0</td>\n",
       "      <td>1</td>\n",
       "      <td>0</td>\n",
       "      <td>0</td>\n",
       "      <td>2</td>\n",
       "      <td>0</td>\n",
       "      <td>0</td>\n",
       "      <td>0</td>\n",
       "      <td>3</td>\n",
       "      <td>172</td>\n",
       "      <td>1</td>\n",
       "      <td>2</td>\n",
       "      <td>0</td>\n",
       "    </tr>\n",
       "    <tr>\n",
       "      <th>talk.politics.mideast</th>\n",
       "      <td>0</td>\n",
       "      <td>0</td>\n",
       "      <td>0</td>\n",
       "      <td>0</td>\n",
       "      <td>0</td>\n",
       "      <td>1</td>\n",
       "      <td>0</td>\n",
       "      <td>0</td>\n",
       "      <td>0</td>\n",
       "      <td>0</td>\n",
       "      <td>0</td>\n",
       "      <td>0</td>\n",
       "      <td>0</td>\n",
       "      <td>0</td>\n",
       "      <td>0</td>\n",
       "      <td>11</td>\n",
       "      <td>2</td>\n",
       "      <td>173</td>\n",
       "      <td>1</td>\n",
       "      <td>0</td>\n",
       "    </tr>\n",
       "    <tr>\n",
       "      <th>talk.politics.misc</th>\n",
       "      <td>0</td>\n",
       "      <td>3</td>\n",
       "      <td>1</td>\n",
       "      <td>0</td>\n",
       "      <td>0</td>\n",
       "      <td>0</td>\n",
       "      <td>0</td>\n",
       "      <td>1</td>\n",
       "      <td>2</td>\n",
       "      <td>1</td>\n",
       "      <td>0</td>\n",
       "      <td>5</td>\n",
       "      <td>0</td>\n",
       "      <td>1</td>\n",
       "      <td>3</td>\n",
       "      <td>8</td>\n",
       "      <td>43</td>\n",
       "      <td>7</td>\n",
       "      <td>80</td>\n",
       "      <td>0</td>\n",
       "    </tr>\n",
       "    <tr>\n",
       "      <th>talk.religion.misc</th>\n",
       "      <td>21</td>\n",
       "      <td>0</td>\n",
       "      <td>0</td>\n",
       "      <td>0</td>\n",
       "      <td>0</td>\n",
       "      <td>1</td>\n",
       "      <td>0</td>\n",
       "      <td>0</td>\n",
       "      <td>2</td>\n",
       "      <td>0</td>\n",
       "      <td>0</td>\n",
       "      <td>0</td>\n",
       "      <td>1</td>\n",
       "      <td>0</td>\n",
       "      <td>2</td>\n",
       "      <td>75</td>\n",
       "      <td>18</td>\n",
       "      <td>1</td>\n",
       "      <td>0</td>\n",
       "      <td>5</td>\n",
       "    </tr>\n",
       "  </tbody>\n",
       "</table>\n",
       "</div>"
      ],
      "text/plain": [
       "                          alt.atheism  comp.graphics  comp.os.ms-windows.misc  \\\n",
       "alt.atheism                        93              1                        0   \n",
       "comp.graphics                       0            155                        7   \n",
       "comp.os.ms-windows.misc             1              9                      151   \n",
       "comp.sys.ibm.pc.hardware            0              5                       13   \n",
       "comp.sys.mac.hardware               0              3                        6   \n",
       "comp.windows.x                      0             16                        3   \n",
       "misc.forsale                        0              1                        1   \n",
       "rec.autos                           0              1                        2   \n",
       "rec.motorcycles                     0              3                        0   \n",
       "rec.sport.baseball                  0              0                        2   \n",
       "rec.sport.hockey                    0              2                        0   \n",
       "sci.crypt                           0              3                        3   \n",
       "sci.electronics                     0              7                        5   \n",
       "sci.med                             1              3                        1   \n",
       "sci.space                           0              3                        1   \n",
       "soc.religion.christian              1              0                        0   \n",
       "talk.politics.guns                  0              0                        0   \n",
       "talk.politics.mideast               0              0                        0   \n",
       "talk.politics.misc                  0              3                        1   \n",
       "talk.religion.misc                 21              0                        0   \n",
       "\n",
       "                          comp.sys.ibm.pc.hardware  comp.sys.mac.hardware  \\\n",
       "alt.atheism                                      0                      1   \n",
       "comp.graphics                                    7                      2   \n",
       "comp.os.ms-windows.misc                         18                      2   \n",
       "comp.sys.ibm.pc.hardware                       154                      9   \n",
       "comp.sys.mac.hardware                           18                    148   \n",
       "comp.windows.x                                   7                      0   \n",
       "misc.forsale                                    12                      5   \n",
       "rec.autos                                        1                      0   \n",
       "rec.motorcycles                                  0                      0   \n",
       "rec.sport.baseball                               0                      0   \n",
       "rec.sport.hockey                                 0                      0   \n",
       "sci.crypt                                        0                      0   \n",
       "sci.electronics                                  7                      6   \n",
       "sci.med                                          0                      1   \n",
       "sci.space                                        0                      0   \n",
       "soc.religion.christian                           0                      0   \n",
       "talk.politics.guns                               0                      0   \n",
       "talk.politics.mideast                            0                      0   \n",
       "talk.politics.misc                               0                      0   \n",
       "talk.religion.misc                               0                      0   \n",
       "\n",
       "                          comp.windows.x  misc.forsale  rec.autos  \\\n",
       "alt.atheism                            0             0          0   \n",
       "comp.graphics                         10             1          1   \n",
       "comp.os.ms-windows.misc                9             1          1   \n",
       "comp.sys.ibm.pc.hardware               3             3          1   \n",
       "comp.sys.mac.hardware                  1             2          1   \n",
       "comp.windows.x                       163             0          1   \n",
       "misc.forsale                           1           147          4   \n",
       "rec.autos                              1             3        170   \n",
       "rec.motorcycles                        0             1          7   \n",
       "rec.sport.baseball                     0             1          0   \n",
       "rec.sport.hockey                       0             1          0   \n",
       "sci.crypt                              2             0          1   \n",
       "sci.electronics                        1             5          6   \n",
       "sci.med                                0             0          0   \n",
       "sci.space                              1             0          1   \n",
       "soc.religion.christian                 1             0          1   \n",
       "talk.politics.guns                     0             1          0   \n",
       "talk.politics.mideast                  1             0          0   \n",
       "talk.politics.misc                     0             0          1   \n",
       "talk.religion.misc                     1             0          0   \n",
       "\n",
       "                          rec.motorcycles  rec.sport.baseball  \\\n",
       "alt.atheism                             2                   0   \n",
       "comp.graphics                           2                   0   \n",
       "comp.os.ms-windows.misc                 1                   0   \n",
       "comp.sys.ibm.pc.hardware                1                   0   \n",
       "comp.sys.mac.hardware                   0                   1   \n",
       "comp.windows.x                          0                   0   \n",
       "misc.forsale                            6                   0   \n",
       "rec.autos                               6                   1   \n",
       "rec.motorcycles                       180                   0   \n",
       "rec.sport.baseball                      1                 190   \n",
       "rec.sport.hockey                        0                   6   \n",
       "sci.crypt                               0                   0   \n",
       "sci.electronics                         0                   0   \n",
       "sci.med                                 0                   0   \n",
       "sci.space                               0                   0   \n",
       "soc.religion.christian                  0                   0   \n",
       "talk.politics.guns                      1                   0   \n",
       "talk.politics.mideast                   0                   0   \n",
       "talk.politics.misc                      2                   1   \n",
       "talk.religion.misc                      2                   0   \n",
       "\n",
       "                          rec.sport.hockey  sci.crypt  sci.electronics  \\\n",
       "alt.atheism                              0          0                0   \n",
       "comp.graphics                            2          4                1   \n",
       "comp.os.ms-windows.misc                  0          2                1   \n",
       "comp.sys.ibm.pc.hardware                 1          1                5   \n",
       "comp.sys.mac.hardware                    1          3                8   \n",
       "comp.windows.x                           1          2                1   \n",
       "misc.forsale                             4          5                6   \n",
       "rec.autos                                1          0                2   \n",
       "rec.motorcycles                          0          0                1   \n",
       "rec.sport.baseball                       3          0                0   \n",
       "rec.sport.hockey                       185          0                1   \n",
       "sci.crypt                                0        180                2   \n",
       "sci.electronics                          2          5              151   \n",
       "sci.med                                  0          2                3   \n",
       "sci.space                                0          2                2   \n",
       "soc.religion.christian                   0          0                0   \n",
       "talk.politics.guns                       0          2                0   \n",
       "talk.politics.mideast                    0          0                0   \n",
       "talk.politics.misc                       0          5                0   \n",
       "talk.religion.misc                       0          0                1   \n",
       "\n",
       "                          sci.med  sci.space  soc.religion.christian  \\\n",
       "alt.atheism                     0          0                      50   \n",
       "comp.graphics                   1          1                       1   \n",
       "comp.os.ms-windows.misc         0          1                       0   \n",
       "comp.sys.ibm.pc.hardware        0          0                       0   \n",
       "comp.sys.mac.hardware           0          0                       1   \n",
       "comp.windows.x                  0          3                       1   \n",
       "misc.forsale                    0          2                       1   \n",
       "rec.autos                       3          0                       4   \n",
       "rec.motorcycles                 0          2                       3   \n",
       "rec.sport.baseball              0          0                       0   \n",
       "rec.sport.hockey                1          0                       4   \n",
       "sci.crypt                       1          1                       2   \n",
       "sci.electronics                 0          0                       0   \n",
       "sci.med                       174          2                       8   \n",
       "sci.space                       3        179                       2   \n",
       "soc.religion.christian          1          0                     191   \n",
       "talk.politics.guns              0          0                       3   \n",
       "talk.politics.mideast           0          0                      11   \n",
       "talk.politics.misc              1          3                       8   \n",
       "talk.religion.misc              0          2                      75   \n",
       "\n",
       "                          talk.politics.guns  talk.politics.mideast  \\\n",
       "alt.atheism                                7                      6   \n",
       "comp.graphics                              0                      0   \n",
       "comp.os.ms-windows.misc                    0                      0   \n",
       "comp.sys.ibm.pc.hardware                   0                      0   \n",
       "comp.sys.mac.hardware                      0                      0   \n",
       "comp.windows.x                             0                      0   \n",
       "misc.forsale                               0                      0   \n",
       "rec.autos                                  3                      0   \n",
       "rec.motorcycles                            2                      0   \n",
       "rec.sport.baseball                         1                      0   \n",
       "rec.sport.hockey                           0                      0   \n",
       "sci.crypt                                  2                      1   \n",
       "sci.electronics                            1                      0   \n",
       "sci.med                                    1                      2   \n",
       "sci.space                                  2                      1   \n",
       "soc.religion.christian                     1                      3   \n",
       "talk.politics.guns                       172                      1   \n",
       "talk.politics.mideast                      2                    173   \n",
       "talk.politics.misc                        43                      7   \n",
       "talk.religion.misc                        18                      1   \n",
       "\n",
       "                          talk.politics.misc  talk.religion.misc  \n",
       "alt.atheism                                0                   0  \n",
       "comp.graphics                              0                   0  \n",
       "comp.os.ms-windows.misc                    0                   0  \n",
       "comp.sys.ibm.pc.hardware                   0                   0  \n",
       "comp.sys.mac.hardware                      0                   0  \n",
       "comp.windows.x                             0                   0  \n",
       "misc.forsale                               0                   0  \n",
       "rec.autos                                  0                   0  \n",
       "rec.motorcycles                            0                   0  \n",
       "rec.sport.baseball                         1                   0  \n",
       "rec.sport.hockey                           0                   0  \n",
       "sci.crypt                                  0                   0  \n",
       "sci.electronics                            1                   0  \n",
       "sci.med                                    0                   0  \n",
       "sci.space                                  0                   0  \n",
       "soc.religion.christian                     0                   0  \n",
       "talk.politics.guns                         2                   0  \n",
       "talk.politics.mideast                      1                   0  \n",
       "talk.politics.misc                        80                   0  \n",
       "talk.religion.misc                         0                   5  "
      ]
     },
     "execution_count": 23,
     "metadata": {},
     "output_type": "execute_result"
    }
   ],
   "source": [
    "from sklearn.metrics import confusion_matrix\n",
    "\n",
    "\n",
    "cm = pd.DataFrame(data = confusion_matrix(Y_test, clf.predict(X_test)), \n",
    "                  index = label_encoder.classes_, \n",
    "                  columns= label_encoder.classes_)\n",
    "cm"
   ]
  },
  {
   "cell_type": "code",
   "execution_count": 62,
   "metadata": {},
   "outputs": [
    {
     "ename": "NameError",
     "evalue": "name 'plt' is not defined",
     "output_type": "error",
     "traceback": [
      "\u001b[1;31m---------------------------------------------------------------------------\u001b[0m",
      "\u001b[1;31mNameError\u001b[0m                                 Traceback (most recent call last)",
      "\u001b[1;32m<ipython-input-62-861c361102dc>\u001b[0m in \u001b[0;36m<module>\u001b[1;34m\u001b[0m\n\u001b[1;32m----> 1\u001b[1;33m \u001b[0mplt\u001b[0m\u001b[1;33m.\u001b[0m\u001b[0mmatshow\u001b[0m\u001b[1;33m(\u001b[0m\u001b[0mcm\u001b[0m\u001b[1;33m)\u001b[0m\u001b[1;33m\u001b[0m\u001b[1;33m\u001b[0m\u001b[0m\n\u001b[0m\u001b[0;32m      2\u001b[0m \u001b[0mplt\u001b[0m\u001b[1;33m.\u001b[0m\u001b[0mcolorbar\u001b[0m\u001b[1;33m(\u001b[0m\u001b[1;33m)\u001b[0m\u001b[1;33m\u001b[0m\u001b[1;33m\u001b[0m\u001b[0m\n",
      "\u001b[1;31mNameError\u001b[0m: name 'plt' is not defined"
     ]
    }
   ],
   "source": [
    "plt.matshow(cm)\n",
    "plt.colorbar()"
   ]
  },
  {
   "cell_type": "markdown",
   "metadata": {},
   "source": [
    "# Logistic Regression"
   ]
  },
  {
   "cell_type": "code",
   "execution_count": 24,
   "metadata": {},
   "outputs": [
    {
     "name": "stderr",
     "output_type": "stream",
     "text": [
      "c:\\users\\vsere\\appdata\\local\\programs\\python\\python37\\lib\\site-packages\\sklearn\\linear_model\\_logistic.py:940: ConvergenceWarning: lbfgs failed to converge (status=1):\n",
      "STOP: TOTAL NO. of ITERATIONS REACHED LIMIT.\n",
      "\n",
      "Increase the number of iterations (max_iter) or scale the data as shown in:\n",
      "    https://scikit-learn.org/stable/modules/preprocessing.html\n",
      "Please also refer to the documentation for alternative solver options:\n",
      "    https://scikit-learn.org/stable/modules/linear_model.html#logistic-regression\n",
      "  extra_warning_msg=_LOGISTIC_SOLVER_CONVERGENCE_MSG)\n"
     ]
    }
   ],
   "source": [
    "from sklearn.linear_model import LogisticRegression\n",
    "\n",
    "clf = LogisticRegression().fit(X_train, Y_train)"
   ]
  },
  {
   "cell_type": "markdown",
   "metadata": {},
   "source": [
    "#### Train report:"
   ]
  },
  {
   "cell_type": "code",
   "execution_count": 25,
   "metadata": {},
   "outputs": [
    {
     "name": "stdout",
     "output_type": "stream",
     "text": [
      "                          precision    recall  f1-score   support\n",
      "\n",
      "             alt.atheism       0.92      0.91      0.92       639\n",
      "           comp.graphics       0.88      0.92      0.90       778\n",
      " comp.os.ms-windows.misc       0.88      0.88      0.88       788\n",
      "comp.sys.ibm.pc.hardware       0.87      0.87      0.87       786\n",
      "   comp.sys.mac.hardware       0.94      0.92      0.93       770\n",
      "          comp.windows.x       0.93      0.92      0.92       790\n",
      "            misc.forsale       0.83      0.91      0.87       780\n",
      "               rec.autos       0.94      0.94      0.94       792\n",
      "         rec.motorcycles       0.97      0.96      0.97       797\n",
      "      rec.sport.baseball       0.96      0.98      0.97       795\n",
      "        rec.sport.hockey       0.99      0.98      0.99       799\n",
      "               sci.crypt       0.98      0.95      0.96       793\n",
      "         sci.electronics       0.90      0.92      0.91       787\n",
      "                 sci.med       0.96      0.97      0.96       792\n",
      "               sci.space       0.96      0.96      0.96       790\n",
      "  soc.religion.christian       0.89      0.94      0.92       798\n",
      "      talk.politics.guns       0.88      0.95      0.91       728\n",
      "   talk.politics.mideast       0.97      0.96      0.97       752\n",
      "      talk.politics.misc       0.94      0.88      0.91       620\n",
      "      talk.religion.misc       0.95      0.70      0.80       502\n",
      "\n",
      "                accuracy                           0.93     15076\n",
      "               macro avg       0.93      0.92      0.92     15076\n",
      "            weighted avg       0.93      0.93      0.93     15076\n",
      "\n"
     ]
    }
   ],
   "source": [
    "print(classification_report(Y_train, clf.predict(X_train), target_names=label_encoder.classes_))"
   ]
  },
  {
   "cell_type": "markdown",
   "metadata": {},
   "source": [
    "#### Test report"
   ]
  },
  {
   "cell_type": "code",
   "execution_count": 26,
   "metadata": {},
   "outputs": [
    {
     "name": "stdout",
     "output_type": "stream",
     "text": [
      "                          precision    recall  f1-score   support\n",
      "\n",
      "             alt.atheism       0.78      0.78      0.78       160\n",
      "           comp.graphics       0.75      0.81      0.78       195\n",
      " comp.os.ms-windows.misc       0.82      0.78      0.80       197\n",
      "comp.sys.ibm.pc.hardware       0.77      0.74      0.76       196\n",
      "   comp.sys.mac.hardware       0.85      0.81      0.83       193\n",
      "          comp.windows.x       0.83      0.84      0.83       198\n",
      "            misc.forsale       0.75      0.85      0.80       195\n",
      "               rec.autos       0.84      0.85      0.85       198\n",
      "         rec.motorcycles       0.91      0.90      0.90       199\n",
      "      rec.sport.baseball       0.93      0.94      0.94       199\n",
      "        rec.sport.hockey       0.98      0.91      0.94       200\n",
      "               sci.crypt       0.95      0.89      0.92       198\n",
      "         sci.electronics       0.80      0.84      0.82       197\n",
      "                 sci.med       0.89      0.88      0.89       198\n",
      "               sci.space       0.86      0.94      0.90       197\n",
      "  soc.religion.christian       0.82      0.90      0.86       199\n",
      "      talk.politics.guns       0.82      0.91      0.86       182\n",
      "   talk.politics.mideast       0.95      0.91      0.93       188\n",
      "      talk.politics.misc       0.82      0.75      0.78       155\n",
      "      talk.religion.misc       0.79      0.54      0.64       126\n",
      "\n",
      "                accuracy                           0.85      3770\n",
      "               macro avg       0.85      0.84      0.84      3770\n",
      "            weighted avg       0.85      0.85      0.85      3770\n",
      "\n"
     ]
    }
   ],
   "source": [
    "print(classification_report(Y_test, clf.predict(X_test), target_names=label_encoder.classes_))"
   ]
  },
  {
   "cell_type": "markdown",
   "metadata": {},
   "source": [
    "# Support Vector Machines"
   ]
  },
  {
   "cell_type": "markdown",
   "metadata": {},
   "source": [
    "https://en.wikipedia.org/wiki/Support-vector_machine#Linear_SVM"
   ]
  },
  {
   "cell_type": "markdown",
   "metadata": {},
   "source": [
    "#### Hard margin"
   ]
  },
  {
   "cell_type": "markdown",
   "metadata": {},
   "source": [
    "![image.png](images/svm.png)"
   ]
  },
  {
   "cell_type": "markdown",
   "metadata": {},
   "source": [
    "$$ \\huge \\overrightarrow{w} \\cdot \\overrightarrow{x} - b = 1;$$\n",
    "$$ \\huge \\overrightarrow{w} \\cdot \\overrightarrow{x} - b = -1;$$\n",
    "$$ \\huge distance = \\frac{2}{||\\overrightarrow{w}||};$$\n",
    "$$ \\huge y_i(\\overrightarrow{w} \\cdot \\overrightarrow{x_i} - b) \\geq 1, \\forall i;$$"
   ]
  },
  {
   "cell_type": "markdown",
   "metadata": {},
   "source": [
    "#### Soft margin"
   ]
  },
  {
   "cell_type": "markdown",
   "metadata": {},
   "source": [
    "![image.png](images/svm_2.png)"
   ]
  },
  {
   "cell_type": "markdown",
   "metadata": {},
   "source": [
    "$$ \\huge hinge = max(0, 1 - y_i(\\overrightarrow{w} \\cdot \\overrightarrow{x_i} - b));$$\n",
    "$$ \\huge loss = \\frac{1}{n} \\sum_{i=1}^{n} hinge + \\lambda ||\\overrightarrow{w}||^2;$$\n",
    "$$ \\huge loss = \\frac{1}{n} \\sum_{i=1}^{n} max(0, 1 - y_i(\\overrightarrow{w} \\cdot \\overrightarrow{x_i} - b)) + \\lambda ||\\overrightarrow{w}||^2;$$"
   ]
  },
  {
   "cell_type": "code",
   "execution_count": 27,
   "metadata": {},
   "outputs": [],
   "source": [
    "from sklearn.svm import LinearSVC\n",
    "\n",
    "clf = LinearSVC().fit(X_train, Y_train)"
   ]
  },
  {
   "cell_type": "markdown",
   "metadata": {},
   "source": [
    "#### Train report:"
   ]
  },
  {
   "cell_type": "code",
   "execution_count": 28,
   "metadata": {},
   "outputs": [
    {
     "name": "stdout",
     "output_type": "stream",
     "text": [
      "                          precision    recall  f1-score   support\n",
      "\n",
      "             alt.atheism       1.00      0.99      0.99       639\n",
      "           comp.graphics       0.99      0.99      0.99       778\n",
      " comp.os.ms-windows.misc       0.98      0.98      0.98       788\n",
      "comp.sys.ibm.pc.hardware       0.98      0.97      0.98       786\n",
      "   comp.sys.mac.hardware       1.00      0.99      0.99       770\n",
      "          comp.windows.x       0.99      0.99      0.99       790\n",
      "            misc.forsale       0.95      0.99      0.97       780\n",
      "               rec.autos       1.00      0.99      1.00       792\n",
      "         rec.motorcycles       1.00      1.00      1.00       797\n",
      "      rec.sport.baseball       1.00      1.00      1.00       795\n",
      "        rec.sport.hockey       1.00      1.00      1.00       799\n",
      "               sci.crypt       1.00      1.00      1.00       793\n",
      "         sci.electronics       1.00      0.99      0.99       787\n",
      "                 sci.med       1.00      0.99      1.00       792\n",
      "               sci.space       1.00      1.00      1.00       790\n",
      "  soc.religion.christian       0.99      1.00      1.00       798\n",
      "      talk.politics.guns       0.99      1.00      1.00       728\n",
      "   talk.politics.mideast       1.00      1.00      1.00       752\n",
      "      talk.politics.misc       1.00      0.99      0.99       620\n",
      "      talk.religion.misc       0.99      0.98      0.99       502\n",
      "\n",
      "                accuracy                           0.99     15076\n",
      "               macro avg       0.99      0.99      0.99     15076\n",
      "            weighted avg       0.99      0.99      0.99     15076\n",
      "\n"
     ]
    }
   ],
   "source": [
    "print(classification_report(Y_train, clf.predict(X_train), target_names=label_encoder.classes_))"
   ]
  },
  {
   "cell_type": "markdown",
   "metadata": {},
   "source": [
    "#### Test report:"
   ]
  },
  {
   "cell_type": "code",
   "execution_count": 29,
   "metadata": {},
   "outputs": [
    {
     "name": "stdout",
     "output_type": "stream",
     "text": [
      "                          precision    recall  f1-score   support\n",
      "\n",
      "             alt.atheism       0.82      0.81      0.82       160\n",
      "           comp.graphics       0.81      0.86      0.83       195\n",
      " comp.os.ms-windows.misc       0.81      0.85      0.83       197\n",
      "comp.sys.ibm.pc.hardware       0.81      0.77      0.79       196\n",
      "   comp.sys.mac.hardware       0.85      0.82      0.84       193\n",
      "          comp.windows.x       0.86      0.86      0.86       198\n",
      "            misc.forsale       0.80      0.88      0.84       195\n",
      "               rec.autos       0.88      0.88      0.88       198\n",
      "         rec.motorcycles       0.93      0.91      0.92       199\n",
      "      rec.sport.baseball       0.95      0.95      0.95       199\n",
      "        rec.sport.hockey       0.97      0.93      0.95       200\n",
      "               sci.crypt       0.97      0.92      0.94       198\n",
      "         sci.electronics       0.86      0.83      0.85       197\n",
      "                 sci.med       0.91      0.90      0.91       198\n",
      "               sci.space       0.92      0.95      0.94       197\n",
      "  soc.religion.christian       0.87      0.92      0.89       199\n",
      "      talk.politics.guns       0.85      0.92      0.88       182\n",
      "   talk.politics.mideast       0.94      0.95      0.95       188\n",
      "      talk.politics.misc       0.89      0.81      0.85       155\n",
      "      talk.religion.misc       0.73      0.67      0.70       126\n",
      "\n",
      "                accuracy                           0.87      3770\n",
      "               macro avg       0.87      0.87      0.87      3770\n",
      "            weighted avg       0.88      0.87      0.87      3770\n",
      "\n"
     ]
    }
   ],
   "source": [
    "print(classification_report(Y_test, clf.predict(X_test), target_names=label_encoder.classes_))"
   ]
  },
  {
   "cell_type": "code",
   "execution_count": 30,
   "metadata": {},
   "outputs": [],
   "source": [
    "import pickle\n",
    "\n",
    "with open('svc.pkl', 'wb') as f:\n",
    "    pickle.dump(clf, f)"
   ]
  },
  {
   "cell_type": "code",
   "execution_count": 31,
   "metadata": {},
   "outputs": [
    {
     "name": "stdout",
     "output_type": "stream",
     "text": [
      "['comp.graphics']\n"
     ]
    }
   ],
   "source": [
    "with open('svc.pkl', 'rb') as f:\n",
    "    new_clf = pickle.load(f)\n",
    "    x = tfidf.transform(['I hate photoshop'])\n",
    "    y_encoded = new_clf.predict(x)\n",
    "    y_labeled = label_encoder.inverse_transform(y_encoded) \n",
    "    print(y_labeled)"
   ]
  },
  {
   "cell_type": "markdown",
   "metadata": {},
   "source": [
    "Further reading https://scikit-learn.org/stable/tutorial/text_analytics/working_with_text_data.html"
   ]
  }
 ],
 "metadata": {
  "kernelspec": {
   "display_name": "Python 3",
   "language": "python",
   "name": "python3"
  },
  "language_info": {
   "codemirror_mode": {
    "name": "ipython",
    "version": 3
   },
   "file_extension": ".py",
   "mimetype": "text/x-python",
   "name": "python",
   "nbconvert_exporter": "python",
   "pygments_lexer": "ipython3",
   "version": "3.7.6"
  }
 },
 "nbformat": 4,
 "nbformat_minor": 2
}
