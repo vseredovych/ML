{
 "cells": [
  {
   "cell_type": "markdown",
   "metadata": {},
   "source": [
    "В цій практичній роботі ми спробуємо реалізувати нейронну мережу з двох шарів (прихований і вихідний). Запропонований підхід стане заготовкою для реалізації наступних оптимізацій: MBGD, ADAM та регуляризації. \n",
    "\n",
    "Сьогодні ж вам пропонується додати до цього класу підтримку довільної кількості шарів та нейронів в них (наприклад, передавати їх параметром в конструктор, як це робиться в MLPClassifier за допомогою hidden_layer_sizes). Також потрібно передбачити можливість ранньої зупинки ітераційного процесу, якщо значення штрафної функції не покращуватиметься протягом певної кількості ітерацій. Наприклад, якщо протягом $k$ ітерацій штрафна функція за модулем не стане меншою, ніж на поточному кроці."
   ]
  },
  {
   "cell_type": "code",
   "execution_count": 1,
   "metadata": {
    "pycharm": {
     "is_executing": true
    }
   },
   "outputs": [],
   "source": [
    "import numpy as np\n",
    "import pandas as pd\n",
    "from sklearn.model_selection import train_test_split\n",
    "from mpl_toolkits.mplot3d import Axes3D\n",
    "import matplotlib.pyplot as plt\n",
    "\n",
    "from matplotlib.colors import ListedColormap\n",
    "cm_bright = ListedColormap(['#FF0000', '#0000FF'])\n",
    "%matplotlib inline\n",
    "from sklearn.metrics import accuracy_score\n",
    "\n",
    "import sklearn.linear_model"
   ]
  },
  {
   "cell_type": "code",
   "execution_count": 2,
   "metadata": {},
   "outputs": [],
   "source": [
    "def plot_surface(cls, x_1, x_2, ax=None, threshold=0.5, contourf=False):\n",
    "    xx1, xx2 = np.meshgrid(np.linspace(x_1.min(), x_1.max(), 100), \n",
    "                           np.linspace(x_2.min(), x_2.max(), 100))\n",
    "\n",
    "    X_pred = np.c_[xx1.ravel(), xx2.ravel()]\n",
    "    pred = cls.predict_proba(X_pred)[:, 0]\n",
    "    Z = pred.reshape((100, 100))\n",
    "    if ax is None:\n",
    "        ax = plt.gca()\n",
    "    ax.contour(xx1, xx2, Z, levels=[threshold], colors='black')\n",
    "    ax.set_xlim((x_1.min(), x_1.max()))\n",
    "    ax.set_ylim((x_2.min(), x_2.max()))"
   ]
  },
  {
   "cell_type": "code",
   "execution_count": 3,
   "metadata": {},
   "outputs": [],
   "source": [
    "# def plot_data(X, y):\n",
    "#     ax = plt.gca()\n",
    "#     ax.scatter(X[:,0], X[:,1], c=(y == 1), cmap=cm_bright)\n",
    "    \n",
    "def plot_data(A, b, test = False):\n",
    "    positive_indices = np.where(b == 1)[0]\n",
    "    negative_indices = np.where(b == 0)[0]\n",
    "    \n",
    "    plt.scatter(A[positive_indices, 0], A[positive_indices, 1], marker='x', c= 'yellow' if test else 'green')\n",
    "    plt.scatter(A[negative_indices, 0], A[negative_indices, 1], marker='+', c= 'blue' if test else 'red')"
   ]
  },
  {
   "cell_type": "code",
   "execution_count": 4,
   "metadata": {},
   "outputs": [],
   "source": [
    "class NeuralNet:\n",
    "    def __init__(self, hidden_layer_sizes=(10, ), normalize=True, learning_rate=0.01, max_iter=30000, batch_size=32, momentum=0, epsilon=1e-10):\n",
    "        self.hidden_layer_sizes = hidden_layer_sizes\n",
    "        self.num_layers = len(hidden_layer_sizes) + 1\n",
    "        self.learning_rate = learning_rate\n",
    "        self.max_iter = max_iter\n",
    "        self.normalize = normalize\n",
    "        self.momentum = momentum\n",
    "        self.batch_size = batch_size\n",
    "        self.epsilon = epsilon\n",
    "        \n",
    "    def __normalize(self, X, mean=None, std=None):\n",
    "        if mean is None or std is None:\n",
    "            mean = np.zeros([X.shape[0], 1])\n",
    "            std  = np.ones([X.shape[0], 1])\n",
    "\n",
    "            for i in range(X.shape[0]):\n",
    "                if (np.std(X[:, i]) != 0):\n",
    "                    mean[i] = np.mean(X[:, i])\n",
    "                    std[i] = np.std(X[:, i])\n",
    "                \n",
    "        X_new = (X - mean) / std\n",
    "        return X_new, mean, std\n",
    "    \n",
    "\n",
    "    def __sigmoid(self, Z):\n",
    "        return 1 / (1 + np.exp(-Z))\n",
    "    \n",
    "    def __sigmoid_derivative(self, Z):\n",
    "        z = self.__sigmoid(Z)\n",
    "        return np.multiply(z, (1 - z))\n",
    "    \n",
    "    def __stable_softmax(self, z):\n",
    "        exps = np.exp(z - np.max(z))\n",
    "        return exps / exps.sum(axis=0, keepdims=True)\n",
    "    \n",
    "    def __cross_entropy(self, A, Y):\n",
    "        return -np.mean(Y.T * np.log(A.T))\n",
    "    \n",
    "    def __initialize_parameters(self, n_x, n_y, hidden_layers):\n",
    "        W = []\n",
    "        b = []\n",
    "        self.VdW = []\n",
    "        self.Vdb = []\n",
    "        \n",
    "        self.parameters = {}\n",
    "        layers = [n_x] + list(hidden_layers) + [n_y]\n",
    "        for i in range(1, self.num_layers + 1):\n",
    "            W.append(np.random.randn(layers[i], layers[i - 1]) * 0.01)\n",
    "            b.append(np.zeros((layers[i], 1)))\n",
    "            \n",
    "            self.VdW.append(np.zeros((layers[i], layers[i - 1])))\n",
    "            self.Vdb.append(np.zeros((layers[i], 1)))\n",
    "        \n",
    "        self.parameters.update({\"W\": W, \"b\": b})\n",
    "                    \n",
    "    def __forward_propagation(self, X):\n",
    "        W = self.parameters[\"W\"]\n",
    "        b = self.parameters[\"b\"]\n",
    "        \n",
    "        A = []\n",
    "        Z = []\n",
    "        \n",
    "        for i in range(0, self.num_layers - 1):\n",
    "            if i == 0:\n",
    "                Z.append(np.dot(W[i], X) + b[i])\n",
    "            else:\n",
    "                Z.append(np.dot(W[i], A[i-1]) + b[i])\n",
    "            A.append(self.__sigmoid(Z[i]))\n",
    "        \n",
    "        Z.append(np.dot(W[-1], A[-1]) + b[-1])\n",
    "        A.append(self.__stable_softmax(Z[-1]))\n",
    "        \n",
    "        cache = (W, b, Z, A)\n",
    "\n",
    "        return A[-1], cache\n",
    "    \n",
    "    def __backward_propagation(self, X, Y, cache):\n",
    "        m = X.shape[1]\n",
    "        n = X.shape[0]\n",
    "        (W, b, Z, A) = cache\n",
    "        \n",
    "        dW = [None] * self.num_layers\n",
    "        dA = [None] * self.num_layers\n",
    "        dZ = [None] * self.num_layers\n",
    "        db = [None] * self.num_layers\n",
    "        \n",
    "        dZ[-1] = A[-1] - Y\n",
    "        dW[-1] = (1. / m) * np.dot(dZ[-1], A[-2].T)\n",
    "        db[-1] = (1. / m) * np.sum(dZ[-1], axis = 1, keepdims = True)\n",
    "        dA[-1] = np.dot(W[-1].T, dZ[-1])\n",
    "        \n",
    "        for i in range(self.num_layers-1, 0, -1):\n",
    "            dZ[i-1] = np.multiply(dA[i], self.__sigmoid_derivative(Z[i-1]))\n",
    "            if i-1 == 0:\n",
    "                dW[i-1] = 1. / m * np.dot(dZ[i-1], X.T)\n",
    "            else:\n",
    "                dW[i-1] = 1. / m * np.dot(dZ[i-1], A[i-2].T)\n",
    "            db[i-1] = 1. / m * np.sum(dZ[i-1], axis = 1, keepdims = True) \n",
    "            dA[i-1] = np.dot(W[i-1].T, dZ[i-1])\n",
    "        \n",
    "        grads = {\"dZ\" : dZ, \"dW\" : dW, \"db\" : db}\n",
    "        return grads\n",
    "    \n",
    "    def __update_parameters(self, grads, iteration):\n",
    "        for i in range(self.num_layers):\n",
    "            W = self.parameters[f\"W\"]\n",
    "            b = self.parameters[f\"b\"]\n",
    "            \n",
    "            dW = grads[f\"dW\"]\n",
    "            db = grads[f\"db\"]\n",
    "            \n",
    "            self.VdW[i] = (self.momentum * self.VdW[i] + (1 - self.momentum) * dW[i] / (1 - self.momentum ** (iteration + 1)))\n",
    "            self.Vdb[i] = (self.momentum * self.Vdb[i] + (1 - self.momentum) * db[i] / (1 - self.momentum ** (iteration + 1)))\n",
    "\n",
    "            W[i] = W[i] - self.learning_rate * self.VdW[i]\n",
    "            b[i] = b[i] - self.learning_rate * self.Vdb[i]\n",
    "            \n",
    "            self.parameters = {\"W\" : W, \"b\" : b}\n",
    "    \n",
    "    def __create_mini_batches(self, X, Y, batch_size):\n",
    "        m = X.shape[1]\n",
    "        x_columns = X.shape[0]\n",
    "        \n",
    "        permutation = list(np.random.permutation(m))\n",
    "        shuffled_X = X[:, permutation]        \n",
    "        shuffled_Y = Y[:, permutation]\n",
    "        data = np.vstack((shuffled_X, shuffled_Y))\n",
    "\n",
    "        mini_batches = []\n",
    "        n_minibatches = m // batch_size\n",
    "        \n",
    "        for i in range(n_minibatches): \n",
    "            mini_batch = data[:, i * batch_size:(i + 1)*batch_size] \n",
    "            X_mini = mini_batch[:x_columns, :] \n",
    "            Y_mini = mini_batch[x_columns:, :]\n",
    "            mini_batches.append((X_mini, Y_mini))\n",
    "        if m % batch_size != 0:\n",
    "            mini_batch = data[:, (i+1) * batch_size:m] \n",
    "            X_mini = mini_batch[:x_columns, :]\n",
    "            Y_mini = mini_batch[x_columns:, :]\n",
    "            mini_batches.append((X_mini, Y_mini)) \n",
    "        return mini_batches\n",
    "    \n",
    "    def fit(self, X_vert, Y_vert, print_cost=True, print_by=1000):\n",
    "        X, Y = X_vert.T, Y_vert.T\n",
    "        if self.normalize:\n",
    "            X, self.__mean, self.__std = self.__normalize(X)\n",
    "        costs = []\n",
    "        \n",
    "        m = X.shape[1]\n",
    "        n_x = X.shape[0]\n",
    "        n_y = Y.shape[0]\n",
    "        \n",
    "        self.__initialize_parameters(n_x, n_y, self.hidden_layer_sizes)\n",
    "        \n",
    "        for i in range(self.max_iter):\n",
    "            mini_batches = self.__create_mini_batches(X, Y, self.batch_size) \n",
    "            for (X_mini, Y_mini) in mini_batches:\n",
    "                A, cache = self.__forward_propagation(X_mini)\n",
    "\n",
    "                cost = self.__cross_entropy(A, Y_mini)\n",
    "\n",
    "                grads = self.__backward_propagation(X_mini, Y_mini, cache)\n",
    "\n",
    "                self.__update_parameters(grads, i)\n",
    "\n",
    "            costs.append(cost)\n",
    "\n",
    "            if print_cost and i % print_by == 0:\n",
    "                print(\"{}-th iteration: {}\".format(i, cost))\n",
    "                if i > 1:\n",
    "                    print(f\"Delta: {costs[-2] - costs[-1]}\")\n",
    "\n",
    "            if i > 1 and abs(costs[-2] - costs[-1]) < self.epsilon:\n",
    "                break\n",
    "                \n",
    "        if print_cost:\n",
    "            plt.plot(costs)\n",
    "            plt.ylabel(\"Cost\")\n",
    "            plt.xlabel(f\"Iteration, *{print_by}\")\n",
    "            plt.show()\n",
    "\n",
    "    def predict_proba(self, X_vert):\n",
    "        X = X_vert.T\n",
    "        if self.normalize:\n",
    "            X, _, _ = self.__normalize(X, self.__mean, self.__std)\n",
    "        \n",
    "        probs = self.__forward_propagation(X)[0]\n",
    "        return probs.T\n",
    "    \n",
    "    def predict(self, X_vert):\n",
    "        positive_probs = self.predict_proba(X_vert)\n",
    "        y_pred = self.likehood_func(positive_probs)\n",
    "        return y_pred  \n",
    "\n",
    "    def likehood_func(self, z):\n",
    "        return z.argmax(axis=1)"
   ]
  },
  {
   "cell_type": "code",
   "execution_count": 5,
   "metadata": {},
   "outputs": [],
   "source": [
    "# cls_momentum = NeuralNetMy(hidden_layer_sizes=(50, ), normalize=True, learning_rate = 0.1, max_iter = 5000, batch_size=10000, momentum=0.999)\n",
    "# cls_momentum.fit(X_train, y_train, epsilon=1e-15)"
   ]
  },
  {
   "cell_type": "markdown",
   "metadata": {},
   "source": [
    "Спочатку спробуйте цей клас на одній задачі, а потім на іншій."
   ]
  },
  {
   "cell_type": "code",
   "execution_count": 6,
   "metadata": {},
   "outputs": [
    {
     "name": "stdout",
     "output_type": "stream",
     "text": [
      "Training set: X=(150, 4), y=(150, 1)\n"
     ]
    }
   ],
   "source": [
    "data_columns = [\"Sepal length\", \"Sepal width\", \"Petal length\", \"Petal width\"]\n",
    "target_column = \"Species\"\n",
    "df = pd.read_csv(\"iris.csv\")\n",
    "X, Y = df[data_columns].values, df[target_column].values.reshape((df.shape[0], 1))\n",
    "print('Training set: X={}, y={}'.format(X.shape, Y.shape))"
   ]
  },
  {
   "cell_type": "code",
   "execution_count": 7,
   "metadata": {},
   "outputs": [
    {
     "name": "stdout",
     "output_type": "stream",
     "text": [
      "<class 'numpy.ndarray'>\n",
      "Training set: X=(120, 4), y=(120, 3)\n",
      "Test set: X=(30, 4), y=(30, 1)\n"
     ]
    }
   ],
   "source": [
    "from sklearn.preprocessing import OneHotEncoder\n",
    "\n",
    "X_train, X_test, y_train, y_test = train_test_split(X, Y, test_size = 0.2, shuffle = True)\n",
    "\n",
    "encoder = OneHotEncoder()\n",
    "encoder.fit(y_train)\n",
    "y_train = encoder.transform(y_train).toarray()\n",
    "y_labels =  [ label[3:] for label in encoder.get_feature_names()]\n",
    "\n",
    "print(type(y_train))\n",
    "print('Training set: X={}, y={}'.format(X_train.shape, y_train.shape))\n",
    "print('Test set: X={}, y={}'.format(X_test.shape, y_test.shape))"
   ]
  },
  {
   "cell_type": "code",
   "execution_count": 8,
   "metadata": {},
   "outputs": [
    {
     "name": "stdout",
     "output_type": "stream",
     "text": [
      "0-th iteration: 0.3662375155416602\n",
      "100-th iteration: 0.14789354655139703\n",
      "Delta: 0.0058660574322381975\n",
      "200-th iteration: 0.08022052561191866\n",
      "Delta: -0.013810341692442898\n",
      "300-th iteration: 0.05539144854596764\n",
      "Delta: -0.01632393669261696\n",
      "400-th iteration: 0.07053007209838941\n",
      "Delta: -0.01817936679966331\n",
      "500-th iteration: 0.051945145876205995\n",
      "Delta: -0.025188898491783948\n",
      "600-th iteration: 0.031364215740184054\n",
      "Delta: -0.0011050734849418278\n",
      "700-th iteration: 0.0426570521722824\n",
      "Delta: -0.02730814246274719\n",
      "800-th iteration: 0.051924889094753124\n",
      "Delta: -0.023662136462330414\n",
      "900-th iteration: 0.02524589942869379\n",
      "Delta: -0.010080692432666728\n"
     ]
    },
    {
     "data": {
      "image/png": "[encoded data removed]",
      "text/plain": [
       "<Figure size 432x288 with 1 Axes>"
      ]
     },
     "metadata": {
      "needs_background": "light"
     },
     "output_type": "display_data"
    }
   ],
   "source": [
    "cls = NeuralNet(hidden_layer_sizes=(50, ), normalize=True, learning_rate = 0.1, max_iter = 1000, batch_size=30, momentum=0, epsilon=1e-8)\n",
    "cls.fit(X_train, y_train, print_cost=True, print_by=100)"
   ]
  },
  {
   "cell_type": "code",
   "execution_count": 9,
   "metadata": {},
   "outputs": [
    {
     "name": "stdout",
     "output_type": "stream",
     "text": [
      "0-th iteration: 0.37910569755968193\n",
      "100-th iteration: 0.11858634965988261\n",
      "Delta: -0.01197813338498567\n",
      "200-th iteration: 0.06027120823993812\n",
      "Delta: 0.0074336248621141715\n",
      "300-th iteration: 0.05443112757052507\n",
      "Delta: 0.002871591692890363\n",
      "400-th iteration: 0.0369451549105297\n",
      "Delta: 0.02154580122340191\n",
      "500-th iteration: 0.02953717215154677\n",
      "Delta: 0.0006869046083993399\n",
      "600-th iteration: 0.03330367906819712\n",
      "Delta: 0.005261906825719906\n",
      "700-th iteration: 0.016122436925766877\n",
      "Delta: 0.016075129541370206\n",
      "800-th iteration: 0.026366652553073563\n",
      "Delta: 0.00878308387129248\n",
      "900-th iteration: 0.03898889775073551\n",
      "Delta: -0.02075603606717456\n"
     ]
    },
    {
     "data": {
      "image/png": "[encoded data removed]",
      "text/plain": [
       "<Figure size 432x288 with 1 Axes>"
      ]
     },
     "metadata": {
      "needs_background": "light"
     },
     "output_type": "display_data"
    }
   ],
   "source": [
    "cls_momentum = NeuralNet(hidden_layer_sizes=(50, ), normalize=True, learning_rate = 0.1, max_iter = 1000, batch_size=30, momentum=0.9, epsilon=1e-8)\n",
    "cls_momentum.fit(X_train, y_train, print_cost=True, print_by=100)\n"
   ]
  },
  {
   "cell_type": "markdown",
   "metadata": {},
   "source": [
    "#### No optimization"
   ]
  },
  {
   "cell_type": "code",
   "execution_count": 10,
   "metadata": {},
   "outputs": [
    {
     "data": {
      "text/plain": [
       "1.0"
      ]
     },
     "execution_count": 10,
     "metadata": {},
     "output_type": "execute_result"
    }
   ],
   "source": [
    "Y_hat = cls.predict(X_test)\n",
    "Y_hat_labels = [y_labels[i] for i in Y_hat]\n",
    "accuracy_score(y_test, Y_hat_labels)"
   ]
  },
  {
   "cell_type": "markdown",
   "metadata": {},
   "source": [
    "#### Momentum"
   ]
  },
  {
   "cell_type": "code",
   "execution_count": 11,
   "metadata": {},
   "outputs": [
    {
     "data": {
      "text/plain": [
       "1.0"
      ]
     },
     "execution_count": 11,
     "metadata": {},
     "output_type": "execute_result"
    }
   ],
   "source": [
    "Y_hat = cls_momentum.predict(X_test)\n",
    "Y_hat_labels = [y_labels[i] for i in Y_hat]\n",
    "accuracy_score(y_test, Y_hat_labels)"
   ]
  },
  {
   "cell_type": "markdown",
   "metadata": {},
   "source": [
    "Зверніть увагу на границю прийняття рішення. Модель старається побудувати складну криву, що може свідчити про її перетренування. Порівняйте отримані результати з класом з sklearn. Спробуйте додати нові шари для нашого класу та порівняти результати тоді. Поекспериментуйте з гіперпараметрами для обох класів."
   ]
  },
  {
   "cell_type": "code",
   "execution_count": 12,
   "metadata": {},
   "outputs": [],
   "source": [
    "from sklearn.neural_network import MLPClassifier\n",
    "clf = MLPClassifier(hidden_layer_sizes = (20,10), max_iter = 11000, activation = 'relu', solver = 'sgd', learning_rate_init = 0.01, learning_rate = 'constant')"
   ]
  },
  {
   "cell_type": "code",
   "execution_count": 13,
   "metadata": {},
   "outputs": [
    {
     "data": {
      "text/plain": [
       "MLPClassifier(activation='relu', alpha=0.0001, batch_size='auto', beta_1=0.9,\n",
       "              beta_2=0.999, early_stopping=False, epsilon=1e-08,\n",
       "              hidden_layer_sizes=(20, 10), learning_rate='constant',\n",
       "              learning_rate_init=0.01, max_fun=15000, max_iter=11000,\n",
       "              momentum=0.9, n_iter_no_change=10, nesterovs_momentum=True,\n",
       "              power_t=0.5, random_state=None, shuffle=True, solver='sgd',\n",
       "              tol=0.0001, validation_fraction=0.1, verbose=False,\n",
       "              warm_start=False)"
      ]
     },
     "execution_count": 13,
     "metadata": {},
     "output_type": "execute_result"
    }
   ],
   "source": [
    "clf.fit(X_train, y_train)"
   ]
  },
  {
   "cell_type": "code",
   "execution_count": 14,
   "metadata": {},
   "outputs": [
    {
     "data": {
      "text/plain": [
       "1.0"
      ]
     },
     "execution_count": 14,
     "metadata": {},
     "output_type": "execute_result"
    }
   ],
   "source": [
    "Y_pred = clf.predict(X_test)\n",
    "Y_pred_labels = [y_labels[np.argmax(i)] for i in Y_pred]\n",
    "accuracy_score(y_test, Y_pred_labels)"
   ]
  }
 ],
 "metadata": {
  "anaconda-cloud": {},
  "kernelspec": {
   "display_name": "Python 3",
   "language": "python",
   "name": "python3"
  },
  "language_info": {
   "codemirror_mode": {
    "name": "ipython",
    "version": 3
   },
   "file_extension": ".py",
   "mimetype": "text/x-python",
   "name": "python",
   "nbconvert_exporter": "python",
   "pygments_lexer": "ipython3",
   "version": "3.7.6"
  }
 },
 "nbformat": 4,
 "nbformat_minor": 1
}
