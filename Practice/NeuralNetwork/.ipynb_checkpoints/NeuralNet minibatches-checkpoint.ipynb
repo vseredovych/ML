{
 "cells": [
  {
   "cell_type": "markdown",
   "metadata": {},
   "source": [
    "В цій практичній роботі ми спробуємо реалізувати нейронну мережу з двох шарів (прихований і вихідний). Запропонований підхід стане заготовкою для реалізації наступних оптимізацій: MBGD, ADAM та регуляризації. \n",
    "\n",
    "Сьогодні ж вам пропонується додати до цього класу підтримку довільної кількості шарів та нейронів в них (наприклад, передавати їх параметром в конструктор, як це робиться в MLPClassifier за допомогою hidden_layer_sizes). Також потрібно передбачити можливість ранньої зупинки ітераційного процесу, якщо значення штрафної функції не покращуватиметься протягом певної кількості ітерацій. Наприклад, якщо протягом $k$ ітерацій штрафна функція за модулем не стане меншою, ніж на поточному кроці."
   ]
  },
  {
   "cell_type": "code",
   "execution_count": 14,
   "metadata": {
    "pycharm": {
     "is_executing": true
    }
   },
   "outputs": [],
   "source": [
    "import numpy as np\n",
    "import pandas as pd\n",
    "from sklearn.model_selection import train_test_split\n",
    "from mpl_toolkits.mplot3d import Axes3D\n",
    "import matplotlib.pyplot as plt\n",
    "\n",
    "from matplotlib.colors import ListedColormap\n",
    "cm_bright = ListedColormap(['#FF0000', '#0000FF'])\n",
    "%matplotlib inline\n",
    "from sklearn.metrics import accuracy_score\n",
    "\n",
    "import sklearn.linear_model"
   ]
  },
  {
   "cell_type": "code",
   "execution_count": 15,
   "metadata": {},
   "outputs": [],
   "source": [
    "def plot_surface(cls, x_1, x_2, ax=None, threshold=0.5, contourf=False):\n",
    "    xx1, xx2 = np.meshgrid(np.linspace(x_1.min(), x_1.max(), 100), \n",
    "                           np.linspace(x_2.min(), x_2.max(), 100))\n",
    "\n",
    "    X_pred = np.c_[xx1.ravel(), xx2.ravel()]\n",
    "    pred = cls.predict_proba(X_pred)[:, 0]\n",
    "    Z = pred.reshape((100, 100))\n",
    "    if ax is None:\n",
    "        ax = plt.gca()\n",
    "    ax.contour(xx1, xx2, Z, levels=[threshold], colors='black')\n",
    "    ax.set_xlim((x_1.min(), x_1.max()))\n",
    "    ax.set_ylim((x_2.min(), x_2.max()))"
   ]
  },
  {
   "cell_type": "code",
   "execution_count": 16,
   "metadata": {},
   "outputs": [],
   "source": [
    "# def plot_data(X, y):\n",
    "#     ax = plt.gca()\n",
    "#     ax.scatter(X[:,0], X[:,1], c=(y == 1), cmap=cm_bright)\n",
    "    \n",
    "def plot_data(A, b, test = False):\n",
    "    positive_indices = np.where(b == 1)[0]\n",
    "    negative_indices = np.where(b == 0)[0]\n",
    "    \n",
    "    plt.scatter(A[positive_indices, 0], A[positive_indices, 1], marker='x', c= 'yellow' if test else 'green')\n",
    "    plt.scatter(A[negative_indices, 0], A[negative_indices, 1], marker='+', c= 'blue' if test else 'red')"
   ]
  },
  {
   "cell_type": "code",
   "execution_count": 17,
   "metadata": {},
   "outputs": [],
   "source": [
    "class NeuralNet:\n",
    "    \"\"\"\n",
    "    NN for binary classification\n",
    "    Attributes:\n",
    "    ...\n",
    "    \"\"\"\n",
    "    # hidden_layer_sizes=(100, 50,)\n",
    "    def __init__(self, hidden_layer_sizes, normalize = True, learning_rate = 0.01, num_iter = 30000, batch_size=64, optimization='', momentum=0.9):\n",
    "        self.learning_rate = learning_rate\n",
    "        self.num_iter = num_iter\n",
    "        self.normalize = normalize\n",
    "        self.hidden_layer_sizes = hidden_layer_sizes\n",
    "        self.optimization = optimization\n",
    "        self.momentum = momentum\n",
    "        self.batch_size = batch_size\n",
    "        \n",
    "    def __normalize(self, X, mean = None, std = None):\n",
    "        \"\"\"\n",
    "        Зверніть увагу, що нормалізація вхідних даних є дуже важливою для швидкодії нейронних мереж.\n",
    "        \"\"\"\n",
    "        n = X.shape[0]\n",
    "    \n",
    "        if mean is None:   \n",
    "            mean = np.zeros([n, 1])\n",
    "        if std is None:\n",
    "            std  = np.ones([n, 1])\n",
    "        \n",
    "        for i in range(n):\n",
    "            if (np.std(X[:, i]) != 0):\n",
    "                if mean is None:\n",
    "                    mean[i] = np.mean(X[:, i])\n",
    "                if std is None:\n",
    "                    std[i] = np.std(X[:, i])\n",
    "        \n",
    "        X_new = (X - mean) / std\n",
    "        return X_new, mean, std\n",
    "    \n",
    "\n",
    "    def __sigmoid(self, Z):\n",
    "        \"\"\"\n",
    "        В наступних практичних потрібно буде додати підтримку й інших активаційних функцій - це один з гіперпараметрів. \n",
    "        Їх можна вибирати для всіх шарів одночасно або мати різні активаційні функції на кожному з них.\n",
    "        \"\"\"\n",
    "        return 1 / (1 + np.exp(-Z))\n",
    "    \n",
    "    def __sigmoid_derivative(self, Z):\n",
    "        z = self.__sigmoid(Z)\n",
    "        return np.multiply(z, (1 - z))\n",
    "    \n",
    "    def __softmax(self, Z):\n",
    "        exp_z = np.exp(Z)\n",
    "        return exp_z / exp_z.sum(axis=0, keepdims=True)\n",
    "    \n",
    "    def __cross_entropy(self, A, Y):\n",
    "        return - np.sum(Y * np.log(A), axis=1)\n",
    "    \n",
    "    def __initialize_parameters(self, n_x, n_y):\n",
    "        self.parameters = {}\n",
    "        n = len(n_x)\n",
    "        \n",
    "        for i in range(1, len(n_x)):\n",
    "            W = np.random.randn(n_x[i], n_x[i - 1]) * 0.01\n",
    "            b = np.zeros((n_x[i], 1))\n",
    "            self.parameters.update({f\"W{i}\": W, f\"b{i}\": b})\n",
    "\n",
    "        W = np.random.randn(n_y, n_x[n-1]) * 0.01\n",
    "        b = np.zeros((n_y, 1))\n",
    "        \n",
    "        self.parameters.update({f\"W{n}\":W, f\"b{n}\":b})\n",
    "                    \n",
    "        for i in range(1, len(n_x) + 1):\n",
    "            self.parameters.update({f\"VdW{i}\": 0, f\"Vdb{i}\": 0})\n",
    "            \n",
    "    def __forward_propagation(self, X):\n",
    "        num_layers = len(self.hidden_layer_sizes)\n",
    "        cache = self.parameters.copy()\n",
    "        \n",
    "        A = X\n",
    "        for i in range(1, num_layers + 2):\n",
    "            if i == num_layers + 1:\n",
    "                W = self.parameters[f\"W{i}\"]\n",
    "                b = self.parameters[f\"b{i}\"]\n",
    "                Z = np.dot(W, A) + b\n",
    "                A = self.__softmax(Z)\n",
    "            else:            \n",
    "                W = self.parameters[f\"W{i}\"]\n",
    "                b = self.parameters[f\"b{i}\"]\n",
    "                Z = np.dot(W, A) + b\n",
    "                A = self.__sigmoid(Z)\n",
    "            cache.update({f\"Z{i}\": Z})\n",
    "            cache.update({f\"A{i}\": A})\n",
    "        return A, cache\n",
    "\n",
    "    def compute_cost(self, A, Y):\n",
    "        J = -np.mean(Y.T * np.log(A.T))\n",
    "        return J\n",
    "    \n",
    "    def __backward_propagation(self, X, Y, cache):\n",
    "        m = X.shape[1]\n",
    "        n = X.shape[0]\n",
    "        num_layers = len(self.hidden_layer_sizes)\n",
    "        \n",
    "        grads = {}\n",
    "        \n",
    "        for i in range(num_layers+1, 0, -1):\n",
    "            W = cache[f\"W{i}\"]\n",
    "            b = cache[f\"b{i}\"]\n",
    "            Z = cache[f\"Z{i}\"]\n",
    "            if i == num_layers + 1:\n",
    "                A = cache[f\"A{i}\"]\n",
    "                A_next = cache[f\"A{i - 1}\"]\n",
    "                \n",
    "                dZ = A - Y\n",
    "                dW = 1. / m * np.dot(dZ, A_next.T)\n",
    "                db = 1. / m * np.sum(dZ, axis = 1, keepdims = True)\n",
    "            elif (i == 1):\n",
    "                W_prev = cache[f\"W{i + 1}\"]\n",
    "                A = cache[f\"A{i}\"]\n",
    "                \n",
    "                dA = np.dot(W_prev.T, dZ)\n",
    "                dZ = np.multiply(dA, self.__sigmoid_derivative(A))\n",
    "                dW = 1. / m * np.dot(dZ, X.T)\n",
    "                db = 1. / m * np.sum(dZ, axis = 1, keepdims = True)\n",
    "            else:\n",
    "                W_prev = cache[f\"W{i + 1}\"]\n",
    "                A = cache[f\"A{i}\"]\n",
    "                A_next = cache[f\"A{i - 1}\"]\n",
    "\n",
    "                dA = np.dot(W_prev.T, dZ)\n",
    "                dZ = np.multiply(dA, self.__sigmoid_derivative(A))\n",
    "                dW = 1. / m * np.dot(dZ, A_next.T)\n",
    "                db = 1. / m * np.sum(dZ, axis = 1, keepdims = True)\n",
    "            grads.update({f\"dZ{i}\":dZ, f\"dW{i}\":dW, f\"db{i}\":db})\n",
    "        return grads\n",
    "    \n",
    "    def __update_parameters(self, grads, iteration):\n",
    "        num_layers = len(self.hidden_layer_sizes)\n",
    "        \n",
    "        for i in range(1, num_layers + 2):\n",
    "            W = self.parameters[f\"W{i}\"]\n",
    "            b = self.parameters[f\"b{i}\"]\n",
    "            \n",
    "            dW = grads[f\"dW{i}\"]\n",
    "            db = grads[f\"db{i}\"]\n",
    "            if self.optimization == 'momentum':\n",
    "#                 print(1 - self.momentum ** iteration)\n",
    "                self.parameters[f\"VdW{i}\"] = (self.momentum * self.parameters[f\"VdW{i}\"] + (1 - self.momentum) * dW / (1 - self.momentum ** (iteration + 1)))\n",
    "                self.parameters[f\"Vdb{i}\"] = (self.momentum * self.parameters[f\"Vdb{i}\"] + (1 - self.momentum) * db / (1 - self.momentum ** (iteration + 1)))\n",
    "\n",
    "                self.parameters[f\"W{i}\"] = W - self.learning_rate * self.parameters[f\"VdW{i}\"]\n",
    "                self.parameters[f\"b{i}\"] = b - self.learning_rate * self.parameters[f\"Vdb{i}\"]\n",
    "\n",
    "            else:\n",
    "                self.parameters[f\"W{i}\"] = W - self.learning_rate * dW\n",
    "                self.parameters[f\"b{i}\"] = b - self.learning_rate * db\n",
    "    \n",
    "    def __create_mini_batches(self, X, Y, batch_size):\n",
    "        m = X.shape[1]\n",
    "        x_columns = X.shape[0]\n",
    "        \n",
    "        permutation = list(np.random.permutation(m))\n",
    "        shuffled_X = X[:, permutation]        \n",
    "        shuffled_Y = Y[:, permutation]\n",
    "        data = np.vstack((shuffled_X, shuffled_Y))\n",
    "\n",
    "        mini_batches = []\n",
    "        n_minibatches = m // batch_size\n",
    "        i = 0\n",
    "\n",
    "        for i in range(n_minibatches + 1): \n",
    "            mini_batch = data[:, i * batch_size:(i + 1)*batch_size] \n",
    "            X_mini = mini_batch[:x_columns, :] \n",
    "            Y_mini = mini_batch[x_columns:, :]\n",
    "            mini_batches.append((X_mini, Y_mini))\n",
    "            \n",
    "            if data.shape[0] % batch_size != 0:\n",
    "                mini_batch = data[:, i * batch_size:m] \n",
    "                X_mini = mini_batch[:x_columns, :]\n",
    "                Y_mini = mini_batch[x_columns:, :]\n",
    "                mini_batches.append((X_mini, Y_mini)) \n",
    "        return mini_batches\n",
    "    \n",
    "    def fit(self, X_vert, Y_vert, epsilon=1e-08, print_cost = True):\n",
    "        \n",
    "        X, Y = X_vert.T, Y_vert.T\n",
    "        \n",
    "        if self.normalize:\n",
    "            X, self.__mean, self.__std = self.__normalize(X)\n",
    "        \n",
    "        costs = []\n",
    "        \n",
    "        m = X.shape[1]\n",
    "        n_x = (X.shape[0],) + self.hidden_layer_sizes\n",
    "        n_y = Y.shape[0]\n",
    "        \n",
    "        self.__initialize_parameters(n_x, n_y)\n",
    "        \n",
    "        for i in range(self.num_iter):\n",
    "            mini_batches = self.__create_mini_batches(X, Y, self.batch_size) \n",
    "            for mini_batch in mini_batches:\n",
    "                X_mini, Y_mini = mini_batch \n",
    "                A, cache = self.__forward_propagation(X_mini)\n",
    "\n",
    "                cost = self.compute_cost(A, Y_mini)\n",
    "\n",
    "                grads = self.__backward_propagation(X_mini, Y_mini, cache)\n",
    "\n",
    "                self.__update_parameters(grads, i)\n",
    "\n",
    "                costs.append(cost)\n",
    "\n",
    "                if print_cost and i % 1000 == 0:\n",
    "                    print(\"{}-th iteration: {}\".format(i, cost))\n",
    "                    if i > 1:\n",
    "                        print(f\"Delta: {costs[-2] - costs[-1]}\")\n",
    "\n",
    "                if i > 1 and abs(costs[-2] - costs[-1]) < epsilon:\n",
    "                    break\n",
    "                \n",
    "        if print_cost:\n",
    "            plt.plot(costs)\n",
    "            plt.ylabel(\"Cost\")\n",
    "            plt.xlabel(\"Iteration, *1000\")\n",
    "            plt.show()\n",
    "\n",
    "    def predict_proba(self, X_vert):\n",
    "        X = X_vert.T\n",
    "        if self.normalize:\n",
    "            X, _, _ = self.__normalize(X, self.__mean, self.__std)\n",
    "        \n",
    "        probs = self.__forward_propagation(X)[0]\n",
    "        return probs.T\n",
    "    \n",
    "    def predict(self, X_vert):\n",
    "        positive_probs = self.predict_proba(X_vert)\n",
    "        y_pred = self.likehood_func(positive_probs)\n",
    "        return y_pred  \n",
    "\n",
    "    def likehood_func(self, z):\n",
    "        return z.argmax(axis=1)"
   ]
  },
  {
   "cell_type": "markdown",
   "metadata": {},
   "source": [
    "Спочатку спробуйте цей клас на одній задачі, а потім на іншій."
   ]
  },
  {
   "cell_type": "code",
   "execution_count": 18,
   "metadata": {},
   "outputs": [
    {
     "name": "stdout",
     "output_type": "stream",
     "text": [
      "Training set: X=(150, 4), y=(150, 1)\n"
     ]
    }
   ],
   "source": [
    "data_columns = [\"Sepal length\", \"Sepal width\", \"Petal length\", \"Petal width\"]\n",
    "target_column = \"Species\"\n",
    "df = pd.read_csv(\"iris.csv\")\n",
    "X, Y = df[data_columns].values, df[target_column].values.reshape((df.shape[0], 1))\n",
    "print('Training set: X={}, y={}'.format(X.shape, Y.shape))"
   ]
  },
  {
   "cell_type": "code",
   "execution_count": 19,
   "metadata": {},
   "outputs": [
    {
     "name": "stdout",
     "output_type": "stream",
     "text": [
      "<class 'numpy.ndarray'>\n",
      "Training set: X=(120, 4), y=(120, 3)\n",
      "Test set: X=(30, 4), y=(30, 1)\n"
     ]
    }
   ],
   "source": [
    "from sklearn.preprocessing import OneHotEncoder\n",
    "\n",
    "X_train, X_test, y_train, y_test = train_test_split(X, Y, test_size = 0.2, shuffle = True)\n",
    "\n",
    "encoder = OneHotEncoder()\n",
    "encoder.fit(y_train)\n",
    "y_train = encoder.transform(y_train).toarray()\n",
    "y_labels =  [ label[3:] for label in encoder.get_feature_names()]\n",
    "\n",
    "print(type(y_train))\n",
    "print('Training set: X={}, y={}'.format(X_train.shape, y_train.shape))\n",
    "print('Test set: X={}, y={}'.format(X_test.shape, y_test.shape))"
   ]
  },
  {
   "cell_type": "code",
   "execution_count": 20,
   "metadata": {},
   "outputs": [
    {
     "name": "stdout",
     "output_type": "stream",
     "text": [
      "0-th iteration: 0.36668738595711964\n",
      "0-th iteration: 0.36595780051159105\n",
      "0-th iteration: 0.36556824926486653\n",
      "0-th iteration: 0.36544178616845957\n",
      "1000-th iteration: 0.16145780491739117\n",
      "Delta: -0.012354203007204217\n",
      "1000-th iteration: 0.14931405241338933\n",
      "Delta: 0.012143752504001848\n",
      "1000-th iteration: 0.13565215025353097\n",
      "Delta: 0.013661902159858352\n",
      "1000-th iteration: 0.1354926696229454\n",
      "Delta: 0.00015948063058557338\n",
      "2000-th iteration: 0.1441344672444956\n",
      "Delta: -0.006680391010542658\n",
      "2000-th iteration: 0.13586014243897548\n",
      "Delta: 0.008274324805520122\n",
      "2000-th iteration: 0.12642649810397227\n",
      "Delta: 0.00943364433500321\n",
      "2000-th iteration: 0.1264234686386288\n",
      "Delta: 3.029465343473703e-06\n",
      "3000-th iteration: 0.11021194276635793\n",
      "Delta: 0.017229342314408536\n",
      "3000-th iteration: 0.1136747662322303\n",
      "Delta: -0.0034628234658723722\n",
      "3000-th iteration: 0.11768819505201406\n",
      "Delta: -0.004013428819783754\n",
      "3000-th iteration: 0.11760194903625273\n",
      "Delta: 8.624601576132096e-05\n",
      "4000-th iteration: 0.0479885226155779\n",
      "Delta: 0.01085046521632152\n",
      "4000-th iteration: 0.0609226019263834\n",
      "Delta: -0.0129340793108055\n",
      "4000-th iteration: 0.0756898733792551\n",
      "Delta: -0.014767271452871704\n",
      "4000-th iteration: 0.07569179909505096\n",
      "Delta: -1.925715795852989e-06\n"
     ]
    },
    {
     "data": {
      "image/png": "[encoded data removed]",
      "text/plain": [
       "<Figure size 432x288 with 1 Axes>"
      ]
     },
     "metadata": {
      "needs_background": "light"
     },
     "output_type": "display_data"
    }
   ],
   "source": [
    "cls = NeuralNet((50, ), normalize = True, learning_rate = 0.01, num_iter = 5000)\n",
    "cls.fit(X_train, y_train, epsilon=1e-15)"
   ]
  },
  {
   "cell_type": "code",
   "execution_count": 21,
   "metadata": {},
   "outputs": [
    {
     "name": "stdout",
     "output_type": "stream",
     "text": [
      "0-th iteration: 0.3642806058130749\n",
      "0-th iteration: 0.36612096900535646\n",
      "0-th iteration: 0.36855784289204857\n",
      "0-th iteration: 0.36810553810538676\n",
      "1000-th iteration: 0.13987644944105956\n",
      "Delta: 0.020652360181728946\n",
      "1000-th iteration: 0.14783716695294866\n",
      "Delta: -0.007960717511889093\n",
      "1000-th iteration: 0.15697551107709315\n",
      "Delta: -0.009138344124144493\n",
      "1000-th iteration: 0.15696282460716354\n",
      "Delta: 1.268646992960698e-05\n",
      "2000-th iteration: 0.14102888445046782\n",
      "Delta: 0.003211264854096507\n",
      "2000-th iteration: 0.1433432428212375\n",
      "Delta: -0.0023143583707696813\n",
      "2000-th iteration: 0.14612329178351896\n",
      "Delta: -0.002780048962281456\n",
      "2000-th iteration: 0.14605810403791997\n",
      "Delta: 6.518774559899354e-05\n",
      "3000-th iteration: 0.09522658091732283\n",
      "Delta: 0.009146015096939394\n",
      "3000-th iteration: 0.1025399350908942\n",
      "Delta: -0.00731335417357136\n",
      "3000-th iteration: 0.11095088403842755\n",
      "Delta: -0.008410948947533359\n",
      "3000-th iteration: 0.11091368641934951\n",
      "Delta: 3.719761907804153e-05\n",
      "4000-th iteration: 0.06045870880133566\n",
      "Delta: -0.0049370474087582356\n",
      "4000-th iteration: 0.05192968789181036\n",
      "Delta: 0.0085290209095253\n",
      "4000-th iteration: 0.04219049013223543\n",
      "Delta: 0.009739197759574929\n",
      "4000-th iteration: 0.04218465835652622\n",
      "Delta: 5.831775709209952e-06\n"
     ]
    },
    {
     "data": {
      "image/png": "[encoded data removed]",
      "text/plain": [
       "<Figure size 432x288 with 1 Axes>"
      ]
     },
     "metadata": {
      "needs_background": "light"
     },
     "output_type": "display_data"
    }
   ],
   "source": [
    "cls_momentum = NeuralNet((50, ), normalize = True, learning_rate = 0.01, num_iter = 5000,\n",
    "                         optimization='momentum', momentum=0.3)\n",
    "cls_momentum.fit(X_train, y_train, epsilon=1e-15)\n"
   ]
  },
  {
   "cell_type": "markdown",
   "metadata": {},
   "source": [
    "#### No optimization"
   ]
  },
  {
   "cell_type": "code",
   "execution_count": 22,
   "metadata": {},
   "outputs": [
    {
     "data": {
      "text/plain": [
       "0.9333333333333333"
      ]
     },
     "execution_count": 22,
     "metadata": {},
     "output_type": "execute_result"
    }
   ],
   "source": [
    "Y_hat = cls.predict(X_test)\n",
    "Y_hat_labels = [y_labels[i] for i in Y_hat]\n",
    "accuracy_score(y_test, Y_hat_labels)"
   ]
  },
  {
   "cell_type": "markdown",
   "metadata": {},
   "source": [
    "#### Momentum"
   ]
  },
  {
   "cell_type": "code",
   "execution_count": 23,
   "metadata": {},
   "outputs": [
    {
     "data": {
      "text/plain": [
       "0.9333333333333333"
      ]
     },
     "execution_count": 23,
     "metadata": {},
     "output_type": "execute_result"
    }
   ],
   "source": [
    "Y_hat = cls_momentum.predict(X_test)\n",
    "Y_hat_labels = [y_labels[i] for i in Y_hat]\n",
    "accuracy_score(y_test, Y_hat_labels)"
   ]
  },
  {
   "cell_type": "markdown",
   "metadata": {},
   "source": [
    "Зверніть увагу на границю прийняття рішення. Модель старається побудувати складну криву, що може свідчити про її перетренування. Порівняйте отримані результати з класом з sklearn. Спробуйте додати нові шари для нашого класу та порівняти результати тоді. Поекспериментуйте з гіперпараметрами для обох класів."
   ]
  },
  {
   "cell_type": "code",
   "execution_count": 24,
   "metadata": {},
   "outputs": [],
   "source": [
    "from sklearn.neural_network import MLPClassifier\n",
    "clf = MLPClassifier(hidden_layer_sizes = (20,10), max_iter = 11000, activation = 'relu', solver = 'sgd', learning_rate_init = 0.01, learning_rate = 'constant')"
   ]
  },
  {
   "cell_type": "code",
   "execution_count": 25,
   "metadata": {},
   "outputs": [
    {
     "data": {
      "text/plain": [
       "MLPClassifier(activation='relu', alpha=0.0001, batch_size='auto', beta_1=0.9,\n",
       "              beta_2=0.999, early_stopping=False, epsilon=1e-08,\n",
       "              hidden_layer_sizes=(20, 10), learning_rate='constant',\n",
       "              learning_rate_init=0.01, max_fun=15000, max_iter=11000,\n",
       "              momentum=0.9, n_iter_no_change=10, nesterovs_momentum=True,\n",
       "              power_t=0.5, random_state=None, shuffle=True, solver='sgd',\n",
       "              tol=0.0001, validation_fraction=0.1, verbose=False,\n",
       "              warm_start=False)"
      ]
     },
     "execution_count": 25,
     "metadata": {},
     "output_type": "execute_result"
    }
   ],
   "source": [
    "clf.fit(X_train, y_train)"
   ]
  },
  {
   "cell_type": "code",
   "execution_count": 26,
   "metadata": {},
   "outputs": [
    {
     "data": {
      "text/plain": [
       "0.9666666666666667"
      ]
     },
     "execution_count": 26,
     "metadata": {},
     "output_type": "execute_result"
    }
   ],
   "source": [
    "Y_pred = clf.predict(X_test)\n",
    "Y_pred_labels = [y_labels[np.argmax(i)] for i in Y_pred]\n",
    "accuracy_score(y_test, Y_pred_labels)"
   ]
  }
 ],
 "metadata": {
  "anaconda-cloud": {},
  "kernelspec": {
   "display_name": "Python 3.7.6 64-bit",
   "language": "python",
   "name": "python37664bit72af3e13b1864d0a85758af773701f9c"
  },
  "language_info": {
   "codemirror_mode": {
    "name": "ipython",
    "version": 3
   },
   "file_extension": ".py",
   "mimetype": "text/x-python",
   "name": "python",
   "nbconvert_exporter": "python",
   "pygments_lexer": "ipython3",
   "version": "3.7.6"
  }
 },
 "nbformat": 4,
 "nbformat_minor": 1
}
