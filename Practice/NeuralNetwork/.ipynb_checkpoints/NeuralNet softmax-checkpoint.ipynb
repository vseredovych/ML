{
 "cells": [
  {
   "cell_type": "markdown",
   "metadata": {},
   "source": [
    "В цій практичній роботі ми спробуємо реалізувати нейронну мережу з двох шарів (прихований і вихідний). Запропонований підхід стане заготовкою для реалізації наступних оптимізацій: MBGD, ADAM та регуляризації. \n",
    "\n",
    "Сьогодні ж вам пропонується додати до цього класу підтримку довільної кількості шарів та нейронів в них (наприклад, передавати їх параметром в конструктор, як це робиться в MLPClassifier за допомогою hidden_layer_sizes). Також потрібно передбачити можливість ранньої зупинки ітераційного процесу, якщо значення штрафної функції не покращуватиметься протягом певної кількості ітерацій. Наприклад, якщо протягом $k$ ітерацій штрафна функція за модулем не стане меншою, ніж на поточному кроці."
   ]
  },
  {
   "cell_type": "code",
   "execution_count": 79,
   "metadata": {
    "pycharm": {
     "is_executing": true
    }
   },
   "outputs": [],
   "source": [
    "import numpy as np\n",
    "import pandas as pd\n",
    "from sklearn.model_selection import train_test_split\n",
    "from mpl_toolkits.mplot3d import Axes3D\n",
    "import matplotlib.pyplot as plt\n",
    "\n",
    "from matplotlib.colors import ListedColormap\n",
    "cm_bright = ListedColormap(['#FF0000', '#0000FF'])\n",
    "%matplotlib inline\n",
    "from sklearn.metrics import accuracy_score\n",
    "\n",
    "import sklearn.linear_model"
   ]
  },
  {
   "cell_type": "code",
   "execution_count": 80,
   "metadata": {},
   "outputs": [],
   "source": [
    "def plot_surface(cls, x_1, x_2, ax=None, threshold=0.5, contourf=False):\n",
    "    xx1, xx2 = np.meshgrid(np.linspace(x_1.min(), x_1.max(), 100), \n",
    "                           np.linspace(x_2.min(), x_2.max(), 100))\n",
    "\n",
    "    X_pred = np.c_[xx1.ravel(), xx2.ravel()]\n",
    "    pred = cls.predict_proba(X_pred)[:, 0]\n",
    "    Z = pred.reshape((100, 100))\n",
    "    if ax is None:\n",
    "        ax = plt.gca()\n",
    "    ax.contour(xx1, xx2, Z, levels=[threshold], colors='black')\n",
    "    ax.set_xlim((x_1.min(), x_1.max()))\n",
    "    ax.set_ylim((x_2.min(), x_2.max()))"
   ]
  },
  {
   "cell_type": "code",
   "execution_count": 81,
   "metadata": {},
   "outputs": [],
   "source": [
    "# def plot_data(X, y):\n",
    "#     ax = plt.gca()\n",
    "#     ax.scatter(X[:,0], X[:,1], c=(y == 1), cmap=cm_bright)\n",
    "    \n",
    "def plot_data(A, b, test = False):\n",
    "    positive_indices = np.where(b == 1)[0]\n",
    "    negative_indices = np.where(b == 0)[0]\n",
    "    \n",
    "    plt.scatter(A[positive_indices, 0], A[positive_indices, 1], marker='x', c= 'yellow' if test else 'green')\n",
    "    plt.scatter(A[negative_indices, 0], A[negative_indices, 1], marker='+', c= 'blue' if test else 'red')"
   ]
  },
  {
   "cell_type": "code",
   "execution_count": 82,
   "metadata": {},
   "outputs": [],
   "source": [
    "class NeuralNet:\n",
    "    def __init__(self, hidden_layer_sizes=(10, ), normalize=True, learning_rate=0.01, max_iter=30000, batch_size=32, momentum=0, epsilon=1e-10):\n",
    "        self.hidden_layer_sizes = hidden_layer_sizes\n",
    "        self.num_layers = len(hidden_layer_sizes) + 1\n",
    "        self.learning_rate = learning_rate\n",
    "        self.max_iter = max_iter\n",
    "        self.normalize = normalize\n",
    "        self.momentum = momentum\n",
    "        self.batch_size = batch_size\n",
    "        self.epsilon = epsilon\n",
    "        \n",
    "    def __normalize(self, X, mean=None, std=None):\n",
    "        if mean is None or std is None:\n",
    "            mean = np.zeros([X.shape[0], 1])\n",
    "            std  = np.ones([X.shape[0], 1])\n",
    "\n",
    "            for i in range(X.shape[0]):\n",
    "                if (np.std(X[:, i]) != 0):\n",
    "                    mean[i] = np.mean(X[:, i])\n",
    "                    std[i] = np.std(X[:, i])\n",
    "                \n",
    "        X_new = (X - mean) / std\n",
    "        return X_new, mean, std\n",
    "    \n",
    "\n",
    "    def __sigmoid(self, Z):\n",
    "        return 1 / (1 + np.exp(-Z))\n",
    "    \n",
    "    def __sigmoid_derivative(self, Z):\n",
    "        z = self.__sigmoid(Z)\n",
    "        return np.multiply(z, (1 - z))\n",
    "    \n",
    "    def __stable_softmax(self, z):\n",
    "        exps = np.exp(z - np.max(z))\n",
    "        return exps / exps.sum(axis=0, keepdims=True)\n",
    "    \n",
    "    def __cross_entropy(self, A, Y):\n",
    "        return -np.mean(Y.T * np.log(A.T))\n",
    "    \n",
    "    def __initialize_parameters(self, n_x, n_y, hidden_layers):\n",
    "        W = []\n",
    "        b = []\n",
    "        self.VdW = []\n",
    "        self.Vdb = []\n",
    "        \n",
    "        self.parameters = {}\n",
    "        layers = [n_x] + list(hidden_layers) + [n_y]\n",
    "        for i in range(1, self.num_layers + 1):\n",
    "            W.append(np.random.randn(layers[i], layers[i - 1]) * 0.01)\n",
    "            b.append(np.zeros((layers[i], 1)))\n",
    "            \n",
    "            self.VdW.append(np.zeros((layers[i], layers[i - 1])))\n",
    "            self.Vdb.append(np.zeros((layers[i], 1)))\n",
    "        \n",
    "        self.parameters.update({\"W\": W, \"b\": b})\n",
    "                    \n",
    "    def __forward_propagation(self, X):\n",
    "        W = self.parameters[\"W\"]\n",
    "        b = self.parameters[\"b\"]\n",
    "        \n",
    "        A = []\n",
    "        Z = []\n",
    "        \n",
    "        for i in range(0, self.num_layers - 1):\n",
    "            if i == 0:\n",
    "                Z.append(np.dot(W[i], X) + b[i])\n",
    "            else:\n",
    "                Z.append(np.dot(W[i], A[i-1]) + b[i])\n",
    "            A.append(self.__sigmoid(Z[i]))\n",
    "        \n",
    "        Z.append(np.dot(W[-1], A[-1]) + b[-1])\n",
    "        A.append(self.__stable_softmax(Z[-1]))\n",
    "        \n",
    "        cache = (W, b, Z, A)\n",
    "\n",
    "        return A[-1], cache\n",
    "    \n",
    "    def __backward_propagation(self, X, Y, cache):\n",
    "        m = X.shape[1]\n",
    "        n = X.shape[0]\n",
    "        (W, b, Z, A) = cache\n",
    "        \n",
    "        dW = [None] * self.num_layers\n",
    "        dA = [None] * self.num_layers\n",
    "        dZ = [None] * self.num_layers\n",
    "        db = [None] * self.num_layers\n",
    "        \n",
    "        dZ[-1] = A[-1] - Y\n",
    "        dW[-1] = (1. / m) * np.dot(dZ[-1], A[-2].T)\n",
    "        db[-1] = (1. / m) * np.sum(dZ[-1], axis = 1, keepdims = True)\n",
    "        dA[-1] = np.dot(W[-1].T, dZ[-1])\n",
    "        \n",
    "        for i in range(self.num_layers-1, 0, -1):\n",
    "            dZ[i-1] = np.multiply(dA[i], self.__sigmoid_derivative(Z[i-1]))\n",
    "            if i-1 == 0:\n",
    "                dW[i-1] = 1. / m * np.dot(dZ[i-1], X.T)\n",
    "            else:\n",
    "                dW[i-1] = 1. / m * np.dot(dZ[i-1], A[i-2].T)\n",
    "            db[i-1] = 1. / m * np.sum(dZ[i-1], axis = 1, keepdims = True) \n",
    "            dA[i-1] = np.dot(W[i-1].T, dZ[i-1])\n",
    "        \n",
    "        grads = {\"dZ\" : dZ, \"dW\" : dW, \"db\" : db}\n",
    "        return grads\n",
    "    \n",
    "    def __update_parameters(self, grads, iteration):\n",
    "        for i in range(self.num_layers):\n",
    "            W = self.parameters[f\"W\"]\n",
    "            b = self.parameters[f\"b\"]\n",
    "            \n",
    "            dW = grads[f\"dW\"]\n",
    "            db = grads[f\"db\"]\n",
    "            \n",
    "            self.VdW[i] = (self.momentum * self.VdW[i] + (1 - self.momentum) * dW[i] / (1 - self.momentum ** (iteration + 1)))\n",
    "            self.Vdb[i] = (self.momentum * self.Vdb[i] + (1 - self.momentum) * db[i] / (1 - self.momentum ** (iteration + 1)))\n",
    "\n",
    "            W[i] = W[i] - self.learning_rate * self.VdW[i]\n",
    "            b[i] = b[i] - self.learning_rate * self.Vdb[i]\n",
    "            \n",
    "            self.parameters = {\"W\" : W, \"b\" : b}\n",
    "    \n",
    "    def __create_mini_batches(self, X, Y, batch_size):\n",
    "        m = X.shape[1]\n",
    "        x_columns = X.shape[0]\n",
    "        \n",
    "        permutation = list(np.random.permutation(m))\n",
    "        shuffled_X = X[:, permutation]        \n",
    "        shuffled_Y = Y[:, permutation]\n",
    "        data = np.vstack((shuffled_X, shuffled_Y))\n",
    "\n",
    "        mini_batches = []\n",
    "        n_minibatches = m // batch_size\n",
    "        \n",
    "        for i in range(n_minibatches): \n",
    "            mini_batch = data[:, i * batch_size:(i + 1)*batch_size] \n",
    "            X_mini = mini_batch[:x_columns, :] \n",
    "            Y_mini = mini_batch[x_columns:, :]\n",
    "            mini_batches.append((X_mini, Y_mini))\n",
    "        if m % batch_size != 0:\n",
    "            mini_batch = data[:, (i+1) * batch_size:m] \n",
    "            X_mini = mini_batch[:x_columns, :]\n",
    "            Y_mini = mini_batch[x_columns:, :]\n",
    "            mini_batches.append((X_mini, Y_mini)) \n",
    "        return mini_batches\n",
    "    \n",
    "    def fit(self, X_vert, Y_vert, print_cost=True, print_by=1000):\n",
    "        X, Y = X_vert.T, Y_vert.T\n",
    "        if self.normalize:\n",
    "            X, self.__mean, self.__std = self.__normalize(X)\n",
    "        costs = []\n",
    "        \n",
    "        m = X.shape[1]\n",
    "        n_x = X.shape[0]\n",
    "        n_y = Y.shape[0]\n",
    "        \n",
    "        self.__initialize_parameters(n_x, n_y, self.hidden_layer_sizes)\n",
    "        \n",
    "        for i in range(self.max_iter):\n",
    "            mini_batches = self.__create_mini_batches(X, Y, self.batch_size) \n",
    "            for (X_mini, Y_mini) in mini_batches:\n",
    "                A, cache = self.__forward_propagation(X_mini)\n",
    "\n",
    "                cost = self.__cross_entropy(A, Y_mini)\n",
    "\n",
    "                grads = self.__backward_propagation(X_mini, Y_mini, cache)\n",
    "\n",
    "                self.__update_parameters(grads, i)\n",
    "\n",
    "            costs.append(cost)\n",
    "\n",
    "            if print_cost and i % print_by == 0:\n",
    "                print(\"{}-th iteration: {}\".format(i, cost))\n",
    "                if i > 1:\n",
    "                    print(f\"Delta: {costs[-2] - costs[-1]}\")\n",
    "\n",
    "            if i > 1 and abs(costs[-2] - costs[-1]) < self.epsilon:\n",
    "                break\n",
    "                \n",
    "        if print_cost:\n",
    "            plt.plot(costs)\n",
    "            plt.ylabel(\"Cost\")\n",
    "            plt.xlabel(f\"Iteration, *{print_by}\")\n",
    "            plt.show()\n",
    "\n",
    "    def predict_proba(self, X_vert):\n",
    "        X = X_vert.T\n",
    "        if self.normalize:\n",
    "            X, _, _ = self.__normalize(X, self.__mean, self.__std)\n",
    "        \n",
    "        probs = self.__forward_propagation(X)[0]\n",
    "        return probs.T\n",
    "    \n",
    "    def predict(self, X_vert):\n",
    "        positive_probs = self.predict_proba(X_vert)\n",
    "        y_pred = self.likehood_func(positive_probs)\n",
    "        return y_pred  \n",
    "\n",
    "    def likehood_func(self, z):\n",
    "        return z.argmax(axis=1)"
   ]
  },
  {
   "cell_type": "markdown",
   "metadata": {},
   "source": [
    "Спочатку спробуйте цей клас на одній задачі, а потім на іншій."
   ]
  },
  {
   "cell_type": "code",
   "execution_count": 83,
   "metadata": {},
   "outputs": [
    {
     "name": "stdout",
     "output_type": "stream",
     "text": [
      "Training set: X=(150, 4), y=(150, 1)\n"
     ]
    }
   ],
   "source": [
    "data_columns = [\"Sepal length\", \"Sepal width\", \"Petal length\", \"Petal width\"]\n",
    "target_column = \"Species\"\n",
    "df = pd.read_csv(\"iris.csv\")\n",
    "X, Y = df[data_columns].values, df[target_column].values.reshape((df.shape[0], 1))\n",
    "print('Training set: X={}, y={}'.format(X.shape, Y.shape))"
   ]
  },
  {
   "cell_type": "code",
   "execution_count": 84,
   "metadata": {},
   "outputs": [
    {
     "name": "stdout",
     "output_type": "stream",
     "text": [
      "<class 'numpy.ndarray'>\n",
      "Training set: X=(120, 4), y=(120, 3)\n",
      "Test set: X=(30, 4), y=(30, 1)\n"
     ]
    }
   ],
   "source": [
    "from sklearn.preprocessing import OneHotEncoder\n",
    "\n",
    "X_train, X_test, y_train, y_test = train_test_split(X, Y, test_size = 0.2, shuffle = True)\n",
    "\n",
    "encoder = OneHotEncoder()\n",
    "encoder.fit(y_train)\n",
    "y_train = encoder.transform(y_train).toarray()\n",
    "y_labels =  [ label[3:] for label in encoder.get_feature_names()]\n",
    "\n",
    "print(type(y_train))\n",
    "print('Training set: X={}, y={}'.format(X_train.shape, y_train.shape))\n",
    "print('Test set: X={}, y={}'.format(X_test.shape, y_test.shape))"
   ]
  },
  {
   "cell_type": "code",
   "execution_count": 85,
   "metadata": {},
   "outputs": [
    {
     "name": "stdout",
     "output_type": "stream",
     "text": [
      "0-th iteration: 0.3652432942660946\n"
     ]
    },
    {
     "data": {
      "image/png": "[encoded data removed]",
      "text/plain": [
       "<Figure size 432x288 with 1 Axes>"
      ]
     },
     "metadata": {
      "needs_background": "light"
     },
     "output_type": "display_data"
    }
   ],
   "source": [
    "cls = NeuralNet(hidden_layer_sizes=(50, ), normalize=True, learning_rate = 0.01, max_iter = 1000, batch_size=30, momentum=0, epsilon=1e-8)\n",
    "cls.fit(X_train, y_train, print_cost=True, print_by=1000)"
   ]
  },
  {
   "cell_type": "code",
   "execution_count": 86,
   "metadata": {},
   "outputs": [
    {
     "name": "stdout",
     "output_type": "stream",
     "text": [
      "{'W': [array([[ 0.14169556, -0.06691953,  0.40945845,  0.14215509],\n",
      "       [ 0.09209087, -0.04629897,  0.25436302,  0.08374909],\n",
      "       [-0.16676024,  0.08115836, -0.44515192, -0.15738362],\n",
      "       [-0.05239744,  0.02770054, -0.13560083, -0.05280305],\n",
      "       [ 0.06344063, -0.03586952,  0.2103663 ,  0.09698709],\n",
      "       [ 0.13537963, -0.06414808,  0.37986293,  0.12617109],\n",
      "       [ 0.03114593, -0.03356023,  0.11937652,  0.0486908 ],\n",
      "       [-0.17209555,  0.08124149, -0.48972494, -0.16744268],\n",
      "       [-0.1758362 ,  0.06613414, -0.46615608, -0.16184359],\n",
      "       [ 0.0018122 ,  0.01296492, -0.0379898 , -0.01721015],\n",
      "       [-0.0488557 ,  0.00848901, -0.14322801, -0.06474932],\n",
      "       [-0.07155399,  0.04147123, -0.21778945, -0.08208198],\n",
      "       [-0.14034041,  0.04461609, -0.39251166, -0.1550365 ],\n",
      "       [ 0.12466962, -0.06977268,  0.36272029,  0.12995927],\n",
      "       [ 0.25200491, -0.12865675,  0.67756252,  0.19108352],\n",
      "       [ 0.24382203, -0.11828224,  0.62802723,  0.18450509],\n",
      "       [ 0.15299236, -0.07824909,  0.4417584 ,  0.14102435],\n",
      "       [-0.18564603,  0.06943015, -0.49955108, -0.16426461],\n",
      "       [-0.03756618,  0.01826231, -0.14392275, -0.06568922],\n",
      "       [-0.23556855,  0.08981356, -0.63541937, -0.19283936],\n",
      "       [ 0.16069021, -0.08129662,  0.41729082,  0.14695653],\n",
      "       [-0.01096712, -0.00280406, -0.05378645, -0.01893421],\n",
      "       [ 0.01240645, -0.00731721,  0.02787873,  0.01778129],\n",
      "       [-0.1145322 ,  0.02607501, -0.32371218, -0.10772433],\n",
      "       [-0.12833432,  0.05988873, -0.36286974, -0.12703144],\n",
      "       [ 0.21456194, -0.10322497,  0.63162122,  0.17129576],\n",
      "       [-0.09683388,  0.03483965, -0.31401802, -0.10068066],\n",
      "       [ 0.20558855, -0.08631808,  0.55147958,  0.17684105],\n",
      "       [ 0.04244688, -0.00911382,  0.0391075 ,  0.01024521],\n",
      "       [ 0.04832901, -0.03501463,  0.12952065,  0.03731633],\n",
      "       [ 0.12271551, -0.07086174,  0.34805587,  0.12127452],\n",
      "       [-0.10087416,  0.03404408, -0.26290311, -0.10414788],\n",
      "       [ 0.25232325, -0.11696766,  0.67449548,  0.19761655],\n",
      "       [-0.18032718,  0.09144704, -0.53766003, -0.17328834],\n",
      "       [ 0.20268126, -0.08642955,  0.5263207 ,  0.16035523],\n",
      "       [-0.14136174,  0.07232741, -0.39743995, -0.13633537],\n",
      "       [-0.13926069,  0.05376818, -0.38885489, -0.14507494],\n",
      "       [-0.07023067,  0.01704951, -0.21823168, -0.07064345],\n",
      "       [-0.13684385,  0.08303892, -0.45431773, -0.14354382],\n",
      "       [ 0.0992048 , -0.05251077,  0.3063212 ,  0.10878406],\n",
      "       [ 0.29085379, -0.1106248 ,  0.75227343,  0.20889533],\n",
      "       [-0.18596846,  0.08215147, -0.52376472, -0.17926074],\n",
      "       [ 0.22650336, -0.12643886,  0.61382579,  0.17879269],\n",
      "       [ 0.04937504, -0.021192  ,  0.14510323,  0.03329526],\n",
      "       [-0.00557052, -0.00843802, -0.02755653,  0.00654146],\n",
      "       [-0.03092385,  0.01875747, -0.0992265 , -0.03442853],\n",
      "       [-0.24078963,  0.10301148, -0.64008356, -0.19657723],\n",
      "       [-0.15089395,  0.08199175, -0.42658035, -0.15454473],\n",
      "       [ 0.1798693 , -0.08096632,  0.48425541,  0.16510355],\n",
      "       [-0.07719207,  0.02480669, -0.20099277, -0.09374486]]), array([[-3.92242648e-01, -2.39285532e-01,  3.64344347e-01,\n",
      "         1.01771525e-01, -2.22500157e-01, -3.60214875e-01,\n",
      "        -1.36622774e-01,  3.89525094e-01,  3.79831742e-01,\n",
      "         1.55716508e-02,  9.60466066e-02,  1.61898382e-01,\n",
      "         3.05560743e-01, -3.56288984e-01, -6.48367762e-01,\n",
      "        -6.02948161e-01, -4.07964292e-01,  4.03207970e-01,\n",
      "         1.05087555e-01,  5.32183329e-01, -3.98012842e-01,\n",
      "         1.89957697e-02, -5.49081495e-02,  2.52542328e-01,\n",
      "         2.90418436e-01, -5.92328935e-01,  2.22906349e-01,\n",
      "        -5.15378156e-01, -6.76129651e-02, -1.43331757e-01,\n",
      "        -3.36221909e-01,  1.89933427e-01, -6.35951578e-01,\n",
      "         4.48536479e-01, -4.98381085e-01,  3.22296351e-01,\n",
      "         3.08150244e-01,  1.72630457e-01,  3.68509265e-01,\n",
      "        -2.97124214e-01, -7.16117326e-01,  4.38102763e-01,\n",
      "        -5.81221292e-01, -1.47741276e-01, -1.04739169e-03,\n",
      "         5.65933822e-02,  5.34954834e-01,  3.54277720e-01,\n",
      "        -4.50946441e-01,  1.43420373e-01],\n",
      "       [ 5.73584528e-02,  5.89281368e-02, -3.96257730e-02,\n",
      "         1.93091344e-02,  5.02593150e-02,  7.56228565e-02,\n",
      "         4.90990587e-02, -3.87899237e-02, -2.78296005e-02,\n",
      "         1.47369103e-02,  1.39045250e-02, -1.39981941e-03,\n",
      "        -1.08827157e-02,  6.60494683e-02,  1.27659014e-01,\n",
      "         1.05918132e-01,  8.74862472e-02, -2.18505453e-02,\n",
      "         1.01594650e-02, -3.98318454e-02,  7.67600168e-02,\n",
      "         3.19174358e-02,  3.12942748e-02,  5.87251924e-03,\n",
      "        -2.24188241e-02,  1.09055435e-01, -1.16707242e-02,\n",
      "         9.82370927e-02,  3.20218260e-02,  5.16266196e-02,\n",
      "         7.65826197e-02, -3.32808506e-03,  1.21799724e-01,\n",
      "        -4.30223074e-02,  9.16594737e-02, -2.30860434e-02,\n",
      "        -1.06490170e-02, -2.33773041e-03, -3.91620215e-02,\n",
      "         5.62708945e-02,  1.10661228e-01, -4.16322652e-02,\n",
      "         1.25331470e-01,  5.07746299e-02,  3.05133573e-02,\n",
      "         1.51504289e-02, -5.77535167e-02, -1.65427770e-02,\n",
      "         9.64668527e-02, -1.43299400e-04],\n",
      "       [ 3.03147708e-01,  1.96540545e-01, -3.36344918e-01,\n",
      "        -8.90653824e-02,  1.48499150e-01,  2.81241662e-01,\n",
      "         8.16060752e-02, -3.81157352e-01, -3.54248657e-01,\n",
      "        -8.43372374e-03, -1.06172212e-01, -1.55963771e-01,\n",
      "        -3.09321630e-01,  2.61284961e-01,  5.10587475e-01,\n",
      "         4.73377785e-01,  3.34807544e-01, -3.83979475e-01,\n",
      "        -9.33832992e-02, -4.89230224e-01,  3.19709883e-01,\n",
      "        -3.25938872e-02,  2.36461439e-02, -2.31081030e-01,\n",
      "        -2.64045483e-01,  4.64763526e-01, -2.38965939e-01,\n",
      "         4.25119515e-01,  3.38516222e-02,  8.90438327e-02,\n",
      "         2.55459219e-01, -2.10389253e-01,  5.22794760e-01,\n",
      "        -3.96240436e-01,  3.93909834e-01, -2.90834574e-01,\n",
      "        -2.96521089e-01, -1.33082021e-01, -3.23168448e-01,\n",
      "         2.23009203e-01,  5.84823050e-01, -3.92216740e-01,\n",
      "         4.63313380e-01,  1.00443477e-01, -2.76797209e-03,\n",
      "        -6.94213855e-02, -4.99504044e-01, -3.14684505e-01,\n",
      "         3.76462536e-01, -1.60047852e-01]])], 'b': [array([[ 0.01526215],\n",
      "       [ 0.00548146],\n",
      "       [-0.01794106],\n",
      "       [-0.00217421],\n",
      "       [ 0.00554539],\n",
      "       [ 0.01293831],\n",
      "       [ 0.00229175],\n",
      "       [-0.02107156],\n",
      "       [-0.01868523],\n",
      "       [-0.00074995],\n",
      "       [-0.00244207],\n",
      "       [-0.00442219],\n",
      "       [-0.01399721],\n",
      "       [ 0.01280791],\n",
      "       [ 0.04742238],\n",
      "       [ 0.0373377 ],\n",
      "       [ 0.01743015],\n",
      "       [-0.01940087],\n",
      "       [-0.00273721],\n",
      "       [-0.03400344],\n",
      "       [ 0.0161124 ],\n",
      "       [-0.00058414],\n",
      "       [ 0.00050911],\n",
      "       [-0.00765979],\n",
      "       [-0.01119185],\n",
      "       [ 0.03763855],\n",
      "       [-0.0071361 ],\n",
      "       [ 0.03012815],\n",
      "       [ 0.0006813 ],\n",
      "       [ 0.00227263],\n",
      "       [ 0.01151006],\n",
      "       [-0.00573452],\n",
      "       [ 0.04731992],\n",
      "       [-0.02712327],\n",
      "       [ 0.02449626],\n",
      "       [-0.01306868],\n",
      "       [-0.01291165],\n",
      "       [-0.00458176],\n",
      "       [-0.01826575],\n",
      "       [ 0.00868553],\n",
      "       [ 0.05589248],\n",
      "       [-0.02692478],\n",
      "       [ 0.0375522 ],\n",
      "       [ 0.0023528 ],\n",
      "       [-0.00028688],\n",
      "       [-0.00140842],\n",
      "       [-0.0364832 ],\n",
      "       [-0.01608635],\n",
      "       [ 0.0234731 ],\n",
      "       [-0.0042666 ]]), array([[-0.08494167],\n",
      "       [ 0.0603984 ],\n",
      "       [ 0.02454326]])]}\n"
     ]
    }
   ],
   "source": [
    "print(cls.parameters)"
   ]
  },
  {
   "cell_type": "code",
   "execution_count": 87,
   "metadata": {},
   "outputs": [
    {
     "data": {
      "text/plain": [
       "array([[6.73064543e-03, 3.37363526e-01, 6.55905829e-01],\n",
       "       [1.09591406e-01, 5.97946391e-01, 2.92462203e-01],\n",
       "       [8.92262215e-01, 1.03126609e-01, 4.61117612e-03],\n",
       "       [8.66769078e-01, 1.26663780e-01, 6.56714209e-03],\n",
       "       [2.31733340e-02, 4.66004011e-01, 5.10822655e-01],\n",
       "       [9.01645765e-01, 9.43874830e-02, 3.96675249e-03],\n",
       "       [1.24360364e-02, 3.99610056e-01, 5.87953908e-01],\n",
       "       [2.34263380e-01, 5.87965218e-01, 1.77771402e-01],\n",
       "       [8.43884540e-01, 1.47579165e-01, 8.53629482e-03],\n",
       "       [1.16333640e-01, 6.00247720e-01, 2.83418640e-01],\n",
       "       [3.17902540e-03, 2.69783421e-01, 7.27037554e-01],\n",
       "       [1.08509166e-03, 1.90543394e-01, 8.08371514e-01],\n",
       "       [8.45282948e-01, 1.46298057e-01, 8.41899587e-03],\n",
       "       [5.11944185e-02, 5.45184200e-01, 4.03621382e-01],\n",
       "       [8.60778238e-01, 1.32171445e-01, 7.05031724e-03],\n",
       "       [7.10973559e-03, 3.43016601e-01, 6.49873664e-01],\n",
       "       [2.76003088e-03, 2.58339208e-01, 7.38900761e-01],\n",
       "       [7.50703169e-04, 1.68359057e-01, 8.30890240e-01],\n",
       "       [8.49200473e-03, 3.60685460e-01, 6.30822535e-01],\n",
       "       [3.91851655e-04, 1.34422919e-01, 8.65185229e-01],\n",
       "       [1.83088911e-01, 6.01839285e-01, 2.15071803e-01],\n",
       "       [8.89240486e-01, 1.05929495e-01, 4.83001888e-03],\n",
       "       [8.99715265e-01, 9.61889441e-02, 4.09579095e-03],\n",
       "       [8.74486818e-01, 1.19583317e-01, 5.92986518e-03],\n",
       "       [2.48169631e-02, 4.73083821e-01, 5.02099216e-01],\n",
       "       [1.53195770e-01, 6.04895982e-01, 2.41908248e-01],\n",
       "       [2.61817741e-01, 5.77356950e-01, 1.60825309e-01],\n",
       "       [4.29348153e-03, 2.95634664e-01, 7.00071854e-01],\n",
       "       [4.00077738e-02, 5.22005977e-01, 4.37986250e-01],\n",
       "       [3.32153399e-02, 5.02956749e-01, 4.63827911e-01]])"
      ]
     },
     "execution_count": 87,
     "metadata": {},
     "output_type": "execute_result"
    }
   ],
   "source": [
    "Y_prob = cls.predict_proba(X_test)\n",
    "Y_prob"
   ]
  },
  {
   "cell_type": "code",
   "execution_count": 88,
   "metadata": {},
   "outputs": [],
   "source": [
    "Y_hat = cls.predict(X_test)\n",
    "Y_hat_labels = [y_labels[i] for i in Y_hat]"
   ]
  },
  {
   "cell_type": "code",
   "execution_count": 89,
   "metadata": {},
   "outputs": [
    {
     "data": {
      "text/plain": [
       "0.9333333333333333"
      ]
     },
     "execution_count": 89,
     "metadata": {},
     "output_type": "execute_result"
    }
   ],
   "source": [
    "accuracy_score(y_test, Y_hat_labels)"
   ]
  },
  {
   "cell_type": "markdown",
   "metadata": {},
   "source": [
    "Зверніть увагу на границю прийняття рішення. Модель старається побудувати складну криву, що може свідчити про її перетренування. Порівняйте отримані результати з класом з sklearn. Спробуйте додати нові шари для нашого класу та порівняти результати тоді. Поекспериментуйте з гіперпараметрами для обох класів."
   ]
  },
  {
   "cell_type": "code",
   "execution_count": 90,
   "metadata": {},
   "outputs": [],
   "source": [
    "from sklearn.neural_network import MLPClassifier\n",
    "clf = MLPClassifier(hidden_layer_sizes = (20,10), max_iter = 11000, activation = 'relu', solver = 'sgd', learning_rate_init = 0.01, learning_rate = 'constant')"
   ]
  },
  {
   "cell_type": "code",
   "execution_count": 91,
   "metadata": {},
   "outputs": [
    {
     "data": {
      "text/plain": [
       "MLPClassifier(activation='relu', alpha=0.0001, batch_size='auto', beta_1=0.9,\n",
       "              beta_2=0.999, early_stopping=False, epsilon=1e-08,\n",
       "              hidden_layer_sizes=(20, 10), learning_rate='constant',\n",
       "              learning_rate_init=0.01, max_fun=15000, max_iter=11000,\n",
       "              momentum=0.9, n_iter_no_change=10, nesterovs_momentum=True,\n",
       "              power_t=0.5, random_state=None, shuffle=True, solver='sgd',\n",
       "              tol=0.0001, validation_fraction=0.1, verbose=False,\n",
       "              warm_start=False)"
      ]
     },
     "execution_count": 91,
     "metadata": {},
     "output_type": "execute_result"
    }
   ],
   "source": [
    "clf.fit(X_train, y_train)"
   ]
  },
  {
   "cell_type": "code",
   "execution_count": 92,
   "metadata": {},
   "outputs": [
    {
     "data": {
      "text/plain": [
       "0.9666666666666667"
      ]
     },
     "execution_count": 92,
     "metadata": {},
     "output_type": "execute_result"
    }
   ],
   "source": [
    "Y_pred = clf.predict(X_test)\n",
    "Y_pred_labels = [y_labels[np.argmax(i)] for i in Y_pred]\n",
    "accuracy_score(y_test, Y_pred_labels)"
   ]
  }
 ],
 "metadata": {
  "anaconda-cloud": {},
  "kernelspec": {
   "display_name": "Python 3",
   "language": "python",
   "name": "python3"
  },
  "language_info": {
   "codemirror_mode": {
    "name": "ipython",
    "version": 3
   },
   "file_extension": ".py",
   "mimetype": "text/x-python",
   "name": "python",
   "nbconvert_exporter": "python",
   "pygments_lexer": "ipython3",
   "version": "3.7.6"
  }
 },
 "nbformat": 4,
 "nbformat_minor": 1
}
