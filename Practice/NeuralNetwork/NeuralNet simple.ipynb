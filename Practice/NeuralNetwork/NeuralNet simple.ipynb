{
 "cells": [
  {
   "cell_type": "markdown",
   "metadata": {},
   "source": [
    "В цій практичній роботі ми спробуємо реалізувати нейронну мережу з двох шарів (прихований і вихідний). Запропонований підхід стане заготовкою для реалізації наступних оптимізацій: MBGD, ADAM та регуляризації. \n",
    "\n",
    "Сьогодні ж вам пропонується додати до цього класу підтримку довільної кількості шарів та нейронів в них (наприклад, передавати їх параметром в конструктор, як це робиться в MLPClassifier за допомогою hidden_layer_sizes). Також потрібно передбачити можливість ранньої зупинки ітераційного процесу, якщо значення штрафної функції не покращуватиметься протягом певної кількості ітерацій. Наприклад, якщо протягом $k$ ітерацій штрафна функція за модулем не стане меншою, ніж на поточному кроці."
   ]
  },
  {
   "cell_type": "code",
   "execution_count": 2,
   "metadata": {},
   "outputs": [],
   "source": [
    "import numpy as np\n",
    "import pandas as pd\n",
    "from sklearn.model_selection import train_test_split\n",
    "from mpl_toolkits.mplot3d import Axes3D\n",
    "import matplotlib.pyplot as plt\n",
    "\n",
    "from matplotlib.colors import ListedColormap\n",
    "cm_bright = ListedColormap(['#FF0000', '#0000FF'])\n",
    "%matplotlib inline\n",
    "from sklearn.metrics import accuracy_score\n",
    "\n",
    "import sklearn.linear_model"
   ]
  },
  {
   "cell_type": "code",
   "execution_count": 2,
   "metadata": {},
   "outputs": [],
   "source": [
    "def plot_surface(cls, x_1, x_2, ax=None, threshold=0.5, contourf=False):\n",
    "    xx1, xx2 = np.meshgrid(np.linspace(x_1.min(), x_1.max(), 100), \n",
    "                           np.linspace(x_2.min(), x_2.max(), 100))\n",
    "\n",
    "    X_pred = np.c_[xx1.ravel(), xx2.ravel()]\n",
    "    pred = cls.predict_proba(X_pred)[:, 0]\n",
    "    Z = pred.reshape((100, 100))\n",
    "    if ax is None:\n",
    "        ax = plt.gca()\n",
    "    ax.contour(xx1, xx2, Z, levels=[threshold], colors='black')\n",
    "    ax.set_xlim((x_1.min(), x_1.max()))\n",
    "    ax.set_ylim((x_2.min(), x_2.max()))"
   ]
  },
  {
   "cell_type": "code",
   "execution_count": 3,
   "metadata": {},
   "outputs": [],
   "source": [
    "# def plot_data(X, y):\n",
    "#     ax = plt.gca()\n",
    "#     ax.scatter(X[:,0], X[:,1], c=(y == 1), cmap=cm_bright)\n",
    "    \n",
    "def plot_data(A, b, test = False):\n",
    "    positive_indices = np.where(b == 1)[0]\n",
    "    negative_indices = np.where(b == 0)[0]\n",
    "    \n",
    "    plt.scatter(A[positive_indices, 0], A[positive_indices, 1], marker='x', c= 'yellow' if test else 'green')\n",
    "    plt.scatter(A[negative_indices, 0], A[negative_indices, 1], marker='+', c= 'blue' if test else 'red')"
   ]
  },
  {
   "cell_type": "code",
   "execution_count": null,
   "metadata": {},
   "outputs": [],
   "source": []
  },
  {
   "cell_type": "code",
   "execution_count": 4,
   "metadata": {},
   "outputs": [],
   "source": [
    "class NeuralNet:\n",
    "    \"\"\"\n",
    "    NN for binary classification\n",
    "    Attributes:\n",
    "    ...\n",
    "    \"\"\"\n",
    "    # hidden_layer_sizes=(100, 50,)\n",
    "    def __init__(self, hidden_layer_sizes, normalize = True, learning_rate = 0.01, num_iter = 30000):\n",
    "        self.learning_rate = learning_rate\n",
    "        self.num_iter = num_iter\n",
    "        self.normalize = normalize\n",
    "        self.hidden_layer_sizes = hidden_layer_sizes\n",
    "    \n",
    "    def __normalize(self, X, mean = None, std = None):\n",
    "        \"\"\"\n",
    "        Зверніть увагу, що нормалізація вхідних даних є дуже важливою для швидкодії нейронних мереж.\n",
    "        \"\"\"\n",
    "        n = X.shape[0]\n",
    "        m = mean\n",
    "        if m is None:\n",
    "            m = np.mean(X, axis=1).reshape((n, 1))\n",
    "        s = std\n",
    "        if s is None:\n",
    "            s = np.std(X, axis=1).reshape((n, 1))\n",
    "        X_new = (X - m) / s**2\n",
    "        return X_new, m, s\n",
    "\n",
    "    def __sigmoid(self, Z):\n",
    "        \"\"\"\n",
    "        В наступних практичних потрібно буде додати підтримку й інших активаційних функцій - це один з гіперпараметрів. \n",
    "        Їх можна вибирати для всіх шарів одночасно або мати різні активаційні функції на кожному з них.\n",
    "        \"\"\"\n",
    "        return 1 / (1 + np.exp(-Z))\n",
    "    \n",
    "    def __initialize_parameters(self, n_x):\n",
    "        self.parameters = {}\n",
    "        n = len(n_x)\n",
    "        \n",
    "        for i in range(1, len(n_x)):\n",
    "            if (i == n):\n",
    "                continue\n",
    "            W = np.random.randn(n_x[i], n_x[i - 1]) * 0.01\n",
    "            b = np.zeros((n_x[i], 1))\n",
    "            self.parameters.update({f\"W{i}\": W, f\"b{i}\": b})\n",
    "\n",
    "        W = np.random.randn(1, n_x[n-1]) * 0.01\n",
    "        b = 0\n",
    "        \n",
    "        self.parameters.update({f\"W{n}\":W, f\"b{n}\":b})\n",
    "                    \n",
    "    def __forward_propagation(self, X):\n",
    "        num_layers = len(self.hidden_layer_sizes)\n",
    "        cache = self.parameters.copy()\n",
    "        \n",
    "        A = X\n",
    "        for i in range(1, num_layers + 2):\n",
    "            W = self.parameters[f\"W{i}\"]\n",
    "            b = self.parameters[f\"b{i}\"]\n",
    "            Z = np.dot(W, A) + b\n",
    "            A = self.__sigmoid(Z)\n",
    "            cache.update({f\"Z{i}\": Z})\n",
    "            cache.update({f\"A{i}\": A})\n",
    "        return A, cache\n",
    "    \n",
    "    def compute_cost(self, A, Y):\n",
    "        m = Y.shape[1]\n",
    "        res = Y * np.log(A) + (1 - Y) * np.log(1 - A)\n",
    "        J = -(1 / m) * np.sum(res)\n",
    "        return J\n",
    "        \n",
    "    def __backward_propagation(self, X, Y, cache):\n",
    "        m = X.shape[1]\n",
    "        n = X.shape[0]\n",
    "        num_layers = len(self.hidden_layer_sizes)\n",
    "        \n",
    "        grads = {}\n",
    "        \n",
    "        for i in range(num_layers+1, 0, -1):\n",
    "            W = cache[f\"W{i}\"]\n",
    "            b = cache[f\"b{i}\"]\n",
    "            Z = cache[f\"Z{i}\"]\n",
    "\n",
    "            if i == num_layers + 1:\n",
    "                A = cache[f\"A{i}\"]\n",
    "                A_next = cache[f\"A{i - 1}\"]\n",
    "                \n",
    "                dZ = A - Y\n",
    "                dW = 1. / m * np.dot(dZ, A_next.T)\n",
    "                db = 1. / m * np.sum(dZ, axis = 1, keepdims = True)\n",
    "                \n",
    "            elif (i == 1):\n",
    "                W_prev = cache[f\"W{i + 1}\"]\n",
    "                A = cache[f\"A{i}\"]\n",
    "                dA = np.dot(W_prev.T, dZ)\n",
    "\n",
    "                dZ = np.multiply(dA, np.multiply(A, 1 - A))\n",
    "                dW = 1. / m * np.dot(dZ, X.T)\n",
    "                db = 1. / m * np.sum(dZ, axis = 1, keepdims = True)\n",
    "            else:\n",
    "                W_prev = cache[f\"W{i + 1}\"]\n",
    "                A = cache[f\"A{i}\"]\n",
    "                A_next = cache[f\"A{i - 1}\"]\n",
    "\n",
    "                dA = np.dot(W_prev.T, dZ)\n",
    "                dZ = np.multiply(dA, np.multiply(A, 1 - A))\n",
    "                dW = 1. / m * np.dot(dZ, A_next.T)\n",
    "                db = 1. / m * np.sum(dZ, axis = 1, keepdims = True)\n",
    "            grads.update({f\"dZ{i}\":dZ, f\"dW{i}\":dW, f\"db{i}\":db})\n",
    "        return grads\n",
    "    \n",
    "    def __update_parameters(self, grads):\n",
    "        num_layers = len(self.hidden_layer_sizes)\n",
    "        \n",
    "        for i in range(1, num_layers + 2):\n",
    "            W = self.parameters[f\"W{i}\"]\n",
    "            b = self.parameters[f\"b{i}\"]\n",
    "            \n",
    "            dW = grads[f\"dW{i}\"]\n",
    "            db = grads[f\"db{i}\"]\n",
    "            \n",
    "            self.parameters[f\"W{i}\"] = W - self.learning_rate * dW\n",
    "            self.parameters[f\"b{i}\"] = b - self.learning_rate * db\n",
    "            \n",
    "    def fit(self, X_vert, Y_vert, epsilon=1e-08, print_cost = True):\n",
    "        \n",
    "        X, Y = X_vert.T, Y_vert.T\n",
    "        \n",
    "        if self.normalize:\n",
    "            X, self.__mean, self.__std = self.__normalize(X)\n",
    "        \n",
    "        costs = []\n",
    "        \n",
    "        m = X.shape[1]\n",
    "        n_x = (X.shape[0],) + self.hidden_layer_sizes\n",
    "        \n",
    "        self.__initialize_parameters(n_x)\n",
    "        \n",
    "        \n",
    "        for i in range(self.num_iter):\n",
    "            A, cache = self.__forward_propagation(X)\n",
    "\n",
    "            cost = self.compute_cost(A, Y)\n",
    "\n",
    "            grads = self.__backward_propagation(X, Y, cache)\n",
    "\n",
    "            self.__update_parameters(grads)\n",
    "\n",
    "            costs.append(cost)\n",
    "\n",
    "            if print_cost and i % 1000 == 0:\n",
    "                print(\"{}-th iteration: {}\".format(i, cost))\n",
    "                if i > 1:\n",
    "                    print(costs[-2] - costs[-1])\n",
    "\n",
    "                \n",
    "            # break condition\n",
    "            if i > 1 and abs(costs[-2] - costs[-1]) < epsilon:\n",
    "                print(\"break\")\n",
    "                break\n",
    "                \n",
    "        if print_cost:\n",
    "            plt.plot(costs)\n",
    "            plt.ylabel(\"Cost\")\n",
    "            plt.xlabel(\"Iteration, *1000\")\n",
    "            plt.show()\n",
    "\n",
    "            \n",
    "    def predict_proba(self, X_vert):\n",
    "        X = X_vert.T\n",
    "        if self.normalize:\n",
    "            X, _, _ = self.__normalize(X, self.__mean, self.__std)\n",
    "        \n",
    "        probs = self.__forward_propagation(X)[0]\n",
    "        print(probs)\n",
    "        return np.column_stack((probs.T, 1 - probs.T))\n",
    "    \n",
    "    def predict(self, X_vert):\n",
    "        positive_probs = self.predict_proba(X_vert)[:, 0]\n",
    "        return (positive_probs >= 0.5).astype(int)   \n"
   ]
  },
  {
   "cell_type": "markdown",
   "metadata": {},
   "source": [
    "Спочатку спробуйте цей клас на одній задачі, а потім на іншій."
   ]
  },
  {
   "cell_type": "code",
   "execution_count": 5,
   "metadata": {},
   "outputs": [],
   "source": [
    "# data_columns = [\"exam1\", \"exam2\"]\n",
    "# target_column = \"submitted\"\n",
    "# df = pd.read_csv(\"sats.csv\")\n",
    "# X, Y = df[data_columns].values, df[target_column] #.values.reshape((df.shape[0], 1))\n",
    "# print('Training set: X={}, y={}'.format(X.shape, Y.shape))"
   ]
  },
  {
   "cell_type": "code",
   "execution_count": 6,
   "metadata": {},
   "outputs": [
    {
     "name": "stdout",
     "output_type": "stream",
     "text": [
      "Training set: X=(118, 2), y=(118,)\n"
     ]
    }
   ],
   "source": [
    "np.random.seed(1)\n",
    "\n",
    "data_columns = [\"test1\", \"test2\"]\n",
    "target_column = \"passed\"\n",
    "df = pd.read_csv(\"tests.csv\")\n",
    "X, Y = df[data_columns].values, df[target_column]\n",
    "print('Training set: X={}, y={}'.format(X.shape, Y.shape))"
   ]
  },
  {
   "cell_type": "code",
   "execution_count": 7,
   "metadata": {},
   "outputs": [
    {
     "data": {
      "image/png": "[encoded data removed]",
      "text/plain": [
       "<Figure size 432x288 with 1 Axes>"
      ]
     },
     "metadata": {
      "needs_background": "light"
     },
     "output_type": "display_data"
    }
   ],
   "source": [
    "plot_data(X, Y)"
   ]
  },
  {
   "cell_type": "code",
   "execution_count": 8,
   "metadata": {},
   "outputs": [
    {
     "name": "stdout",
     "output_type": "stream",
     "text": [
      "Training set: X=(94, 2), y=(94,)\n",
      "Test set: X=(24, 2), y=(24,)\n"
     ]
    }
   ],
   "source": [
    "X_train, X_test, y_train, y_test = train_test_split(X, Y, test_size = 0.2, shuffle = True)\n",
    "\n",
    "print('Training set: X={}, y={}'.format(X_train.shape, y_train.shape))\n",
    "print('Test set: X={}, y={}'.format(X_test.shape, y_test.shape))"
   ]
  },
  {
   "cell_type": "code",
   "execution_count": 9,
   "metadata": {},
   "outputs": [
    {
     "name": "stdout",
     "output_type": "stream",
     "text": [
      "0-th iteration: 0.6932069778426166\n",
      "1000-th iteration: 0.692241108331832\n",
      "3.805161741254892e-10\n",
      "2000-th iteration: 0.6922406063950024\n",
      "6.71205868663094e-10\n",
      "3000-th iteration: 0.6922395948537028\n",
      "1.5011768494943567e-09\n",
      "4000-th iteration: 0.6922369642196179\n",
      "4.413350906951052e-09\n",
      "5000-th iteration: 0.6922270635054881\n",
      "2.023294232156303e-08\n",
      "6000-th iteration: 0.6921459129087135\n",
      "2.507002861973362e-07\n",
      "7000-th iteration: 0.6860233555229563\n",
      "1.9048030720503206e-05\n",
      "8000-th iteration: 0.6671336917577222\n",
      "3.703655560993724e-05\n",
      "9000-th iteration: 0.6149513074144309\n",
      "0.0001549364267977582\n",
      "10000-th iteration: 0.3421476777887516\n",
      "6.095093520031014e-05\n"
     ]
    },
    {
     "data": {
      "image/png": "[encoded data removed]",
      "text/plain": [
       "<Figure size 432x288 with 1 Axes>"
      ]
     },
     "metadata": {
      "needs_background": "light"
     },
     "output_type": "display_data"
    }
   ],
   "source": [
    "cls = NeuralNet((20, 10), normalize = True, learning_rate = 0.5, num_iter = 11000)\n",
    "cls.fit(X_train, y_train.values.reshape((X_train.shape[0], 1)), epsilon=1e-15)"
   ]
  },
  {
   "cell_type": "code",
   "execution_count": 10,
   "metadata": {},
   "outputs": [
    {
     "name": "stdout",
     "output_type": "stream",
     "text": [
      "{'W1': array([[ 0.47623115,  0.18359782],\n",
      "       [ 0.3932404 ,  0.11783947],\n",
      "       [ 0.4441177 , -0.76146182],\n",
      "       [ 0.23111933, -2.49045176],\n",
      "       [-0.85815331, -0.65794137],\n",
      "       [-1.03673101, -0.54265604],\n",
      "       [-0.75117513, -0.55820867],\n",
      "       [-1.06336344, -0.56216503],\n",
      "       [ 0.29637974,  1.98661763],\n",
      "       [-0.95363202, -0.51843755],\n",
      "       [ 0.65748723, -1.43897806],\n",
      "       [-0.35916393, -0.39277593],\n",
      "       [ 0.36971439,  0.08998641],\n",
      "       [-0.98107362, -0.52402367],\n",
      "       [-1.1743544 , -0.63698694],\n",
      "       [ 0.44207325,  0.14116269],\n",
      "       [-0.96404717, -0.51938639],\n",
      "       [ 0.46628325,  0.18082994],\n",
      "       [ 0.43336481,  0.13488184],\n",
      "       [ 0.4387524 ,  0.13445968]]), 'b1': array([[ 0.01592623],\n",
      "       [-0.10969375],\n",
      "       [-1.25979781],\n",
      "       [ 4.65375539],\n",
      "       [ 0.69555662],\n",
      "       [ 0.08051515],\n",
      "       [ 0.5121988 ],\n",
      "       [ 0.03680552],\n",
      "       [ 4.77618268],\n",
      "       [ 0.13808709],\n",
      "       [ 1.80074066],\n",
      "       [-0.04614303],\n",
      "       [-0.17956306],\n",
      "       [ 0.11669095],\n",
      "       [-0.01522851],\n",
      "       [ 0.04475212],\n",
      "       [ 0.11719753],\n",
      "       [-0.01717235],\n",
      "       [ 0.0330128 ],\n",
      "       [ 0.06352201]]), 'W2': array([[-1.66900858e-01, -2.55366145e-01, -3.69356825e-01,\n",
      "         4.77883556e-01,  1.74717989e-01,  5.02788782e-02,\n",
      "         1.48764773e-01,  3.68320635e-02,  5.89824348e-01,\n",
      "         8.14232014e-02,  1.18119095e-01, -3.00237130e-02,\n",
      "        -2.44499498e-01,  8.27412606e-02,  2.46661009e-02,\n",
      "        -1.73803047e-01,  5.22572281e-02, -1.67759541e-01,\n",
      "        -2.08463815e-01, -2.00899685e-01],\n",
      "       [-6.21084848e-01, -9.51620143e-01, -1.50071822e+00,\n",
      "         2.27130695e+00,  6.46126029e-01,  2.02115006e-01,\n",
      "         5.18068573e-01,  1.29575758e-01,  2.74029161e+00,\n",
      "         2.52111563e-01,  7.57589727e-01, -1.54192305e-01,\n",
      "        -9.94713449e-01,  2.43121155e-01,  4.42470488e-02,\n",
      "        -7.66565967e-01,  2.39512912e-01, -5.65264327e-01,\n",
      "        -8.19844587e-01, -8.21976240e-01],\n",
      "       [-5.04050543e-01, -6.17407315e-01, -2.47601730e-01,\n",
      "        -1.98858365e+00,  3.94363105e-01,  6.84385333e-01,\n",
      "         5.31404720e-01,  6.79909654e-01, -2.33755706e+00,\n",
      "         6.90608788e-01, -3.35025979e-01,  3.22780686e-01,\n",
      "        -5.76607665e-01,  6.72866327e-01,  6.72476866e-01,\n",
      "        -6.10900834e-01,  6.76973891e-01, -4.67800127e-01,\n",
      "        -6.27084728e-01, -6.54434381e-01],\n",
      "       [ 7.64132085e-01,  1.11264952e+00,  1.54949171e+00,\n",
      "        -2.56554614e+00, -8.05128308e-01, -5.03355856e-01,\n",
      "        -7.36869222e-01, -4.32717277e-01, -2.66170594e+00,\n",
      "        -5.36924936e-01, -1.14162279e+00, -7.68217391e-03,\n",
      "         1.12107466e+00, -5.16617181e-01, -3.80799994e-01,\n",
      "         9.15797429e-01, -5.18501074e-01,  7.26941092e-01,\n",
      "         9.93001816e-01,  9.85447793e-01],\n",
      "       [-3.67337653e-01, -4.32182967e-01, -1.88339596e-01,\n",
      "        -9.44307576e-01,  2.02618913e-01,  4.05459854e-01,\n",
      "         2.90979220e-01,  3.90854761e-01, -1.26259226e+00,\n",
      "         3.82436489e-01, -2.30479607e-02,  2.08707703e-01,\n",
      "        -4.02305752e-01,  3.80787796e-01,  3.99666148e-01,\n",
      "        -4.18691025e-01,  3.73881173e-01, -3.17774332e-01,\n",
      "        -4.28259344e-01, -4.42844281e-01],\n",
      "       [-4.76066401e-01, -7.10621076e-01, -1.12959043e+00,\n",
      "         1.96264655e+00,  3.66201500e-01, -2.12942906e-02,\n",
      "         2.58978055e-01, -8.17363347e-02,  1.99704733e+00,\n",
      "         2.57492583e-02,  6.30738088e-01, -2.22785233e-01,\n",
      "        -7.78071594e-01, -7.56923001e-04, -1.84729779e-01,\n",
      "        -5.78038030e-01,  1.20195104e-02, -4.59119234e-01,\n",
      "        -6.12696258e-01, -6.18681991e-01],\n",
      "       [-5.17288128e-01, -5.77174405e-01, -2.62794788e-01,\n",
      "        -1.80005269e+00,  3.81552692e-01,  6.51405152e-01,\n",
      "         5.10998286e-01,  6.46229784e-01, -2.18802079e+00,\n",
      "         6.23156609e-01, -2.48653942e-01,  3.25944243e-01,\n",
      "        -5.55039589e-01,  6.51654851e-01,  6.38756740e-01,\n",
      "        -5.74165336e-01,  6.37910026e-01, -4.30918182e-01,\n",
      "        -6.34085697e-01, -6.37638887e-01],\n",
      "       [ 4.33617070e-01,  6.03774392e-01,  9.30169915e-01,\n",
      "        -1.57079953e+00, -2.77551297e-01,  1.82635282e-02,\n",
      "        -2.08990880e-01,  5.40319069e-02, -1.72295168e+00,\n",
      "        -2.72019603e-02, -4.10295107e-01,  1.38825959e-01,\n",
      "         6.41472980e-01, -1.51780855e-02,  1.01307556e-01,\n",
      "         4.97290195e-01, -1.00202893e-02,  4.11729207e-01,\n",
      "         5.47291722e-01,  5.27406733e-01],\n",
      "       [-4.05836562e-01, -4.57090948e-01, -1.95582275e-01,\n",
      "        -1.03706452e+00,  2.44338079e-01,  4.46187181e-01,\n",
      "         3.44321238e-01,  4.25556287e-01, -1.43918739e+00,\n",
      "         4.25777007e-01, -2.31764067e-02,  2.63662612e-01,\n",
      "        -4.39746714e-01,  4.37269628e-01,  4.27829530e-01,\n",
      "        -4.40644855e-01,  4.42940999e-01, -3.47766490e-01,\n",
      "        -4.56433060e-01, -4.84824888e-01],\n",
      "       [-4.87468497e-01, -5.66716547e-01, -2.11699694e-01,\n",
      "        -1.80027594e+00,  3.75059746e-01,  6.66214975e-01,\n",
      "         5.21681183e-01,  6.33625396e-01, -2.23037947e+00,\n",
      "         6.34518182e-01, -2.32212794e-01,  3.18330932e-01,\n",
      "        -5.46281218e-01,  6.46914621e-01,  6.58861786e-01,\n",
      "        -5.61840725e-01,  6.39386590e-01, -4.48943302e-01,\n",
      "        -5.99440229e-01, -6.31920654e-01]]), 'b2': array([[-0.11134845],\n",
      "       [-0.48348052],\n",
      "       [ 0.06112396],\n",
      "       [ 0.46367162],\n",
      "       [-0.01907223],\n",
      "       [-0.52893344],\n",
      "       [ 0.04262151],\n",
      "       [ 0.48084374],\n",
      "       [-0.01045626],\n",
      "       [ 0.05208962]]), 'W3': array([[ 0.85625369,  4.96276085, -4.04242843, -5.79832247, -2.04323894,\n",
      "         3.74587614, -3.7218646 , -3.32626359, -2.30294058, -3.75159117]]), 'b3': array([[-0.65252321]])}\n"
     ]
    }
   ],
   "source": [
    "print(cls.parameters)"
   ]
  },
  {
   "cell_type": "code",
   "execution_count": 11,
   "metadata": {},
   "outputs": [
    {
     "name": "stdout",
     "output_type": "stream",
     "text": [
      "[[0.46642685 0.57254451 0.91422611 0.89307887 0.66767915 0.20717902\n",
      "  0.70244165 0.05432103 0.20232629 0.09547604 0.97223824 0.27974919\n",
      "  0.38750598 0.23918166 0.8156746  0.0079801  0.07220132 0.97982931\n",
      "  0.39664188 0.04590415 0.13725457 0.75627389 0.99281505 0.15183382]]\n"
     ]
    },
    {
     "data": {
      "text/plain": [
       "array([[0.46642685, 0.53357315],\n",
       "       [0.57254451, 0.42745549],\n",
       "       [0.91422611, 0.08577389],\n",
       "       [0.89307887, 0.10692113],\n",
       "       [0.66767915, 0.33232085],\n",
       "       [0.20717902, 0.79282098],\n",
       "       [0.70244165, 0.29755835],\n",
       "       [0.05432103, 0.94567897],\n",
       "       [0.20232629, 0.79767371],\n",
       "       [0.09547604, 0.90452396],\n",
       "       [0.97223824, 0.02776176],\n",
       "       [0.27974919, 0.72025081],\n",
       "       [0.38750598, 0.61249402],\n",
       "       [0.23918166, 0.76081834],\n",
       "       [0.8156746 , 0.1843254 ],\n",
       "       [0.0079801 , 0.9920199 ],\n",
       "       [0.07220132, 0.92779868],\n",
       "       [0.97982931, 0.02017069],\n",
       "       [0.39664188, 0.60335812],\n",
       "       [0.04590415, 0.95409585],\n",
       "       [0.13725457, 0.86274543],\n",
       "       [0.75627389, 0.24372611],\n",
       "       [0.99281505, 0.00718495],\n",
       "       [0.15183382, 0.84816618]])"
      ]
     },
     "execution_count": 11,
     "metadata": {},
     "output_type": "execute_result"
    }
   ],
   "source": [
    "Y_prob = cls.predict_proba(X_test)\n",
    "Y_prob"
   ]
  },
  {
   "cell_type": "code",
   "execution_count": 12,
   "metadata": {},
   "outputs": [
    {
     "name": "stdout",
     "output_type": "stream",
     "text": [
      "[[0.46642685 0.57254451 0.91422611 0.89307887 0.66767915 0.20717902\n",
      "  0.70244165 0.05432103 0.20232629 0.09547604 0.97223824 0.27974919\n",
      "  0.38750598 0.23918166 0.8156746  0.0079801  0.07220132 0.97982931\n",
      "  0.39664188 0.04590415 0.13725457 0.75627389 0.99281505 0.15183382]]\n"
     ]
    },
    {
     "data": {
      "text/plain": [
       "array([0, 1, 1, 1, 1, 0, 1, 0, 0, 0, 1, 0, 0, 0, 1, 0, 0, 1, 0, 0, 0, 1,\n",
       "       1, 0])"
      ]
     },
     "execution_count": 12,
     "metadata": {},
     "output_type": "execute_result"
    }
   ],
   "source": [
    "Y_hat = cls.predict(X_test)\n",
    "Y_hat"
   ]
  },
  {
   "cell_type": "code",
   "execution_count": 13,
   "metadata": {},
   "outputs": [
    {
     "data": {
      "text/plain": [
       "0.875"
      ]
     },
     "execution_count": 13,
     "metadata": {},
     "output_type": "execute_result"
    }
   ],
   "source": [
    "accuracy_score(y_test, Y_hat)"
   ]
  },
  {
   "cell_type": "code",
   "execution_count": 14,
   "metadata": {},
   "outputs": [
    {
     "name": "stdout",
     "output_type": "stream",
     "text": [
      "[[0.00058158 0.00057728 0.00057301 ... 0.0003037  0.00030066 0.00029778]]\n"
     ]
    },
    {
     "data": {
      "image/png": "[encoded data removed]",
      "text/plain": [
       "<Figure size 432x288 with 1 Axes>"
      ]
     },
     "metadata": {
      "needs_background": "light"
     },
     "output_type": "display_data"
    }
   ],
   "source": [
    "plot_data(X_train, y_train)\n",
    "plot_data(X_test, y_test, test=True)\n",
    "\n",
    "plot_surface(cls, X[:, 0], X[:, 1])"
   ]
  },
  {
   "cell_type": "markdown",
   "metadata": {},
   "source": [
    "Зверніть увагу на границю прийняття рішення. Модель старається побудувати складну криву, що може свідчити про її перетренування. Порівняйте отримані результати з класом з sklearn. Спробуйте додати нові шари для нашого класу та порівняти результати тоді. Поекспериментуйте з гіперпараметрами для обох класів."
   ]
  },
  {
   "cell_type": "code",
   "execution_count": 19,
   "metadata": {},
   "outputs": [],
   "source": [
    "from sklearn.neural_network import MLPClassifier\n",
    "clf = MLPClassifier(hidden_layer_sizes = (20,10), max_iter = 11000, activation = 'relu', solver = 'sgd', learning_rate_init = 0.01, learning_rate = 'constant')"
   ]
  },
  {
   "cell_type": "code",
   "execution_count": 20,
   "metadata": {},
   "outputs": [
    {
     "data": {
      "text/plain": [
       "MLPClassifier(activation='relu', alpha=0.0001, batch_size='auto', beta_1=0.9,\n",
       "              beta_2=0.999, early_stopping=False, epsilon=1e-08,\n",
       "              hidden_layer_sizes=(20, 10), learning_rate='constant',\n",
       "              learning_rate_init=0.01, max_fun=15000, max_iter=11000,\n",
       "              momentum=0.9, n_iter_no_change=10, nesterovs_momentum=True,\n",
       "              power_t=0.5, random_state=None, shuffle=True, solver='sgd',\n",
       "              tol=0.0001, validation_fraction=0.1, verbose=False,\n",
       "              warm_start=False)"
      ]
     },
     "execution_count": 20,
     "metadata": {},
     "output_type": "execute_result"
    }
   ],
   "source": [
    "clf.fit(X_train, y_train)"
   ]
  },
  {
   "cell_type": "code",
   "execution_count": 21,
   "metadata": {},
   "outputs": [
    {
     "data": {
      "image/png": "[encoded data removed]",
      "text/plain": [
       "<Figure size 432x288 with 1 Axes>"
      ]
     },
     "metadata": {
      "needs_background": "light"
     },
     "output_type": "display_data"
    }
   ],
   "source": [
    "plot_data(X_train, y_train)\n",
    "plot_data(X_test, y_test, test=True)\n",
    "plot_surface(clf, X_train[:, 0], X_train[:, 1])"
   ]
  },
  {
   "cell_type": "code",
   "execution_count": 22,
   "metadata": {},
   "outputs": [
    {
     "data": {
      "text/plain": [
       "0.7916666666666666"
      ]
     },
     "execution_count": 22,
     "metadata": {},
     "output_type": "execute_result"
    }
   ],
   "source": [
    "pred = clf.predict(X_test)\n",
    "accuracy_score(y_test, clf.predict(X_test))"
   ]
  },
  {
   "cell_type": "code",
   "execution_count": 70,
   "metadata": {},
   "outputs": [
    {
     "name": "stdout",
     "output_type": "stream",
     "text": [
      "0 14\n",
      "7.0 20\n",
      "13.5 15\n",
      "14.25 14\n",
      "14.125 10\n",
      "12.0625 12\n",
      "12.03125 17\n",
      "[7.0, 13.5, 14.25, 14.125, 12.0625, 12.03125, 14.515625]\n",
      "[14 20 15 14 10 12 17]\n"
     ]
    }
   ],
   "source": [
    "# def softmax(Z):\n",
    "#         exp_z = np.exp(Z)\n",
    "#         return exp_z / exp_z.sum(axis=0, keepdims=True)\n",
    "\n",
    "# def compute_cost(A, Y):\n",
    "#     J = -np.mean(Y.T * np.log(A.T))\n",
    "#     return J\n",
    "\n",
    "# W = np.array([[0.1, 0.2, 0.3], [0.4, 0.3, 0.2]])\n",
    "# b = np.array([[0], [1]])\n",
    "# A = np.array([[0.3],[0.5],[0.2]])\n",
    "\n",
    "\n",
    "# Y = np.array([[0, 1, 0, 0], [1, 0, 0, 1], [0, 0, 1, 0]])\n",
    "# A = np.array([[0.01, 0.82, 0.65, 0.01], [0.93, 0.14, 0.21, 0.1], [0.06, 0.04, 0.14, 0.89]])\n",
    "# print(A.shape)\n",
    "# print(Y.shape)\n",
    "# compute_cost(A, Y)\n",
    "\n",
    "\n",
    "# t = [10, 2, 8, 5, 3]\n",
    "# s = np.std(t)**2\n",
    "# m = np.mean(t)\n",
    "\n",
    "# t = (t - m) / s\n",
    "\n",
    "# t\n",
    "\n",
    "\n",
    "# dZ = A - Y \n",
    "# db = 1./4 * np.sum(dZ, axis = 1, keepdims = True)\n",
    "# print(db)\n",
    "\n",
    "coef = 0.5\n",
    "T = np.array([14, 20, 15, 14, 10, 12, 17])\n",
    "\n",
    "T0 = 0\n",
    "T_new = []\n",
    "\n",
    "for el in T:\n",
    "    T1 = el\n",
    "    print(T0, T1)\n",
    "    new_el = coef * T0 + (1 - coef) * T1\n",
    "    T_new.append(new_el)\n",
    "    T0 = new_el\n",
    "print(T_new)\n",
    "print(T)\n",
    "\n",
    "\n",
    "# Tf = 25 / 150\n",
    "# Idf = np.log10(3000 / 150) \n",
    "\n",
    "# Tf * Idf\n"
   ]
  }
 ],
 "metadata": {
  "anaconda-cloud": {},
  "kernelspec": {
   "display_name": "Python 3",
   "language": "python",
   "name": "python3"
  },
  "language_info": {
   "codemirror_mode": {
    "name": "ipython",
    "version": 3
   },
   "file_extension": ".py",
   "mimetype": "text/x-python",
   "name": "python",
   "nbconvert_exporter": "python",
   "pygments_lexer": "ipython3",
   "version": "3.7.6"
  }
 },
 "nbformat": 4,
 "nbformat_minor": 1
}
