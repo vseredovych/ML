{
 "cells": [
  {
   "cell_type": "code",
   "execution_count": 504,
   "metadata": {},
   "outputs": [],
   "source": [
    "import numpy as np\n",
    "import pandas as pd\n",
    "from sklearn.model_selection import train_test_split\n",
    "from sklearn import datasets, linear_model\n",
    "from sklearn.metrics import mean_squared_error, r2_score\n",
    "\n",
    "#feature importance and corelation\n",
    "from sklearn.feature_selection import SelectKBest\n",
    "from sklearn.ensemble import ExtraTreesClassifier\n",
    "from sklearn.feature_selection import chi2\n",
    "from sklearn import preprocessing\n",
    "from sklearn import utils\n",
    "import seaborn as sns\n",
    "\n",
    "\n",
    "from mpl_toolkits.mplot3d import Axes3D\n",
    "import matplotlib.pyplot as plt\n",
    "%matplotlib inline"
   ]
  },
  {
   "cell_type": "code",
   "execution_count": 505,
   "metadata": {},
   "outputs": [],
   "source": [
    "def load_datasets(filename, x_features, y_feature):\n",
    "    '''\n",
    "    Читає вхідний файл\n",
    "    \n",
    "    Параметри:\n",
    "    filename - шлях до вхідного файлу з даними\n",
    "    \n",
    "    Результат:\n",
    "    X - набір характеристик\n",
    "    y - набір передбачуваних величин\n",
    "    '''\n",
    "    \n",
    "    df = pd.read_csv(filename, delimiter='\\t')\n",
    "\n",
    "    data_features = x_features + y_feature\n",
    "    data, X, y = df[data_features], df[x_features], df[y_feature].astype(float)\n",
    "\n",
    "    #df = df[(df['user_score'] != 'tbd') & (df['metascore'] != 'tbd')]\n",
    "    #data = df.sample(n = 1000)\n",
    "    # , \"platform\"\n",
    "    #, \"genre(s)\"\n",
    "    #X, y = data[[\"metascore\",\"publisher\"]], data[\"user_score\"].astype(float)\n",
    "    return  data, X, y\n",
    "\n",
    "\n",
    "data, X, y = load_datasets('real_estate.tsv', [\"area\", \"rooms\"], [\"price\"])\n",
    "\n",
    "\n",
    "#print(y)"
   ]
  },
  {
   "cell_type": "code",
   "execution_count": 506,
   "metadata": {},
   "outputs": [],
   "source": [
    "def split_datasets(X, y, test_size = 0.2):\n",
    "    '''\n",
    "    Розбиває дані на 2 датасети: тренувальний та тестувальний.\n",
    "    \n",
    "    Параметри:\n",
    "    X - набір характеристик\n",
    "    y - набір передбачуваних величин\n",
    "    test_size - розмір тестового датасету\n",
    "    \n",
    "    Результат:\n",
    "    X_train - набір тренувальних прикладів\n",
    "    X_test - набір тестових прикладів\n",
    "    y_train - вектор величин, що передбачаємо для тренувального датасету\n",
    "    y_test - вектор величин, що передбачаємо для тестового датасету\n",
    "    '''\n",
    "    X_train, X_test, y_train, y_test = train_test_split(X, y, test_size=test_size, random_state=12)\n",
    "    return X_train, X_test, y_train, y_test"
   ]
  },
  {
   "cell_type": "code",
   "execution_count": 507,
   "metadata": {},
   "outputs": [],
   "source": [
    "def plot_data(X_train, X_test, y_train, y_test):\n",
    "    '''\n",
    "    Функція для відображення розподілу тренувальних та тестових даних (для однієї змінної)\n",
    "    '''\n",
    "    plt.scatter(X_train, y_train, marker='^', c='green')\n",
    "    plt.scatter(X_test, y_test, marker='o', c='red')\n",
    "    plt.show()"
   ]
  },
  {
   "cell_type": "code",
   "execution_count": 508,
   "metadata": {},
   "outputs": [],
   "source": [
    "def normalize(X):\n",
    "    '''\n",
    "    Нормалізує датасет з характеристиками\n",
    "    \n",
    "    Параметри:\n",
    "    X - набір характеристик\n",
    "    \n",
    "    Результат:\n",
    "    X - набір нормалізованих характеристик\n",
    "    mean - вектор середніх значень характеристик\n",
    "    std - вектор стандартних девіацій характеристик\n",
    "    '''\n",
    "    ##################\n",
    "    # Заповнити змінні\n",
    "    ##################\n",
    "    mean = np.mean(X)\n",
    "    std = np.std(X)\n",
    "    X_new = (X - mean)/std\n",
    "    return X, mean, std\n",
    "\n",
    "\n",
    "# print(normalize(np.array([1, 2, 3])))"
   ]
  },
  {
   "cell_type": "code",
   "execution_count": 509,
   "metadata": {},
   "outputs": [],
   "source": [
    "def prepare_X(X):\n",
    "    '''\n",
    "    Формує датасет з рисами, де першою колонкою буде колонка з одиницями.\n",
    "    \n",
    "    Параметри:\n",
    "    X - вхідний датасет з прикладами, по одному в рядок. Кожна риса - відповідна колонка.\n",
    "    \n",
    "    Результат:\n",
    "    X_new - датасет, який складається з колонки одиниць, а решта колонок з X    \n",
    "    '''\n",
    "    m = X.shape[0]\n",
    "    ones = np.ones((m, 1))\n",
    "    X_new = np.array(X[:])\n",
    "    X_new = np.column_stack((ones, X_new))\n",
    "    return X_new"
   ]
  },
  {
   "cell_type": "code",
   "execution_count": 510,
   "metadata": {},
   "outputs": [],
   "source": [
    "def hypothesis(X, theta):\n",
    "    '''\n",
    "    Обчислює значення передбачуваної величини для вхідної матриці X та вектора параметрів thetha.\n",
    "    \n",
    "    Параметри:\n",
    "    X - матриця з рисами. Перша колонка - одиниці. Друга - дані риси.\n",
    "    thetha - вектор параметрів: [thetha0, thetha1]\n",
    "    \n",
    "    Результат:\n",
    "    Матриця значень шуканої величини для прикладів з X\n",
    "    '''\n",
    "    \n",
    "    ######################\n",
    "    # Один рядок коду\n",
    "\n",
    "    h_thetha = np.dot(X, theta)\n",
    "    ######################\n",
    "    return h_thetha\n",
    "\n",
    "#print(hypothesis([[1, 1], [2, 3]], [3, 2]))\n"
   ]
  },
  {
   "cell_type": "code",
   "execution_count": 511,
   "metadata": {},
   "outputs": [],
   "source": [
    "def cost_function(X, y, theta):\n",
    "    '''\n",
    "    Функція для обчислення штрафної функції J.\n",
    "    \n",
    "    Параметри:\n",
    "    X - тренувальний датасет. 0 - колонка з одиниць, далі - реальні риси\n",
    "    y - точні значення передбачуваної величини\n",
    "    thethe - вектор параметрів регресії\n",
    "    \n",
    "    Результат:\n",
    "    Дійсне число - значення штрафної функції для набору прикладів X та параметрів thetha\n",
    "    '''\n",
    "    \n",
    "    m = X.shape[0]\n",
    "    if m == 0:\n",
    "        return None\n",
    "    ######################\n",
    "    J = 1/(2*m) * sum((hypothesis(X, theta) - y) ** 2)\n",
    "    # 1-2 рядки коду\n",
    "    ######################\n",
    "    return J"
   ]
  },
  {
   "cell_type": "code",
   "execution_count": 512,
   "metadata": {},
   "outputs": [],
   "source": [
    "def derivative(X, y, theta):\n",
    "    m = X.shape[0]\n",
    "    '''\n",
    "    Функція для обчислення похідних штрафної функції J по thetha.\n",
    "    \n",
    "    Параметри:\n",
    "    X - тренувальний датасет. 0 - колонка з одиниць, далі - реальні риси\n",
    "    y - точні значення передбачуваної величини\n",
    "    thetha - вектор параметрів регресії\n",
    "    \n",
    "    Результат:\n",
    "    Вектор похідних d_thetha\n",
    "    '''\n",
    "    ######################\n",
    "    # 1 рядок коду\n",
    "    d_theta = 1/m*(hypothesis(X, theta) - y).dot(X)\n",
    "    ######################\n",
    "    return d_theta"
   ]
  },
  {
   "cell_type": "code",
   "execution_count": 513,
   "metadata": {},
   "outputs": [],
   "source": [
    "def gradient_descent(X, y, theta, alpha, num_iters, print_J = True):\n",
    "    '''\n",
    "    Функція, що реалізує градієнтний спуск для метода лінійної регресії.\n",
    "    \n",
    "    Параметри:\n",
    "    X - тренувальний датасет. 0 - колонка з одиниць, далі - реальні риси\n",
    "    y - точні значення передбачуваної величини\n",
    "    thetha - вектор початкових параметрів регресії\n",
    "    alpha - швидкість навчання\n",
    "    num_iters - кількість ітерацій\n",
    "    print_J - виведення штрафної функції на екран після кожної ітерації\n",
    "    \n",
    "    Результат:\n",
    "    theta - оптимальні значення параметрів регресії\n",
    "    J_history - масив історичних значень штрафної функції після кожної ітерації\n",
    "    '''\n",
    "    m = X.shape[0]\n",
    "    J_history = []\n",
    "    J = cost_function(X, y, theta)\n",
    "    if print_J == True:\n",
    "        print(J)\n",
    "    J_history.append(J)\n",
    "    for i in range(num_iters):\n",
    "        ######################\n",
    "        # Використати написані вище функції\n",
    "        delta = None\n",
    "        theta = theta - alpha * derivative(X, y, theta)\n",
    "        J = cost_function(X, y, theta)\n",
    "        ######################\n",
    "        if print_J == True:\n",
    "            print(J)\n",
    "        J_history.append(J)\n",
    "    return theta, J_history"
   ]
  },
  {
   "cell_type": "code",
   "execution_count": 514,
   "metadata": {},
   "outputs": [],
   "source": [
    "def plot_J(J_history):\n",
    "    '''\n",
    "    Функція для виведення графіків штрафної функції для різних значень параметрів на вхідних даних\n",
    "    \n",
    "    Параметри:\n",
    "    X - тренувальний датасет. 0 - колонка з одиниць, далі - реальні риси\n",
    "    y - точні значення передбачуваної величини\n",
    "    '''\n",
    "    \n",
    "    x = np.arange(0, len(Js))\n",
    "    plt.plot(x, Js)\n",
    "    plt.show()"
   ]
  },
  {
   "cell_type": "code",
   "execution_count": 515,
   "metadata": {},
   "outputs": [],
   "source": [
    "def plot_feature_importance(X, y):\n",
    "    # encoding \n",
    "    model = ExtraTreesClassifier()\n",
    "    lab_enc = preprocessing.LabelEncoder()\n",
    "    encoded = lab_enc.fit_transform(y)\n",
    "    print(encoded)\n",
    "    model.fit(X,encoded)\n",
    "    #use inbuilt class feature_importances of tree based classifiers\n",
    "    print(model.feature_importances_) \n",
    "    #plot graph of feature importances for better visualization\n",
    "    feat_importances = pd.Series(model.feature_importances_, index=X.columns)\n",
    "    feat_importances.nlargest(10).plot(kind='barh')\n",
    "    plt.show()"
   ]
  },
  {
   "cell_type": "code",
   "execution_count": 516,
   "metadata": {},
   "outputs": [],
   "source": [
    "def plot_feature_correlations(X):\n",
    "    print(X.corr())\n",
    "    corrmat = X.corr()\n",
    "    top_corr_features = corrmat.index\n",
    "    sns.heatmap(X[top_corr_features].corr(),annot=True,cmap=\"RdYlGn\")\n"
   ]
  },
  {
   "cell_type": "code",
   "execution_count": 517,
   "metadata": {},
   "outputs": [],
   "source": [
    "def plot_feature_scatters(X):\n",
    "    sns.pairplot(X)"
   ]
  },
  {
   "cell_type": "markdown",
   "metadata": {},
   "source": [
    "## Основний код програми"
   ]
  },
  {
   "cell_type": "markdown",
   "metadata": {},
   "source": [
    "Отримання датасетів та видрук їх параметрів."
   ]
  },
  {
   "cell_type": "code",
   "execution_count": 518,
   "metadata": {},
   "outputs": [
    {
     "name": "stdout",
     "output_type": "stream",
     "text": [
      "Dataset: X=(40, 2), y=(40, 1)\n"
     ]
    }
   ],
   "source": [
    "filename = \"real_estate.tsv\"\n",
    "x_features = [\"area\", \"rooms\"]\n",
    "y_feature = [\"price\"]\n",
    "data_features = x_features + y_feature\n",
    "    \n",
    "df = pd.read_csv(filename, delimiter='\\t')\n",
    "df = df.sample(40)\n",
    "\n",
    "df, X, y = df[data_features], df[x_features], df[y_feature].astype(float)\n",
    "\n",
    "print('Dataset: X={}, y={}'.format(X.shape, y.shape))"
   ]
  },
  {
   "cell_type": "markdown",
   "metadata": {},
   "source": [
    "# Features correlation"
   ]
  },
  {
   "cell_type": "code",
   "execution_count": 519,
   "metadata": {
    "scrolled": true
   },
   "outputs": [
    {
     "name": "stdout",
     "output_type": "stream",
     "text": [
      "           area     rooms     price\n",
      "area   1.000000  0.381734  0.813125\n",
      "rooms  0.381734  1.000000  0.224337\n",
      "price  0.813125  0.224337  1.000000\n"
     ]
    },
    {
     "data": {
      "image/png": "[encoded data removed]",
      "text/plain": [
       "<Figure size 432x288 with 2 Axes>"
      ]
     },
     "metadata": {
      "needs_background": "light"
     },
     "output_type": "display_data"
    }
   ],
   "source": [
    "plot_feature_correlations(df)"
   ]
  },
  {
   "cell_type": "markdown",
   "metadata": {},
   "source": [
    "# Features scatter pairplots"
   ]
  },
  {
   "cell_type": "code",
   "execution_count": 520,
   "metadata": {},
   "outputs": [
    {
     "data": {
      "image/png": "[encoded data removed]",
      "text/plain": [
       "<Figure size 540x540 with 12 Axes>"
      ]
     },
     "metadata": {
      "needs_background": "light"
     },
     "output_type": "display_data"
    }
   ],
   "source": [
    "plot_feature_scatters(df)"
   ]
  },
  {
   "cell_type": "markdown",
   "metadata": {},
   "source": [
    "Розбиття датасету на частини:"
   ]
  },
  {
   "cell_type": "code",
   "execution_count": 521,
   "metadata": {},
   "outputs": [
    {
     "name": "stdout",
     "output_type": "stream",
     "text": [
      "Training set: X=(32, 2), y=(32, 1)\n",
      "Test set: X=(8, 2), y=(8, 1)\n"
     ]
    }
   ],
   "source": [
    "X_train, X_test, y_train, y_test = split_datasets(X, y, test_size=0.2)\n",
    "print('Training set: X={}, y={}'.format(X_train.shape, y_train.shape))\n",
    "print('Test set: X={}, y={}'.format(X_test.shape, y_test.shape))"
   ]
  },
  {
   "cell_type": "markdown",
   "metadata": {},
   "source": [
    "Нормалізація, заповнення пустих даних:"
   ]
  },
  {
   "cell_type": "code",
   "execution_count": 522,
   "metadata": {},
   "outputs": [
    {
     "data": {
      "text/plain": [
       "(32, 2)"
      ]
     },
     "execution_count": 522,
     "metadata": {},
     "output_type": "execute_result"
    }
   ],
   "source": [
    "from sklearn.pipeline import Pipeline\n",
    "from sklearn.impute import SimpleImputer\n",
    "from sklearn.preprocessing import StandardScaler\n",
    "from sklearn.preprocessing import OneHotEncoder\n",
    "from sklearn.compose import ColumnTransformer\n",
    "\n",
    "cat = []\n",
    "num = [\"area\", \"rooms\"]\n",
    "\n",
    "\n",
    "num_pipeline = Pipeline([\n",
    "    ('imputer', SimpleImputer(strategy = 'median')),\n",
    "    ('scaler',  StandardScaler())\n",
    "])\n",
    "\n",
    "cat_pipeline = Pipeline([\n",
    "    ('imputer', SimpleImputer(strategy = 'most_frequent')),\n",
    "    ('encoder', OneHotEncoder(categories='auto'))\n",
    "])\n",
    "\n",
    "full_pipeline = ColumnTransformer([\n",
    "    ('num', num_pipeline, num),\n",
    "    ('cat', cat_pipeline, cat)\n",
    "])\n",
    "\n",
    "_, mean, std = normalize(X_train)\n",
    "\n",
    "X_train_norm = full_pipeline.fit_transform(X_train)\n",
    "X_train_norm.shape"
   ]
  },
  {
   "cell_type": "markdown",
   "metadata": {},
   "source": [
    "Відображення тренувальних і тестових даних на графіку (для 1 змінної)"
   ]
  },
  {
   "cell_type": "code",
   "execution_count": 523,
   "metadata": {},
   "outputs": [],
   "source": [
    "# plot_data(X_train, X_test, y_train, y_test)"
   ]
  },
  {
   "cell_type": "markdown",
   "metadata": {},
   "source": [
    "Підготовка тренувальних даних (додавання 0-колонки з одиницями). Ініціалізація параметрів регресії (0, 0): "
   ]
  },
  {
   "cell_type": "code",
   "execution_count": 524,
   "metadata": {},
   "outputs": [
    {
     "name": "stdout",
     "output_type": "stream",
     "text": [
      "(32, 3)\n"
     ]
    }
   ],
   "source": [
    "X_train_norm, mean, std = normalize(X_train)\n",
    "X = prepare_X(X_train_norm)\n",
    "print(X.shape)\n",
    "\n",
    "theta = np.zeros(X.shape[1])"
   ]
  },
  {
   "cell_type": "markdown",
   "metadata": {},
   "source": [
    "# Sklearn"
   ]
  },
  {
   "cell_type": "code",
   "execution_count": 525,
   "metadata": {},
   "outputs": [
    {
     "name": "stdout",
     "output_type": "stream",
     "text": [
      "Coefficients: \n",
      " [[   133.09068184 -22667.75881893]]\n",
      "Mean squared error: 5651496227.08\n",
      "Coefficient of determination: 0.68\n"
     ]
    }
   ],
   "source": [
    "regr = linear_model.LinearRegression()\n",
    "regr.fit(X_train, y_train)\n",
    "y_pred = regr.predict(X_test)\n",
    "\n",
    "print('Coefficients: \\n', regr.coef_)\n",
    "print('Mean squared error: %.2f'\n",
    "      % mean_squared_error(y_test, y_pred))\n",
    "# The coefficient of determination: 1 is perfect prediction\n",
    "print('Coefficient of determination: %.2f'\n",
    "      % r2_score(y_test, y_pred))"
   ]
  },
  {
   "cell_type": "markdown",
   "metadata": {},
   "source": [
    "Для спрощення записів аліас для вектора передбачуваних значень"
   ]
  },
  {
   "cell_type": "code",
   "execution_count": 526,
   "metadata": {},
   "outputs": [
    {
     "name": "stdout",
     "output_type": "stream",
     "text": [
      "[499998. 349900. 469000. 314900. 259900. 198999. 255000. 299900. 573900.\n",
      " 579900. 199900. 242900. 329999. 345000. 299900. 239500. 232000. 242500.\n",
      " 259900. 329900. 179900. 287000. 464500. 299900. 285900. 368500. 249900.\n",
      " 299000. 329900. 239999. 252900. 399900.]\n"
     ]
    }
   ],
   "source": [
    "y = np.array(y_train.iloc[:, 0])\n",
    "print(y)"
   ]
  },
  {
   "cell_type": "markdown",
   "metadata": {},
   "source": [
    "У випадку використання ВСІХ даних для тренування (test_size=0.0), штрафна функція має повернути величину близьку до 32.072."
   ]
  },
  {
   "cell_type": "code",
   "execution_count": 527,
   "metadata": {},
   "outputs": [
    {
     "name": "stdout",
     "output_type": "stream",
     "text": [
      "X: (32, 3)\n",
      "y: (32,)\n",
      "55666163156.359375\n"
     ]
    }
   ],
   "source": [
    "print('X: {}'.format(X.shape))\n",
    "print('y: {}'.format(y.shape))\n",
    "print(cost_function(X, y, theta))"
   ]
  },
  {
   "cell_type": "markdown",
   "metadata": {},
   "source": [
    "Налаштування гіперпараметрів регресії: швидкості навчання та кількості ітерацій."
   ]
  },
  {
   "cell_type": "code",
   "execution_count": 528,
   "metadata": {},
   "outputs": [],
   "source": [
    "alpha = 0.0000001\n",
    "num_iters = 500"
   ]
  },
  {
   "cell_type": "markdown",
   "metadata": {},
   "source": [
    "Запуск градієнтного спуску та видрук знайдених оптимальних значень на екран. У випадку використання всіх даних для тренування, результати будуть близькі до Theta 0: -3.63; Theta 1: 1.17"
   ]
  },
  {
   "cell_type": "code",
   "execution_count": 529,
   "metadata": {},
   "outputs": [
    {
     "name": "stdout",
     "output_type": "stream",
     "text": [
      "55666163156.359375\n",
      "22720774145.819572\n",
      "10159382439.59945\n",
      "5369984997.348399\n",
      "3543887340.5799465\n",
      "2847634266.8615074\n",
      "2582167436.270188\n",
      "2480950441.498427\n",
      "2442358493.364453\n",
      "2427644173.1551332\n",
      "2422033895.9113383\n",
      "2419894800.9214797\n",
      "2419079195.5379057\n",
      "2418768209.2177563\n",
      "2418649623.65237\n",
      "2418604396.4935875\n",
      "2418587139.3696756\n",
      "2418580546.638393\n",
      "2418578020.0182447\n",
      "2418577043.7217155\n",
      "2418576658.5313425\n",
      "2418576498.717458\n",
      "2418576424.8349433\n",
      "2418576383.7162757\n",
      "2418576355.089782\n",
      "2418576331.2263002\n",
      "2418576309.178855\n",
      "2418576287.8238316\n",
      "2418576266.732815\n",
      "2418576245.7424607\n",
      "2418576224.790492\n",
      "2418576203.853158\n",
      "2418576182.921409\n",
      "2418576161.9917903\n",
      "2418576141.0629864\n",
      "2418576120.1344957\n",
      "2418576099.206126\n",
      "2418576078.2778068\n",
      "2418576057.349507\n",
      "2418576036.421219\n",
      "2418576015.4929366\n",
      "2418575994.564659\n",
      "2418575973.636385\n",
      "2418575952.708117\n",
      "2418575931.779851\n",
      "2418575910.8515897\n",
      "2418575889.923333\n",
      "2418575868.995079\n",
      "2418575848.066829\n",
      "2418575827.138582\n",
      "2418575806.2103405\n",
      "2418575785.282102\n",
      "2418575764.353867\n",
      "2418575743.425637\n",
      "2418575722.497409\n",
      "2418575701.5691867\n",
      "2418575680.640969\n",
      "2418575659.7127533\n",
      "2418575638.7845416\n",
      "2418575617.856334\n",
      "2418575596.928131\n",
      "2418575575.999931\n",
      "2418575555.0717344\n",
      "2418575534.1435423\n",
      "2418575513.2153544\n",
      "2418575492.2871704\n",
      "2418575471.3589907\n",
      "2418575450.430813\n",
      "2418575429.502641\n",
      "2418575408.574471\n",
      "2418575387.646307\n",
      "2418575366.7181454\n",
      "2418575345.7899885\n",
      "2418575324.861835\n",
      "2418575303.9336863\n",
      "2418575283.00554\n",
      "2418575262.0773983\n",
      "2418575241.1492605\n",
      "2418575220.221126\n",
      "2418575199.2929964\n",
      "2418575178.3648705\n",
      "2418575157.4367466\n",
      "2418575136.508629\n",
      "2418575115.580514\n",
      "2418575094.6524024\n",
      "2418575073.7242956\n",
      "2418575052.7961926\n",
      "2418575031.8680935\n",
      "2418575010.9399977\n",
      "2418574990.0119066\n",
      "2418574969.083819\n",
      "2418574948.1557345\n",
      "2418574927.2276535\n",
      "2418574906.2995787\n",
      "2418574885.371506\n",
      "2418574864.443437\n",
      "2418574843.515373\n",
      "2418574822.5873113\n",
      "2418574801.6592555\n",
      "2418574780.7312026\n",
      "2418574759.8031526\n",
      "2418574738.875107\n",
      "2418574717.9470663\n",
      "2418574697.0190277\n",
      "2418574676.0909953\n",
      "2418574655.162965\n",
      "2418574634.234938\n",
      "2418574613.306916\n",
      "2418574592.3788986\n",
      "2418574571.450884\n",
      "2418574550.5228734\n",
      "2418574529.594867\n",
      "2418574508.666863\n",
      "2418574487.738864\n",
      "2418574466.8108687\n",
      "2418574445.8828773\n",
      "2418574424.95489\n",
      "2418574404.0269065\n",
      "2418574383.098928\n",
      "2418574362.170952\n",
      "2418574341.24298\n",
      "2418574320.3150115\n",
      "2418574299.3870463\n",
      "2418574278.4590864\n",
      "2418574257.53113\n",
      "2418574236.6031775\n",
      "2418574215.675229\n",
      "2418574194.7472835\n",
      "2418574173.8193426\n",
      "2418574152.8914056\n",
      "2418574131.9634724\n",
      "2418574111.0355425\n",
      "2418574090.107617\n",
      "2418574069.179694\n",
      "2418574048.2517767\n",
      "2418574027.323861\n",
      "2418574006.395953\n",
      "2418573985.4680457\n",
      "2418573964.5401435\n",
      "2418573943.6122456\n",
      "2418573922.6843495\n",
      "2418573901.7564583\n",
      "2418573880.828572\n",
      "2418573859.900688\n",
      "2418573838.9728093\n",
      "2418573818.0449333\n",
      "2418573797.117063\n",
      "2418573776.1891947\n",
      "2418573755.2613306\n",
      "2418573734.333472\n",
      "2418573713.4056144\n",
      "2418573692.4777617\n",
      "2418573671.5499134\n",
      "2418573650.622069\n",
      "2418573629.6942277\n",
      "2418573608.7663913\n",
      "2418573587.838558\n",
      "2418573566.9107285\n",
      "2418573545.982903\n",
      "2418573525.055082\n",
      "2418573504.127264\n",
      "2418573483.1994505\n",
      "2418573462.271641\n",
      "2418573441.3438344\n",
      "2418573420.416033\n",
      "2418573399.488234\n",
      "2418573378.56044\n",
      "2418573357.632649\n",
      "2418573336.704862\n",
      "2418573315.7770786\n",
      "2418573294.8493013\n",
      "2418573273.921525\n",
      "2418573252.993755\n",
      "2418573232.065986\n",
      "2418573211.138223\n",
      "2418573190.210463\n",
      "2418573169.282707\n",
      "2418573148.354955\n",
      "2418573127.427207\n",
      "2418573106.499463\n",
      "2418573085.571722\n",
      "2418573064.6439853\n",
      "2418573043.7162523\n",
      "2418573022.7885246\n",
      "2418573001.860799\n",
      "2418572980.9330783\n",
      "2418572960.00536\n",
      "2418572939.077648\n",
      "2418572918.1499376\n",
      "2418572897.222232\n",
      "2418572876.294531\n",
      "2418572855.3668313\n",
      "2418572834.4391384\n",
      "2418572813.511448\n",
      "2418572792.5837617\n",
      "2418572771.6560793\n",
      "2418572750.7284007\n",
      "2418572729.8007255\n",
      "2418572708.873055\n",
      "2418572687.9453874\n",
      "2418572667.017725\n",
      "2418572646.0900655\n",
      "2418572625.16241\n",
      "2418572604.2347574\n",
      "2418572583.3071103\n",
      "2418572562.379466\n",
      "2418572541.4518266\n",
      "2418572520.5241895\n",
      "2418572499.5965576\n",
      "2418572478.6689296\n",
      "2418572457.741305\n",
      "2418572436.813684\n",
      "2418572415.886066\n",
      "2418572394.9584537\n",
      "2418572374.030845\n",
      "2418572353.103238\n",
      "2418572332.1756377\n",
      "2418572311.2480397\n",
      "2418572290.3204465\n",
      "2418572269.3928566\n",
      "2418572248.4652696\n",
      "2418572227.5376883\n",
      "2418572206.61011\n",
      "2418572185.6825347\n",
      "2418572164.7549644\n",
      "2418572143.8273983\n",
      "2418572122.8998346\n",
      "2418572101.972276\n",
      "2418572081.0447206\n",
      "2418572060.11717\n",
      "2418572039.1896214\n",
      "2418572018.2620783\n",
      "2418571997.3345385\n",
      "2418571976.4070024\n",
      "2418571955.4794707\n",
      "2418571934.5519433\n",
      "2418571913.6244187\n",
      "2418571892.696898\n",
      "2418571871.7693815\n",
      "2418571850.8418684\n",
      "2418571829.9143596\n",
      "2418571808.986854\n",
      "2418571788.059354\n",
      "2418571767.1318555\n",
      "2418571746.2043633\n",
      "2418571725.2768736\n",
      "2418571704.3493876\n",
      "2418571683.421906\n",
      "2418571662.4944277\n",
      "2418571641.566953\n",
      "2418571620.639483\n",
      "2418571599.7120166\n",
      "2418571578.7845554\n",
      "2418571557.857096\n",
      "2418571536.929641\n",
      "2418571516.0021896\n",
      "2418571495.074743\n",
      "2418571474.1472993\n",
      "2418571453.2198606\n",
      "2418571432.2924247\n",
      "2418571411.364993\n",
      "2418571390.4375653\n",
      "2418571369.5101414\n",
      "2418571348.5827208\n",
      "2418571327.6553044\n",
      "2418571306.727893\n",
      "2418571285.8004847\n",
      "2418571264.87308\n",
      "2418571243.9456787\n",
      "2418571223.018281\n",
      "2418571202.0908885\n",
      "2418571181.1635\n",
      "2418571160.2361135\n",
      "2418571139.3087325\n",
      "2418571118.381355\n",
      "2418571097.4539814\n",
      "2418571076.5266113\n",
      "2418571055.599245\n",
      "2418571034.671883\n",
      "2418571013.7445235\n",
      "2418570992.81717\n",
      "2418570971.8898196\n",
      "2418570950.9624724\n",
      "2418570930.03513\n",
      "2418570909.107791\n",
      "2418570888.1804547\n",
      "2418570867.2531233\n",
      "2418570846.325797\n",
      "2418570825.3984733\n",
      "2418570804.4711547\n",
      "2418570783.543838\n",
      "2418570762.616525\n",
      "2418570741.6892176\n",
      "2418570720.7619133\n",
      "2418570699.834613\n",
      "2418570678.9073157\n",
      "2418570657.980023\n",
      "2418570637.052734\n",
      "2418570616.1254487\n",
      "2418570595.198168\n",
      "2418570574.270891\n",
      "2418570553.343617\n",
      "2418570532.416348\n",
      "2418570511.489082\n",
      "2418570490.5618205\n",
      "2418570469.6345625\n",
      "2418570448.7073092\n",
      "2418570427.7800584\n",
      "2418570406.8528113\n",
      "2418570385.9255686\n",
      "2418570364.9983296\n",
      "2418570344.071095\n",
      "2418570323.1438646\n",
      "2418570302.2166367\n",
      "2418570281.2894135\n",
      "2418570260.362194\n",
      "2418570239.4349794\n",
      "2418570218.507767\n",
      "2418570197.580559\n",
      "2418570176.653355\n",
      "2418570155.7261553\n",
      "2418570134.7989593\n",
      "2418570113.871767\n",
      "2418570092.944578\n",
      "2418570072.0173945\n",
      "2418570051.0902133\n",
      "2418570030.1630363\n",
      "2418570009.2358637\n",
      "2418569988.3086934\n",
      "2418569967.3815293\n",
      "2418569946.4543667\n",
      "2418569925.527209\n",
      "2418569904.6000547\n",
      "2418569883.672905\n",
      "2418569862.745759\n",
      "2418569841.8186173\n",
      "2418569820.891479\n",
      "2418569799.964344\n",
      "2418569779.037213\n",
      "2418569758.110087\n",
      "2418569737.182964\n",
      "2418569716.255845\n",
      "2418569695.328729\n",
      "2418569674.4016175\n",
      "2418569653.4745107\n",
      "2418569632.5474076\n",
      "2418569611.620307\n",
      "2418569590.6932106\n",
      "2418569569.7661185\n",
      "2418569548.8390307\n",
      "2418569527.911947\n",
      "2418569506.9848676\n",
      "2418569486.0577903\n",
      "2418569465.130717\n",
      "2418569444.2036486\n",
      "2418569423.276583\n",
      "2418569402.3495216\n",
      "2418569381.4224644\n",
      "2418569360.495411\n",
      "2418569339.5683618\n",
      "2418569318.6413155\n",
      "2418569297.714274\n",
      "2418569276.7872357\n",
      "2418569255.8602014\n",
      "2418569234.9331713\n",
      "2418569214.006145\n",
      "2418569193.079123\n",
      "2418569172.1521034\n",
      "2418569151.225089\n",
      "2418569130.298078\n",
      "2418569109.371071\n",
      "2418569088.4440665\n",
      "2418569067.5170674\n",
      "2418569046.5900726\n",
      "2418569025.6630807\n",
      "2418569004.7360926\n",
      "2418568983.8091087\n",
      "2418568962.8821282\n",
      "2418568941.955153\n",
      "2418568921.0281796\n",
      "2418568900.1012115\n",
      "2418568879.174246\n",
      "2418568858.2472863\n",
      "2418568837.320329\n",
      "2418568816.393376\n",
      "2418568795.466427\n",
      "2418568774.5394816\n",
      "2418568753.6125402\n",
      "2418568732.685602\n",
      "2418568711.7586684\n",
      "2418568690.831738\n",
      "2418568669.9048114\n",
      "2418568648.9778895\n",
      "2418568628.050972\n",
      "2418568607.1240563\n",
      "2418568586.197147\n",
      "2418568565.2702394\n",
      "2418568544.3433375\n",
      "2418568523.416437\n",
      "2418568502.4895434\n",
      "2418568481.562651\n",
      "2418568460.635763\n",
      "2418568439.70888\n",
      "2418568418.782\n",
      "2418568397.8551245\n",
      "2418568376.928253\n",
      "2418568356.0013847\n",
      "2418568335.07452\n",
      "2418568314.1476593\n",
      "2418568293.220803\n",
      "2418568272.2939496\n",
      "2418568251.3671007\n",
      "2418568230.440255\n",
      "2418568209.513415\n",
      "2418568188.5865774\n",
      "2418568167.659744\n",
      "2418568146.732914\n",
      "2418568125.8060884\n",
      "2418568104.879267\n",
      "2418568083.952448\n",
      "2418568063.0256352\n",
      "2418568042.098824\n",
      "2418568021.172018\n",
      "2418568000.2452154\n",
      "2418567979.318416\n",
      "2418567958.391621\n",
      "2418567937.464831\n",
      "2418567916.538043\n",
      "2418567895.611261\n",
      "2418567874.68448\n",
      "2418567853.7577043\n",
      "2418567832.830933\n",
      "2418567811.904166\n",
      "2418567790.9774017\n",
      "2418567770.0506415\n",
      "2418567749.1238847\n",
      "2418567728.197133\n",
      "2418567707.270384\n",
      "2418567686.34364\n",
      "2418567665.4168987\n",
      "2418567644.490161\n",
      "2418567623.5634274\n",
      "2418567602.6366987\n",
      "2418567581.7099743\n",
      "2418567560.783252\n",
      "2418567539.856535\n",
      "2418567518.9298205\n",
      "2418567498.003111\n",
      "2418567477.076405\n",
      "2418567456.149702\n",
      "2418567435.2230034\n",
      "2418567414.296309\n",
      "2418567393.3696184\n",
      "2418567372.442931\n",
      "2418567351.516249\n",
      "2418567330.58957\n",
      "2418567309.6628947\n",
      "2418567288.736223\n",
      "2418567267.8095565\n",
      "2418567246.8828926\n",
      "2418567225.956233\n",
      "2418567205.029576\n",
      "2418567184.1029234\n",
      "2418567163.176276\n",
      "2418567142.249632\n",
      "2418567121.322992\n",
      "2418567100.3963532\n",
      "2418567079.4697213\n",
      "2418567058.543093\n",
      "2418567037.6164665\n",
      "2418567016.689846\n",
      "2418566995.7632284\n",
      "2418566974.8366165\n",
      "2418566953.9100056\n",
      "2418566932.9834\n",
      "2418566912.056798\n",
      "2418566891.1302004\n",
      "2418566870.203605\n",
      "2418566849.277016\n",
      "2418566828.3504286\n",
      "2418566807.423847\n",
      "2418566786.4972672\n",
      "2418566765.570692\n",
      "2418566744.644122\n",
      "2418566723.717555\n",
      "2418566702.790991\n",
      "2418566681.864432\n",
      "2418566660.9378767\n",
      "2418566640.0113244\n",
      "2418566619.0847774\n",
      "2418566598.1582327\n",
      "2418566577.2316923\n",
      "2418566556.3051553\n",
      "2418566535.3786244\n",
      "2418566514.4520955\n",
      "2418566493.5255704\n",
      "2418566472.599049\n",
      "2418566451.6725316\n",
      "2418566430.7460194\n",
      "2418566409.8195105\n",
      "2418566388.8930044\n",
      "Theta 0: 0.5016115101825357; Theta 1: 166.85276199710208; Theta 2: 0.8417715172371548\n"
     ]
    }
   ],
   "source": [
    "new_theta, Js = gradient_descent(X, y, theta, alpha, num_iters, True)\n",
    "print('Theta 0: {}; Theta 1: {}; Theta 2: {}'.format(new_theta[0], new_theta[1], new_theta[2]))"
   ]
  },
  {
   "cell_type": "code",
   "execution_count": 530,
   "metadata": {},
   "outputs": [
    {
     "data": {
      "image/png": "[encoded data removed]",
      "text/plain": [
       "<Figure size 432x288 with 1 Axes>"
      ]
     },
     "metadata": {
      "needs_background": "light"
     },
     "output_type": "display_data"
    }
   ],
   "source": [
    "plot_J(Js)"
   ]
  },
  {
   "cell_type": "markdown",
   "metadata": {},
   "source": [
    "Відображення знайденої апроксимації разом із тренувальними даними."
   ]
  },
  {
   "cell_type": "code",
   "execution_count": 531,
   "metadata": {},
   "outputs": [
    {
     "data": {
      "image/png": "[encoded data removed]",
      "text/plain": [
       "<Figure size 432x288 with 1 Axes>"
      ]
     },
     "metadata": {
      "needs_background": "light"
     },
     "output_type": "display_data"
    }
   ],
   "source": [
    "x = np.arange(3, 100, 0.1)\n",
    "x = np.arange(3, 100, 0.1)\n",
    "\n",
    "# h = new_theta[0] + new_theta[1]*x# + new_theta[2]*x + new_theta[3]*x\n",
    "# print(X_train.head(30))\n",
    "\n",
    "\n",
    "fig = plt.figure()\n",
    "ax = Axes3D(fig)\n",
    "#ax.plot(x,h )\n",
    "\n",
    "# print(X_train.loc[:,\"metascore\"])\n",
    "ax.scatter(X_train.loc[:, \"area\"], X_train.loc[:, \"rooms\"], y_train, marker='x', c='green')\n",
    "plt.show()"
   ]
  },
  {
   "cell_type": "markdown",
   "metadata": {},
   "source": [
    "Оцінка похибки апроксимації на тестових даних (test_size має бути більше 0.0 та менше 1.0)."
   ]
  },
  {
   "cell_type": "code",
   "execution_count": 532,
   "metadata": {},
   "outputs": [
    {
     "name": "stdout",
     "output_type": "stream",
     "text": [
      "       price\n",
      "11  347000.0\n",
      "45  299900.0\n",
      "28  475000.0\n",
      "35  249900.0\n",
      "4   539900.0\n",
      "19  599000.0\n",
      "8   212000.0\n",
      "6   314900.0\n",
      "[333708.55092027 309015.18391621 367079.10331969 239770.4459159\n",
      " 500562.15468889 505734.5903108  230259.83848206 255955.16382962]\n",
      "[347000. 299900. 475000. 249900. 539900. 599000. 212000. 314900.]\n",
      "    X_area  X_price  y_actual          price        err\n",
      "11    2000        3  347000.0  333708.550920   3.830389\n",
      "45    1852        4  299900.0  309015.183916   3.039408\n",
      "28    2200        3  475000.0  367079.103320  22.720189\n",
      "35    1437        3  249900.0  239770.445916   4.053443\n",
      "4     3000        4  539900.0  500562.154689   7.286135\n",
      "19    3031        4  599000.0  505734.590311  15.570185\n",
      "8     1380        3  212000.0  230259.838482   8.613131\n",
      "6     1534        3  314900.0  255955.163830  18.718589\n",
      "1628943445.8407443\n"
     ]
    }
   ],
   "source": [
    "####################\n",
    "# Нормалізувати тестовий датасет, використовуючи mean, std з тренувального\n",
    "####################\n",
    "\n",
    "X_test_proc = (X_test - mean) / std\n",
    "X_test_proc = prepare_X(X_test_proc)\n",
    "y_test_pred = hypothesis(X_test_proc, new_theta)\n",
    "print(y_test)\n",
    "print(y_test_pred)\n",
    "\n",
    "#y_test_pred = \n",
    "print(np.array(y_test.iloc[:, 0]))\n",
    "y_test = np.array(y_test.iloc[:, 0])\n",
    "rel_diff = np.abs(np.divide(y_test - y_test_pred, y_test)) * 100\n",
    "\n",
    "res = pd.DataFrame({'X_area' : X_test.loc[:,\"area\"], 'X_price' : X_test.loc[:,\"rooms\"], 'y_actual' : y_test, 'price' : y_test_pred, 'err' : rel_diff})\n",
    "print(res.head(20))\n",
    "print(cost_function(X_test_proc, y_test, new_theta))\n",
    "# error 2467921557.889453\n",
    "# error 1276128027.2676373 - with normalization:\n"
   ]
  },
  {
   "cell_type": "code",
   "execution_count": 533,
   "metadata": {},
   "outputs": [],
   "source": [
    "#plot_feature_importance(df, y)"
   ]
  }
 ],
 "metadata": {
  "anaconda-cloud": {},
  "kernelspec": {
   "display_name": "Python 3",
   "language": "python",
   "name": "python3"
  },
  "language_info": {
   "codemirror_mode": {
    "name": "ipython",
    "version": 3
   },
   "file_extension": ".py",
   "mimetype": "text/x-python",
   "name": "python",
   "nbconvert_exporter": "python",
   "pygments_lexer": "ipython3",
   "version": "3.7.6"
  }
 },
 "nbformat": 4,
 "nbformat_minor": 1
}
