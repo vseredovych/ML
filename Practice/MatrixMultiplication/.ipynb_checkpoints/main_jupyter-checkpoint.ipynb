{
 "cells": [
  {
   "cell_type": "code",
   "execution_count": 2,
   "metadata": {},
   "outputs": [],
   "source": [
    "import random\n",
    "import time\n",
    "import numpy as np\n"
   ]
  },
  {
   "cell_type": "code",
   "execution_count": 3,
   "metadata": {},
   "outputs": [],
   "source": [
    "def timer(func, *args, **kwargs):\n",
    "    def _wrapper_function(*args, **kwargs):\n",
    "        tic = time.perf_counter()\n",
    "        response = func(*args)\n",
    "        toc = time.perf_counter()\n",
    "        print(f\"Function has been running for {toc - tic} seconds.\")\n",
    "        return response, toc - tic\n",
    "\n",
    "    return _wrapper_function"
   ]
  },
  {
   "cell_type": "code",
   "execution_count": 4,
   "metadata": {},
   "outputs": [],
   "source": [
    "@timer\n",
    "def multiply_matrix(A, B):\n",
    "    n = len(A)\n",
    "    m = len(B)\n",
    "    B_Transformed = [[B[i][j] for i in range(m)] for j in range(n)]\n",
    "    M = [[vector_scalar(row, column) for column in B_Transformed] for row in A]\n",
    "    return M"
   ]
  },
  {
   "cell_type": "code",
   "execution_count": 5,
   "metadata": {},
   "outputs": [],
   "source": [
    "def vector_scalar(a, b):\n",
    "    S = 0\n",
    "    for el1, el2 in zip(a, b):\n",
    "        S += el1 * el2\n",
    "    return S"
   ]
  },
  {
   "cell_type": "code",
   "execution_count": 6,
   "metadata": {},
   "outputs": [],
   "source": [
    "def zeros(n, m):\n",
    "    return [[None for j in range(m)] for i in range(n)]"
   ]
  },
  {
   "cell_type": "code",
   "execution_count": 7,
   "metadata": {},
   "outputs": [],
   "source": [
    "@timer\n",
    "def multiply_matrix_np(A, B):\n",
    "    A = np.array(A)\n",
    "    B = np.array(B)\n",
    "    M = A.dot(B)\n",
    "    return M"
   ]
  },
  {
   "cell_type": "code",
   "execution_count": 8,
   "metadata": {},
   "outputs": [
    {
     "name": "stdout",
     "output_type": "stream",
     "text": [
      "Numpy matrix multiplication: \n",
      "Function has been running for 0.007450800000000868 seconds.\n",
      "My matrix multiplication: \n",
      "Function has been running for 0.06192640000000438 seconds.\n",
      "Difference: 0.05447560000000351 or 8.311375959628116 times.\n"
     ]
    }
   ],
   "source": [
    "n = 100\n",
    "m = 100\n",
    "A = [[random.random() for i in range(m)] for i in range(n)]\n",
    "B = [[random.random() for i in range(m)] for i in range(n)]\n",
    "\n",
    "print(\"Numpy matrix multiplication: \")\n",
    "M, time_np = multiply_matrix_np(A, B)\n",
    "print(\"My matrix multiplication: \")\n",
    "M, time_my = multiply_matrix(A, B)\n",
    "\n",
    "print(\"Difference: {} or {} times.\".format(time_my-time_np, time_my/time_np))"
   ]
  }
 ],
 "metadata": {
  "kernelspec": {
   "display_name": "Python 3",
   "language": "python",
   "name": "python3"
  },
  "language_info": {
   "codemirror_mode": {
    "name": "ipython",
    "version": 3
   },
   "file_extension": ".py",
   "mimetype": "text/x-python",
   "name": "python",
   "nbconvert_exporter": "python",
   "pygments_lexer": "ipython3",
   "version": "3.7.6"
  }
 },
 "nbformat": 4,
 "nbformat_minor": 4
}
