{
 "cells": [
  {
   "cell_type": "code",
   "execution_count": 1,
   "metadata": {},
   "outputs": [],
   "source": [
    "import numpy as np\n",
    "import pandas as pd\n",
    "import matplotlib as plt\n",
    "%matplotlib inline\n",
    "\n",
    "from sklearn.model_selection import train_test_split"
   ]
  },
  {
   "cell_type": "markdown",
   "metadata": {},
   "source": [
    "### Load & Preprocessing data"
   ]
  },
  {
   "cell_type": "code",
   "execution_count": 2,
   "metadata": {},
   "outputs": [],
   "source": [
    "from scipy.io import arff\n",
    "\n",
    "data = arff.loadarff('HTRU_2.arff')\n",
    "df = pd.DataFrame(data[0])\n",
    "X = df.drop('class', axis=1)\n",
    "y = df[\"class\"].astype('bool')"
   ]
  },
  {
   "cell_type": "code",
   "execution_count": 3,
   "metadata": {},
   "outputs": [
    {
     "name": "stdout",
     "output_type": "stream",
     "text": [
      "X shape: (17898, 8);\n",
      "y shape: (17898,);\n"
     ]
    }
   ],
   "source": [
    "print(f\"X shape: {X.shape};\") \n",
    "print(f\"y shape: {y.shape};\")"
   ]
  },
  {
   "cell_type": "code",
   "execution_count": 4,
   "metadata": {},
   "outputs": [
    {
     "data": {
      "text/html": [
       "<div>\n",
       "<style scoped>\n",
       "    .dataframe tbody tr th:only-of-type {\n",
       "        vertical-align: middle;\n",
       "    }\n",
       "\n",
       "    .dataframe tbody tr th {\n",
       "        vertical-align: top;\n",
       "    }\n",
       "\n",
       "    .dataframe thead th {\n",
       "        text-align: right;\n",
       "    }\n",
       "</style>\n",
       "<table border=\"1\" class=\"dataframe\">\n",
       "  <thead>\n",
       "    <tr style=\"text-align: right;\">\n",
       "      <th></th>\n",
       "      <th>Profile_mean</th>\n",
       "      <th>Profile_stdev</th>\n",
       "      <th>Profile_skewness</th>\n",
       "      <th>Profile_kurtosis</th>\n",
       "      <th>DM_mean</th>\n",
       "      <th>DM_stdev</th>\n",
       "      <th>DM_skewness</th>\n",
       "      <th>DM_kurtosis</th>\n",
       "    </tr>\n",
       "  </thead>\n",
       "  <tbody>\n",
       "    <tr>\n",
       "      <th>count</th>\n",
       "      <td>17898.000000</td>\n",
       "      <td>17898.000000</td>\n",
       "      <td>17898.000000</td>\n",
       "      <td>17898.000000</td>\n",
       "      <td>17898.000000</td>\n",
       "      <td>17898.000000</td>\n",
       "      <td>17898.000000</td>\n",
       "      <td>17898.000000</td>\n",
       "    </tr>\n",
       "    <tr>\n",
       "      <th>mean</th>\n",
       "      <td>111.079968</td>\n",
       "      <td>46.549532</td>\n",
       "      <td>0.477857</td>\n",
       "      <td>1.770279</td>\n",
       "      <td>12.614400</td>\n",
       "      <td>26.326515</td>\n",
       "      <td>8.303556</td>\n",
       "      <td>104.857709</td>\n",
       "    </tr>\n",
       "    <tr>\n",
       "      <th>std</th>\n",
       "      <td>25.652935</td>\n",
       "      <td>6.843189</td>\n",
       "      <td>1.064040</td>\n",
       "      <td>6.167913</td>\n",
       "      <td>29.472897</td>\n",
       "      <td>19.470572</td>\n",
       "      <td>4.506092</td>\n",
       "      <td>106.514540</td>\n",
       "    </tr>\n",
       "    <tr>\n",
       "      <th>min</th>\n",
       "      <td>5.812500</td>\n",
       "      <td>24.772042</td>\n",
       "      <td>-1.876011</td>\n",
       "      <td>-1.791886</td>\n",
       "      <td>0.213211</td>\n",
       "      <td>7.370432</td>\n",
       "      <td>-3.139270</td>\n",
       "      <td>-1.976976</td>\n",
       "    </tr>\n",
       "    <tr>\n",
       "      <th>25%</th>\n",
       "      <td>100.929688</td>\n",
       "      <td>42.376018</td>\n",
       "      <td>0.027098</td>\n",
       "      <td>-0.188572</td>\n",
       "      <td>1.923077</td>\n",
       "      <td>14.437332</td>\n",
       "      <td>5.781506</td>\n",
       "      <td>34.960504</td>\n",
       "    </tr>\n",
       "    <tr>\n",
       "      <th>50%</th>\n",
       "      <td>115.078125</td>\n",
       "      <td>46.947479</td>\n",
       "      <td>0.223240</td>\n",
       "      <td>0.198710</td>\n",
       "      <td>2.801839</td>\n",
       "      <td>18.461316</td>\n",
       "      <td>8.433515</td>\n",
       "      <td>83.064556</td>\n",
       "    </tr>\n",
       "    <tr>\n",
       "      <th>75%</th>\n",
       "      <td>127.085938</td>\n",
       "      <td>51.023202</td>\n",
       "      <td>0.473325</td>\n",
       "      <td>0.927783</td>\n",
       "      <td>5.464256</td>\n",
       "      <td>28.428104</td>\n",
       "      <td>10.702959</td>\n",
       "      <td>139.309330</td>\n",
       "    </tr>\n",
       "    <tr>\n",
       "      <th>max</th>\n",
       "      <td>192.617188</td>\n",
       "      <td>98.778911</td>\n",
       "      <td>8.069522</td>\n",
       "      <td>68.101622</td>\n",
       "      <td>223.392141</td>\n",
       "      <td>110.642211</td>\n",
       "      <td>34.539844</td>\n",
       "      <td>1191.000837</td>\n",
       "    </tr>\n",
       "  </tbody>\n",
       "</table>\n",
       "</div>"
      ],
      "text/plain": [
       "       Profile_mean  Profile_stdev  Profile_skewness  Profile_kurtosis  \\\n",
       "count  17898.000000   17898.000000      17898.000000      17898.000000   \n",
       "mean     111.079968      46.549532          0.477857          1.770279   \n",
       "std       25.652935       6.843189          1.064040          6.167913   \n",
       "min        5.812500      24.772042         -1.876011         -1.791886   \n",
       "25%      100.929688      42.376018          0.027098         -0.188572   \n",
       "50%      115.078125      46.947479          0.223240          0.198710   \n",
       "75%      127.085938      51.023202          0.473325          0.927783   \n",
       "max      192.617188      98.778911          8.069522         68.101622   \n",
       "\n",
       "            DM_mean      DM_stdev   DM_skewness   DM_kurtosis  \n",
       "count  17898.000000  17898.000000  17898.000000  17898.000000  \n",
       "mean      12.614400     26.326515      8.303556    104.857709  \n",
       "std       29.472897     19.470572      4.506092    106.514540  \n",
       "min        0.213211      7.370432     -3.139270     -1.976976  \n",
       "25%        1.923077     14.437332      5.781506     34.960504  \n",
       "50%        2.801839     18.461316      8.433515     83.064556  \n",
       "75%        5.464256     28.428104     10.702959    139.309330  \n",
       "max      223.392141    110.642211     34.539844   1191.000837  "
      ]
     },
     "execution_count": 4,
     "metadata": {},
     "output_type": "execute_result"
    }
   ],
   "source": [
    "df.describe()"
   ]
  },
  {
   "cell_type": "code",
   "execution_count": 5,
   "metadata": {},
   "outputs": [
    {
     "data": {
      "text/html": [
       "<div>\n",
       "<style scoped>\n",
       "    .dataframe tbody tr th:only-of-type {\n",
       "        vertical-align: middle;\n",
       "    }\n",
       "\n",
       "    .dataframe tbody tr th {\n",
       "        vertical-align: top;\n",
       "    }\n",
       "\n",
       "    .dataframe thead th {\n",
       "        text-align: right;\n",
       "    }\n",
       "</style>\n",
       "<table border=\"1\" class=\"dataframe\">\n",
       "  <thead>\n",
       "    <tr style=\"text-align: right;\">\n",
       "      <th></th>\n",
       "      <th>Profile_mean</th>\n",
       "      <th>Profile_stdev</th>\n",
       "      <th>Profile_skewness</th>\n",
       "      <th>Profile_kurtosis</th>\n",
       "      <th>DM_mean</th>\n",
       "      <th>DM_stdev</th>\n",
       "      <th>DM_skewness</th>\n",
       "      <th>DM_kurtosis</th>\n",
       "      <th>class</th>\n",
       "    </tr>\n",
       "  </thead>\n",
       "  <tbody>\n",
       "    <tr>\n",
       "      <th>0</th>\n",
       "      <td>140.562500</td>\n",
       "      <td>55.683782</td>\n",
       "      <td>-0.234571</td>\n",
       "      <td>-0.699648</td>\n",
       "      <td>3.199833</td>\n",
       "      <td>19.110426</td>\n",
       "      <td>7.975532</td>\n",
       "      <td>74.242225</td>\n",
       "      <td>b'0'</td>\n",
       "    </tr>\n",
       "    <tr>\n",
       "      <th>1</th>\n",
       "      <td>102.507812</td>\n",
       "      <td>58.882430</td>\n",
       "      <td>0.465318</td>\n",
       "      <td>-0.515088</td>\n",
       "      <td>1.677258</td>\n",
       "      <td>14.860146</td>\n",
       "      <td>10.576487</td>\n",
       "      <td>127.393580</td>\n",
       "      <td>b'0'</td>\n",
       "    </tr>\n",
       "    <tr>\n",
       "      <th>2</th>\n",
       "      <td>103.015625</td>\n",
       "      <td>39.341649</td>\n",
       "      <td>0.323328</td>\n",
       "      <td>1.051164</td>\n",
       "      <td>3.121237</td>\n",
       "      <td>21.744669</td>\n",
       "      <td>7.735822</td>\n",
       "      <td>63.171909</td>\n",
       "      <td>b'0'</td>\n",
       "    </tr>\n",
       "    <tr>\n",
       "      <th>3</th>\n",
       "      <td>136.750000</td>\n",
       "      <td>57.178449</td>\n",
       "      <td>-0.068415</td>\n",
       "      <td>-0.636238</td>\n",
       "      <td>3.642977</td>\n",
       "      <td>20.959280</td>\n",
       "      <td>6.896499</td>\n",
       "      <td>53.593661</td>\n",
       "      <td>b'0'</td>\n",
       "    </tr>\n",
       "    <tr>\n",
       "      <th>4</th>\n",
       "      <td>88.726562</td>\n",
       "      <td>40.672225</td>\n",
       "      <td>0.600866</td>\n",
       "      <td>1.123492</td>\n",
       "      <td>1.178930</td>\n",
       "      <td>11.468720</td>\n",
       "      <td>14.269573</td>\n",
       "      <td>252.567306</td>\n",
       "      <td>b'0'</td>\n",
       "    </tr>\n",
       "  </tbody>\n",
       "</table>\n",
       "</div>"
      ],
      "text/plain": [
       "   Profile_mean  Profile_stdev  Profile_skewness  Profile_kurtosis   DM_mean  \\\n",
       "0    140.562500      55.683782         -0.234571         -0.699648  3.199833   \n",
       "1    102.507812      58.882430          0.465318         -0.515088  1.677258   \n",
       "2    103.015625      39.341649          0.323328          1.051164  3.121237   \n",
       "3    136.750000      57.178449         -0.068415         -0.636238  3.642977   \n",
       "4     88.726562      40.672225          0.600866          1.123492  1.178930   \n",
       "\n",
       "    DM_stdev  DM_skewness  DM_kurtosis class  \n",
       "0  19.110426     7.975532    74.242225  b'0'  \n",
       "1  14.860146    10.576487   127.393580  b'0'  \n",
       "2  21.744669     7.735822    63.171909  b'0'  \n",
       "3  20.959280     6.896499    53.593661  b'0'  \n",
       "4  11.468720    14.269573   252.567306  b'0'  "
      ]
     },
     "execution_count": 5,
     "metadata": {},
     "output_type": "execute_result"
    }
   ],
   "source": [
    "df.head()"
   ]
  },
  {
   "cell_type": "code",
   "execution_count": 6,
   "metadata": {},
   "outputs": [
    {
     "data": {
      "text/plain": [
       "Index(['Profile_mean', 'Profile_stdev', 'Profile_skewness', 'Profile_kurtosis',\n",
       "       'DM_mean', 'DM_stdev', 'DM_skewness', 'DM_kurtosis', 'class'],\n",
       "      dtype='object')"
      ]
     },
     "execution_count": 6,
     "metadata": {},
     "output_type": "execute_result"
    }
   ],
   "source": [
    "df.columns"
   ]
  },
  {
   "cell_type": "code",
   "execution_count": 7,
   "metadata": {},
   "outputs": [
    {
     "data": {
      "text/plain": [
       "b'0'    0.908426\n",
       "b'1'    0.091574\n",
       "Name: class, dtype: float64"
      ]
     },
     "execution_count": 7,
     "metadata": {},
     "output_type": "execute_result"
    }
   ],
   "source": [
    "df['class'].value_counts(normalize=True)"
   ]
  },
  {
   "cell_type": "code",
   "execution_count": 8,
   "metadata": {},
   "outputs": [
    {
     "name": "stdout",
     "output_type": "stream",
     "text": [
      "<class 'pandas.core.frame.DataFrame'>\n",
      "RangeIndex: 17898 entries, 0 to 17897\n",
      "Data columns (total 9 columns):\n",
      " #   Column            Non-Null Count  Dtype  \n",
      "---  ------            --------------  -----  \n",
      " 0   Profile_mean      17898 non-null  float64\n",
      " 1   Profile_stdev     17898 non-null  float64\n",
      " 2   Profile_skewness  17898 non-null  float64\n",
      " 3   Profile_kurtosis  17898 non-null  float64\n",
      " 4   DM_mean           17898 non-null  float64\n",
      " 5   DM_stdev          17898 non-null  float64\n",
      " 6   DM_skewness       17898 non-null  float64\n",
      " 7   DM_kurtosis       17898 non-null  float64\n",
      " 8   class             17898 non-null  object \n",
      "dtypes: float64(8), object(1)\n",
      "memory usage: 1.2+ MB\n"
     ]
    }
   ],
   "source": [
    "df.info()"
   ]
  },
  {
   "cell_type": "markdown",
   "metadata": {},
   "source": [
    "### Split data on train test set"
   ]
  },
  {
   "cell_type": "code",
   "execution_count": 9,
   "metadata": {},
   "outputs": [],
   "source": [
    "X_train, X_test, y_train, y_test = train_test_split(X, y, test_size=0.2, random_state=42, stratify=y)"
   ]
  },
  {
   "cell_type": "code",
   "execution_count": 10,
   "metadata": {},
   "outputs": [
    {
     "name": "stdout",
     "output_type": "stream",
     "text": [
      "X_train shape: (17898, 8); y_train shape: (17898,);\n",
      "X_test shape: (17898, 8);  y_test shape: (17898,);\n"
     ]
    }
   ],
   "source": [
    "print(f\"X_train shape: {X.shape}; y_train shape: {y.shape};\")\n",
    "print(f\"X_test shape: {X.shape};  y_test shape: {y.shape};\")"
   ]
  },
  {
   "cell_type": "markdown",
   "metadata": {},
   "source": [
    "### List of hyperparameters "
   ]
  },
  {
   "cell_type": "code",
   "execution_count": 11,
   "metadata": {},
   "outputs": [],
   "source": [
    "n_estimators = [100, 200, 300, 400, 500]\n",
    "learning_rate = [0.05, 0.1]\n",
    "max_depth = [3, 4, 6]\n",
    "\n",
    "\n",
    "param_grid = dict(\n",
    "    learning_rate=learning_rate, \n",
    "    n_estimators=n_estimators,\n",
    "    max_depth = max_depth\n",
    ")"
   ]
  },
  {
   "cell_type": "markdown",
   "metadata": {},
   "source": [
    "### Hyperparameters tunning"
   ]
  },
  {
   "cell_type": "code",
   "execution_count": 12,
   "metadata": {},
   "outputs": [
    {
     "name": "stdout",
     "output_type": "stream",
     "text": [
      "Fitting 3 folds for each of 30 candidates, totalling 90 fits\n",
      "[CV] learning_rate=0.05, max_depth=3, n_estimators=100 ...............\n"
     ]
    },
    {
     "name": "stderr",
     "output_type": "stream",
     "text": [
      "[Parallel(n_jobs=1)]: Using backend SequentialBackend with 1 concurrent workers.\n",
      "[Parallel(n_jobs=1)]: Done   1 out of   1 | elapsed:    0.1s remaining:    0.0s\n"
     ]
    },
    {
     "name": "stdout",
     "output_type": "stream",
     "text": [
      "[CV]  learning_rate=0.05, max_depth=3, n_estimators=100, total=   0.2s\n",
      "[CV] learning_rate=0.05, max_depth=3, n_estimators=100 ...............\n",
      "[CV]  learning_rate=0.05, max_depth=3, n_estimators=100, total=   0.2s\n",
      "[CV] learning_rate=0.05, max_depth=3, n_estimators=100 ...............\n",
      "[CV]  learning_rate=0.05, max_depth=3, n_estimators=100, total=   0.2s\n",
      "[CV] learning_rate=0.05, max_depth=3, n_estimators=200 ...............\n",
      "[CV]  learning_rate=0.05, max_depth=3, n_estimators=200, total=   0.3s\n",
      "[CV] learning_rate=0.05, max_depth=3, n_estimators=200 ...............\n",
      "[CV]  learning_rate=0.05, max_depth=3, n_estimators=200, total=   0.3s\n",
      "[CV] learning_rate=0.05, max_depth=3, n_estimators=200 ...............\n",
      "[CV]  learning_rate=0.05, max_depth=3, n_estimators=200, total=   0.3s\n",
      "[CV] learning_rate=0.05, max_depth=3, n_estimators=300 ...............\n",
      "[CV]  learning_rate=0.05, max_depth=3, n_estimators=300, total=   0.4s\n",
      "[CV] learning_rate=0.05, max_depth=3, n_estimators=300 ...............\n",
      "[CV]  learning_rate=0.05, max_depth=3, n_estimators=300, total=   0.5s\n",
      "[CV] learning_rate=0.05, max_depth=3, n_estimators=300 ...............\n",
      "[CV]  learning_rate=0.05, max_depth=3, n_estimators=300, total=   0.5s\n",
      "[CV] learning_rate=0.05, max_depth=3, n_estimators=400 ...............\n",
      "[CV]  learning_rate=0.05, max_depth=3, n_estimators=400, total=   0.5s\n",
      "[CV] learning_rate=0.05, max_depth=3, n_estimators=400 ...............\n",
      "[CV]  learning_rate=0.05, max_depth=3, n_estimators=400, total=   0.4s\n",
      "[CV] learning_rate=0.05, max_depth=3, n_estimators=400 ...............\n",
      "[CV]  learning_rate=0.05, max_depth=3, n_estimators=400, total=   0.4s\n",
      "[CV] learning_rate=0.05, max_depth=3, n_estimators=500 ...............\n",
      "[CV]  learning_rate=0.05, max_depth=3, n_estimators=500, total=   0.6s\n",
      "[CV] learning_rate=0.05, max_depth=3, n_estimators=500 ...............\n",
      "[CV]  learning_rate=0.05, max_depth=3, n_estimators=500, total=   0.6s\n",
      "[CV] learning_rate=0.05, max_depth=3, n_estimators=500 ...............\n",
      "[CV]  learning_rate=0.05, max_depth=3, n_estimators=500, total=   0.5s\n",
      "[CV] learning_rate=0.05, max_depth=4, n_estimators=100 ...............\n",
      "[CV]  learning_rate=0.05, max_depth=4, n_estimators=100, total=   0.1s\n",
      "[CV] learning_rate=0.05, max_depth=4, n_estimators=100 ...............\n",
      "[CV]  learning_rate=0.05, max_depth=4, n_estimators=100, total=   0.1s\n",
      "[CV] learning_rate=0.05, max_depth=4, n_estimators=100 ...............\n",
      "[CV]  learning_rate=0.05, max_depth=4, n_estimators=100, total=   0.1s\n",
      "[CV] learning_rate=0.05, max_depth=4, n_estimators=200 ...............\n",
      "[CV]  learning_rate=0.05, max_depth=4, n_estimators=200, total=   0.3s\n",
      "[CV] learning_rate=0.05, max_depth=4, n_estimators=200 ...............\n",
      "[CV]  learning_rate=0.05, max_depth=4, n_estimators=200, total=   0.3s\n",
      "[CV] learning_rate=0.05, max_depth=4, n_estimators=200 ...............\n",
      "[CV]  learning_rate=0.05, max_depth=4, n_estimators=200, total=   0.3s\n",
      "[CV] learning_rate=0.05, max_depth=4, n_estimators=300 ...............\n",
      "[CV]  learning_rate=0.05, max_depth=4, n_estimators=300, total=   0.4s\n",
      "[CV] learning_rate=0.05, max_depth=4, n_estimators=300 ...............\n",
      "[CV]  learning_rate=0.05, max_depth=4, n_estimators=300, total=   0.4s\n",
      "[CV] learning_rate=0.05, max_depth=4, n_estimators=300 ...............\n",
      "[CV]  learning_rate=0.05, max_depth=4, n_estimators=300, total=   0.4s\n",
      "[CV] learning_rate=0.05, max_depth=4, n_estimators=400 ...............\n",
      "[CV]  learning_rate=0.05, max_depth=4, n_estimators=400, total=   0.5s\n",
      "[CV] learning_rate=0.05, max_depth=4, n_estimators=400 ...............\n",
      "[CV]  learning_rate=0.05, max_depth=4, n_estimators=400, total=   0.5s\n",
      "[CV] learning_rate=0.05, max_depth=4, n_estimators=400 ...............\n",
      "[CV]  learning_rate=0.05, max_depth=4, n_estimators=400, total=   0.5s\n",
      "[CV] learning_rate=0.05, max_depth=4, n_estimators=500 ...............\n",
      "[CV]  learning_rate=0.05, max_depth=4, n_estimators=500, total=   0.6s\n",
      "[CV] learning_rate=0.05, max_depth=4, n_estimators=500 ...............\n",
      "[CV]  learning_rate=0.05, max_depth=4, n_estimators=500, total=   0.6s\n",
      "[CV] learning_rate=0.05, max_depth=4, n_estimators=500 ...............\n",
      "[CV]  learning_rate=0.05, max_depth=4, n_estimators=500, total=   0.6s\n",
      "[CV] learning_rate=0.05, max_depth=6, n_estimators=100 ...............\n",
      "[CV]  learning_rate=0.05, max_depth=6, n_estimators=100, total=   0.1s\n",
      "[CV] learning_rate=0.05, max_depth=6, n_estimators=100 ...............\n",
      "[CV]  learning_rate=0.05, max_depth=6, n_estimators=100, total=   0.2s\n",
      "[CV] learning_rate=0.05, max_depth=6, n_estimators=100 ...............\n",
      "[CV]  learning_rate=0.05, max_depth=6, n_estimators=100, total=   0.1s\n",
      "[CV] learning_rate=0.05, max_depth=6, n_estimators=200 ...............\n",
      "[CV]  learning_rate=0.05, max_depth=6, n_estimators=200, total=   0.3s\n",
      "[CV] learning_rate=0.05, max_depth=6, n_estimators=200 ...............\n",
      "[CV]  learning_rate=0.05, max_depth=6, n_estimators=200, total=   0.3s\n",
      "[CV] learning_rate=0.05, max_depth=6, n_estimators=200 ...............\n",
      "[CV]  learning_rate=0.05, max_depth=6, n_estimators=200, total=   0.3s\n",
      "[CV] learning_rate=0.05, max_depth=6, n_estimators=300 ...............\n",
      "[CV]  learning_rate=0.05, max_depth=6, n_estimators=300, total=   0.4s\n",
      "[CV] learning_rate=0.05, max_depth=6, n_estimators=300 ...............\n",
      "[CV]  learning_rate=0.05, max_depth=6, n_estimators=300, total=   0.4s\n",
      "[CV] learning_rate=0.05, max_depth=6, n_estimators=300 ...............\n",
      "[CV]  learning_rate=0.05, max_depth=6, n_estimators=300, total=   0.4s\n",
      "[CV] learning_rate=0.05, max_depth=6, n_estimators=400 ...............\n",
      "[CV]  learning_rate=0.05, max_depth=6, n_estimators=400, total=   0.5s\n",
      "[CV] learning_rate=0.05, max_depth=6, n_estimators=400 ...............\n",
      "[CV]  learning_rate=0.05, max_depth=6, n_estimators=400, total=   0.5s\n",
      "[CV] learning_rate=0.05, max_depth=6, n_estimators=400 ...............\n",
      "[CV]  learning_rate=0.05, max_depth=6, n_estimators=400, total=   0.5s\n",
      "[CV] learning_rate=0.05, max_depth=6, n_estimators=500 ...............\n",
      "[CV]  learning_rate=0.05, max_depth=6, n_estimators=500, total=   0.5s\n",
      "[CV] learning_rate=0.05, max_depth=6, n_estimators=500 ...............\n",
      "[CV]  learning_rate=0.05, max_depth=6, n_estimators=500, total=   0.5s\n",
      "[CV] learning_rate=0.05, max_depth=6, n_estimators=500 ...............\n",
      "[CV]  learning_rate=0.05, max_depth=6, n_estimators=500, total=   0.5s\n",
      "[CV] learning_rate=0.1, max_depth=3, n_estimators=100 ................\n",
      "[CV] . learning_rate=0.1, max_depth=3, n_estimators=100, total=   0.1s\n",
      "[CV] learning_rate=0.1, max_depth=3, n_estimators=100 ................\n",
      "[CV] . learning_rate=0.1, max_depth=3, n_estimators=100, total=   0.2s\n",
      "[CV] learning_rate=0.1, max_depth=3, n_estimators=100 ................\n",
      "[CV] . learning_rate=0.1, max_depth=3, n_estimators=100, total=   0.2s\n",
      "[CV] learning_rate=0.1, max_depth=3, n_estimators=200 ................\n",
      "[CV] . learning_rate=0.1, max_depth=3, n_estimators=200, total=   0.3s\n",
      "[CV] learning_rate=0.1, max_depth=3, n_estimators=200 ................\n",
      "[CV] . learning_rate=0.1, max_depth=3, n_estimators=200, total=   0.3s\n",
      "[CV] learning_rate=0.1, max_depth=3, n_estimators=200 ................\n",
      "[CV] . learning_rate=0.1, max_depth=3, n_estimators=200, total=   0.4s\n",
      "[CV] learning_rate=0.1, max_depth=3, n_estimators=300 ................\n",
      "[CV] . learning_rate=0.1, max_depth=3, n_estimators=300, total=   0.4s\n",
      "[CV] learning_rate=0.1, max_depth=3, n_estimators=300 ................\n",
      "[CV] . learning_rate=0.1, max_depth=3, n_estimators=300, total=   0.4s\n",
      "[CV] learning_rate=0.1, max_depth=3, n_estimators=300 ................\n",
      "[CV] . learning_rate=0.1, max_depth=3, n_estimators=300, total=   0.4s\n",
      "[CV] learning_rate=0.1, max_depth=3, n_estimators=400 ................\n",
      "[CV] . learning_rate=0.1, max_depth=3, n_estimators=400, total=   0.5s\n",
      "[CV] learning_rate=0.1, max_depth=3, n_estimators=400 ................\n",
      "[CV] . learning_rate=0.1, max_depth=3, n_estimators=400, total=   0.5s\n",
      "[CV] learning_rate=0.1, max_depth=3, n_estimators=400 ................\n",
      "[CV] . learning_rate=0.1, max_depth=3, n_estimators=400, total=   0.5s\n",
      "[CV] learning_rate=0.1, max_depth=3, n_estimators=500 ................\n",
      "[CV] . learning_rate=0.1, max_depth=3, n_estimators=500, total=   0.6s\n",
      "[CV] learning_rate=0.1, max_depth=3, n_estimators=500 ................\n"
     ]
    },
    {
     "name": "stdout",
     "output_type": "stream",
     "text": [
      "[CV] . learning_rate=0.1, max_depth=3, n_estimators=500, total=   0.6s\n",
      "[CV] learning_rate=0.1, max_depth=3, n_estimators=500 ................\n",
      "[CV] . learning_rate=0.1, max_depth=3, n_estimators=500, total=   0.6s\n",
      "[CV] learning_rate=0.1, max_depth=4, n_estimators=100 ................\n",
      "[CV] . learning_rate=0.1, max_depth=4, n_estimators=100, total=   0.2s\n",
      "[CV] learning_rate=0.1, max_depth=4, n_estimators=100 ................\n",
      "[CV] . learning_rate=0.1, max_depth=4, n_estimators=100, total=   0.2s\n",
      "[CV] learning_rate=0.1, max_depth=4, n_estimators=100 ................\n",
      "[CV] . learning_rate=0.1, max_depth=4, n_estimators=100, total=   0.2s\n",
      "[CV] learning_rate=0.1, max_depth=4, n_estimators=200 ................\n",
      "[CV] . learning_rate=0.1, max_depth=4, n_estimators=200, total=   0.3s\n",
      "[CV] learning_rate=0.1, max_depth=4, n_estimators=200 ................\n",
      "[CV] . learning_rate=0.1, max_depth=4, n_estimators=200, total=   0.3s\n",
      "[CV] learning_rate=0.1, max_depth=4, n_estimators=200 ................\n",
      "[CV] . learning_rate=0.1, max_depth=4, n_estimators=200, total=   0.3s\n",
      "[CV] learning_rate=0.1, max_depth=4, n_estimators=300 ................\n",
      "[CV] . learning_rate=0.1, max_depth=4, n_estimators=300, total=   0.4s\n",
      "[CV] learning_rate=0.1, max_depth=4, n_estimators=300 ................\n",
      "[CV] . learning_rate=0.1, max_depth=4, n_estimators=300, total=   0.4s\n",
      "[CV] learning_rate=0.1, max_depth=4, n_estimators=300 ................\n",
      "[CV] . learning_rate=0.1, max_depth=4, n_estimators=300, total=   0.4s\n",
      "[CV] learning_rate=0.1, max_depth=4, n_estimators=400 ................\n",
      "[CV] . learning_rate=0.1, max_depth=4, n_estimators=400, total=   0.5s\n",
      "[CV] learning_rate=0.1, max_depth=4, n_estimators=400 ................\n",
      "[CV] . learning_rate=0.1, max_depth=4, n_estimators=400, total=   0.5s\n",
      "[CV] learning_rate=0.1, max_depth=4, n_estimators=400 ................\n",
      "[CV] . learning_rate=0.1, max_depth=4, n_estimators=400, total=   0.5s\n",
      "[CV] learning_rate=0.1, max_depth=4, n_estimators=500 ................\n",
      "[CV] . learning_rate=0.1, max_depth=4, n_estimators=500, total=   0.6s\n",
      "[CV] learning_rate=0.1, max_depth=4, n_estimators=500 ................\n",
      "[CV] . learning_rate=0.1, max_depth=4, n_estimators=500, total=   0.6s\n",
      "[CV] learning_rate=0.1, max_depth=4, n_estimators=500 ................\n",
      "[CV] . learning_rate=0.1, max_depth=4, n_estimators=500, total=   0.6s\n",
      "[CV] learning_rate=0.1, max_depth=6, n_estimators=100 ................\n",
      "[CV] . learning_rate=0.1, max_depth=6, n_estimators=100, total=   0.2s\n",
      "[CV] learning_rate=0.1, max_depth=6, n_estimators=100 ................\n",
      "[CV] . learning_rate=0.1, max_depth=6, n_estimators=100, total=   0.2s\n",
      "[CV] learning_rate=0.1, max_depth=6, n_estimators=100 ................\n",
      "[CV] . learning_rate=0.1, max_depth=6, n_estimators=100, total=   0.2s\n",
      "[CV] learning_rate=0.1, max_depth=6, n_estimators=200 ................\n",
      "[CV] . learning_rate=0.1, max_depth=6, n_estimators=200, total=   0.3s\n",
      "[CV] learning_rate=0.1, max_depth=6, n_estimators=200 ................\n",
      "[CV] . learning_rate=0.1, max_depth=6, n_estimators=200, total=   0.3s\n",
      "[CV] learning_rate=0.1, max_depth=6, n_estimators=200 ................\n",
      "[CV] . learning_rate=0.1, max_depth=6, n_estimators=200, total=   0.3s\n",
      "[CV] learning_rate=0.1, max_depth=6, n_estimators=300 ................\n",
      "[CV] . learning_rate=0.1, max_depth=6, n_estimators=300, total=   0.4s\n",
      "[CV] learning_rate=0.1, max_depth=6, n_estimators=300 ................\n",
      "[CV] . learning_rate=0.1, max_depth=6, n_estimators=300, total=   0.4s\n",
      "[CV] learning_rate=0.1, max_depth=6, n_estimators=300 ................\n",
      "[CV] . learning_rate=0.1, max_depth=6, n_estimators=300, total=   0.4s\n",
      "[CV] learning_rate=0.1, max_depth=6, n_estimators=400 ................\n",
      "[CV] . learning_rate=0.1, max_depth=6, n_estimators=400, total=   0.5s\n",
      "[CV] learning_rate=0.1, max_depth=6, n_estimators=400 ................\n",
      "[CV] . learning_rate=0.1, max_depth=6, n_estimators=400, total=   0.5s\n",
      "[CV] learning_rate=0.1, max_depth=6, n_estimators=400 ................\n",
      "[CV] . learning_rate=0.1, max_depth=6, n_estimators=400, total=   0.5s\n",
      "[CV] learning_rate=0.1, max_depth=6, n_estimators=500 ................\n",
      "[CV] . learning_rate=0.1, max_depth=6, n_estimators=500, total=   0.6s\n",
      "[CV] learning_rate=0.1, max_depth=6, n_estimators=500 ................\n",
      "[CV] . learning_rate=0.1, max_depth=6, n_estimators=500, total=   0.6s\n",
      "[CV] learning_rate=0.1, max_depth=6, n_estimators=500 ................\n",
      "[CV] . learning_rate=0.1, max_depth=6, n_estimators=500, total=   0.6s\n"
     ]
    },
    {
     "name": "stderr",
     "output_type": "stream",
     "text": [
      "[Parallel(n_jobs=1)]: Done  90 out of  90 | elapsed:   34.8s finished\n"
     ]
    }
   ],
   "source": [
    "from sklearn.model_selection import GridSearchCV\n",
    "from sklearn.model_selection import StratifiedKFold\n",
    "from xgboost import XGBClassifier\n",
    "\n",
    "model = XGBClassifier()\n",
    "kfold = StratifiedKFold(n_splits=3, shuffle=True, random_state=42)\n",
    "\n",
    "grid = GridSearchCV(model, param_grid, scoring=\"f1\", cv=kfold, verbose=2, n_jobs=1)\n",
    "grid_result = grid.fit(X_train, y_train)"
   ]
  },
  {
   "cell_type": "code",
   "execution_count": 13,
   "metadata": {},
   "outputs": [
    {
     "name": "stdout",
     "output_type": "stream",
     "text": [
      "learning_rate: 0.05\n",
      "max_depth: 3\n",
      "n_estimators: 100\n"
     ]
    }
   ],
   "source": [
    "params = grid.best_params_\n",
    "res = [print(f\"{key}: {val}\") for key, val in params.items()]"
   ]
  },
  {
   "cell_type": "markdown",
   "metadata": {},
   "source": [
    "### Training Neural Network on the best hyperparameters"
   ]
  },
  {
   "cell_type": "code",
   "execution_count": 14,
   "metadata": {},
   "outputs": [],
   "source": [
    "model = XGBClassifier(seed=42,\n",
    "                      n_estimators=params[\"n_estimators\"],\n",
    "                      max_depth=params[\"max_depth\"],\n",
    "                      learning_rate=params[\"learning_rate\"])"
   ]
  },
  {
   "cell_type": "code",
   "execution_count": 15,
   "metadata": {},
   "outputs": [
    {
     "data": {
      "text/plain": [
       "XGBClassifier(base_score=0.5, booster='gbtree', colsample_bylevel=1,\n",
       "              colsample_bynode=1, colsample_bytree=1, gamma=0, gpu_id=-1,\n",
       "              importance_type='gain', interaction_constraints='',\n",
       "              learning_rate=0.05, max_delta_step=0, max_depth=3,\n",
       "              min_child_weight=1, missing=nan, monotone_constraints='()',\n",
       "              n_estimators=100, n_jobs=0, num_parallel_tree=1,\n",
       "              objective='binary:logistic', random_state=42, reg_alpha=0,\n",
       "              reg_lambda=1, scale_pos_weight=1, seed=42, subsample=1,\n",
       "              tree_method='exact', validate_parameters=1, verbosity=None)"
      ]
     },
     "execution_count": 15,
     "metadata": {},
     "output_type": "execute_result"
    }
   ],
   "source": [
    "model.fit(X_train, y_train)"
   ]
  },
  {
   "cell_type": "code",
   "execution_count": 16,
   "metadata": {},
   "outputs": [],
   "source": [
    "y_pred = model.predict(X_test)"
   ]
  },
  {
   "cell_type": "markdown",
   "metadata": {},
   "source": [
    "### Results"
   ]
  },
  {
   "cell_type": "code",
   "execution_count": 17,
   "metadata": {},
   "outputs": [],
   "source": [
    "from sklearn.metrics import accuracy_score\n",
    "from sklearn.metrics import precision_score\n",
    "from sklearn.metrics import recall_score"
   ]
  },
  {
   "cell_type": "code",
   "execution_count": 18,
   "metadata": {},
   "outputs": [
    {
     "name": "stdout",
     "output_type": "stream",
     "text": [
      "Accuracy:  1.0\n",
      "Precision: 1.0\n",
      "Recall:    1.0\n"
     ]
    }
   ],
   "source": [
    "print(f\"Accuracy:  {accuracy_score(y_test, model.predict(X_test))}\")\n",
    "print(f\"Precision: {precision_score(y_test, model.predict(X_test), average='weighted')}\")\n",
    "print(f\"Recall:    {recall_score(y_test, model.predict(X_test), average='weighted')}\")"
   ]
  }
 ],
 "metadata": {
  "kernelspec": {
   "display_name": "Python 3.7.6 64-bit",
   "language": "python",
   "name": "python37664bit72af3e13b1864d0a85758af773701f9c"
  },
  "language_info": {
   "codemirror_mode": {
    "name": "ipython",
    "version": 3
   },
   "file_extension": ".py",
   "mimetype": "text/x-python",
   "name": "python",
   "nbconvert_exporter": "python",
   "pygments_lexer": "ipython3",
   "version": "3.7.6"
  }
 },
 "nbformat": 4,
 "nbformat_minor": 4
}
