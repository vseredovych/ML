{
 "cells": [
  {
   "cell_type": "code",
   "execution_count": 14,
   "metadata": {},
   "outputs": [],
   "source": [
    "import numpy as np\n",
    "import pandas as pd\n",
    "import matplotlib as plt\n",
    "%matplotlib inline\n",
    "\n",
    "from sklearn.model_selection import train_test_split"
   ]
  },
  {
   "cell_type": "code",
   "execution_count": 15,
   "metadata": {
    "scrolled": true
   },
   "outputs": [],
   "source": [
    "from keras.models import Sequential\n",
    "from keras.layers import Dense\n",
    "from keras import optimizers\n",
    "from keras import initializers"
   ]
  },
  {
   "cell_type": "markdown",
   "metadata": {},
   "source": [
    "### Load & Preprocessing data"
   ]
  },
  {
   "cell_type": "code",
   "execution_count": 16,
   "metadata": {},
   "outputs": [],
   "source": [
    "from scipy.io import arff\n",
    "\n",
    "data = arff.loadarff('HTRU_2.arff')\n",
    "df = pd.DataFrame(data[0])\n",
    "X = df.drop('class', axis=1)\n",
    "y = df[\"class\"]"
   ]
  },
  {
   "cell_type": "code",
   "execution_count": 17,
   "metadata": {},
   "outputs": [
    {
     "name": "stdout",
     "output_type": "stream",
     "text": [
      "X shape: (17898, 8);\n",
      "y shape: (17898,);\n"
     ]
    }
   ],
   "source": [
    "print(f\"X shape: {X.shape};\") \n",
    "print(f\"y shape: {y.shape};\")"
   ]
  },
  {
   "cell_type": "code",
   "execution_count": 18,
   "metadata": {},
   "outputs": [
    {
     "data": {
      "text/html": [
       "<div>\n",
       "<style scoped>\n",
       "    .dataframe tbody tr th:only-of-type {\n",
       "        vertical-align: middle;\n",
       "    }\n",
       "\n",
       "    .dataframe tbody tr th {\n",
       "        vertical-align: top;\n",
       "    }\n",
       "\n",
       "    .dataframe thead th {\n",
       "        text-align: right;\n",
       "    }\n",
       "</style>\n",
       "<table border=\"1\" class=\"dataframe\">\n",
       "  <thead>\n",
       "    <tr style=\"text-align: right;\">\n",
       "      <th></th>\n",
       "      <th>Profile_mean</th>\n",
       "      <th>Profile_stdev</th>\n",
       "      <th>Profile_skewness</th>\n",
       "      <th>Profile_kurtosis</th>\n",
       "      <th>DM_mean</th>\n",
       "      <th>DM_stdev</th>\n",
       "      <th>DM_skewness</th>\n",
       "      <th>DM_kurtosis</th>\n",
       "    </tr>\n",
       "  </thead>\n",
       "  <tbody>\n",
       "    <tr>\n",
       "      <th>count</th>\n",
       "      <td>17898.000000</td>\n",
       "      <td>17898.000000</td>\n",
       "      <td>17898.000000</td>\n",
       "      <td>17898.000000</td>\n",
       "      <td>17898.000000</td>\n",
       "      <td>17898.000000</td>\n",
       "      <td>17898.000000</td>\n",
       "      <td>17898.000000</td>\n",
       "    </tr>\n",
       "    <tr>\n",
       "      <th>mean</th>\n",
       "      <td>111.079968</td>\n",
       "      <td>46.549532</td>\n",
       "      <td>0.477857</td>\n",
       "      <td>1.770279</td>\n",
       "      <td>12.614400</td>\n",
       "      <td>26.326515</td>\n",
       "      <td>8.303556</td>\n",
       "      <td>104.857709</td>\n",
       "    </tr>\n",
       "    <tr>\n",
       "      <th>std</th>\n",
       "      <td>25.652935</td>\n",
       "      <td>6.843189</td>\n",
       "      <td>1.064040</td>\n",
       "      <td>6.167913</td>\n",
       "      <td>29.472897</td>\n",
       "      <td>19.470572</td>\n",
       "      <td>4.506092</td>\n",
       "      <td>106.514540</td>\n",
       "    </tr>\n",
       "    <tr>\n",
       "      <th>min</th>\n",
       "      <td>5.812500</td>\n",
       "      <td>24.772042</td>\n",
       "      <td>-1.876011</td>\n",
       "      <td>-1.791886</td>\n",
       "      <td>0.213211</td>\n",
       "      <td>7.370432</td>\n",
       "      <td>-3.139270</td>\n",
       "      <td>-1.976976</td>\n",
       "    </tr>\n",
       "    <tr>\n",
       "      <th>25%</th>\n",
       "      <td>100.929688</td>\n",
       "      <td>42.376018</td>\n",
       "      <td>0.027098</td>\n",
       "      <td>-0.188572</td>\n",
       "      <td>1.923077</td>\n",
       "      <td>14.437332</td>\n",
       "      <td>5.781506</td>\n",
       "      <td>34.960504</td>\n",
       "    </tr>\n",
       "    <tr>\n",
       "      <th>50%</th>\n",
       "      <td>115.078125</td>\n",
       "      <td>46.947479</td>\n",
       "      <td>0.223240</td>\n",
       "      <td>0.198710</td>\n",
       "      <td>2.801839</td>\n",
       "      <td>18.461316</td>\n",
       "      <td>8.433515</td>\n",
       "      <td>83.064556</td>\n",
       "    </tr>\n",
       "    <tr>\n",
       "      <th>75%</th>\n",
       "      <td>127.085938</td>\n",
       "      <td>51.023202</td>\n",
       "      <td>0.473325</td>\n",
       "      <td>0.927783</td>\n",
       "      <td>5.464256</td>\n",
       "      <td>28.428104</td>\n",
       "      <td>10.702959</td>\n",
       "      <td>139.309330</td>\n",
       "    </tr>\n",
       "    <tr>\n",
       "      <th>max</th>\n",
       "      <td>192.617188</td>\n",
       "      <td>98.778911</td>\n",
       "      <td>8.069522</td>\n",
       "      <td>68.101622</td>\n",
       "      <td>223.392141</td>\n",
       "      <td>110.642211</td>\n",
       "      <td>34.539844</td>\n",
       "      <td>1191.000837</td>\n",
       "    </tr>\n",
       "  </tbody>\n",
       "</table>\n",
       "</div>"
      ],
      "text/plain": [
       "       Profile_mean  Profile_stdev  Profile_skewness  Profile_kurtosis  \\\n",
       "count  17898.000000   17898.000000      17898.000000      17898.000000   \n",
       "mean     111.079968      46.549532          0.477857          1.770279   \n",
       "std       25.652935       6.843189          1.064040          6.167913   \n",
       "min        5.812500      24.772042         -1.876011         -1.791886   \n",
       "25%      100.929688      42.376018          0.027098         -0.188572   \n",
       "50%      115.078125      46.947479          0.223240          0.198710   \n",
       "75%      127.085938      51.023202          0.473325          0.927783   \n",
       "max      192.617188      98.778911          8.069522         68.101622   \n",
       "\n",
       "            DM_mean      DM_stdev   DM_skewness   DM_kurtosis  \n",
       "count  17898.000000  17898.000000  17898.000000  17898.000000  \n",
       "mean      12.614400     26.326515      8.303556    104.857709  \n",
       "std       29.472897     19.470572      4.506092    106.514540  \n",
       "min        0.213211      7.370432     -3.139270     -1.976976  \n",
       "25%        1.923077     14.437332      5.781506     34.960504  \n",
       "50%        2.801839     18.461316      8.433515     83.064556  \n",
       "75%        5.464256     28.428104     10.702959    139.309330  \n",
       "max      223.392141    110.642211     34.539844   1191.000837  "
      ]
     },
     "execution_count": 18,
     "metadata": {},
     "output_type": "execute_result"
    }
   ],
   "source": [
    "df.describe()"
   ]
  },
  {
   "cell_type": "code",
   "execution_count": 19,
   "metadata": {},
   "outputs": [
    {
     "data": {
      "text/html": [
       "<div>\n",
       "<style scoped>\n",
       "    .dataframe tbody tr th:only-of-type {\n",
       "        vertical-align: middle;\n",
       "    }\n",
       "\n",
       "    .dataframe tbody tr th {\n",
       "        vertical-align: top;\n",
       "    }\n",
       "\n",
       "    .dataframe thead th {\n",
       "        text-align: right;\n",
       "    }\n",
       "</style>\n",
       "<table border=\"1\" class=\"dataframe\">\n",
       "  <thead>\n",
       "    <tr style=\"text-align: right;\">\n",
       "      <th></th>\n",
       "      <th>Profile_mean</th>\n",
       "      <th>Profile_stdev</th>\n",
       "      <th>Profile_skewness</th>\n",
       "      <th>Profile_kurtosis</th>\n",
       "      <th>DM_mean</th>\n",
       "      <th>DM_stdev</th>\n",
       "      <th>DM_skewness</th>\n",
       "      <th>DM_kurtosis</th>\n",
       "      <th>class</th>\n",
       "    </tr>\n",
       "  </thead>\n",
       "  <tbody>\n",
       "    <tr>\n",
       "      <th>0</th>\n",
       "      <td>140.562500</td>\n",
       "      <td>55.683782</td>\n",
       "      <td>-0.234571</td>\n",
       "      <td>-0.699648</td>\n",
       "      <td>3.199833</td>\n",
       "      <td>19.110426</td>\n",
       "      <td>7.975532</td>\n",
       "      <td>74.242225</td>\n",
       "      <td>b'0'</td>\n",
       "    </tr>\n",
       "    <tr>\n",
       "      <th>1</th>\n",
       "      <td>102.507812</td>\n",
       "      <td>58.882430</td>\n",
       "      <td>0.465318</td>\n",
       "      <td>-0.515088</td>\n",
       "      <td>1.677258</td>\n",
       "      <td>14.860146</td>\n",
       "      <td>10.576487</td>\n",
       "      <td>127.393580</td>\n",
       "      <td>b'0'</td>\n",
       "    </tr>\n",
       "    <tr>\n",
       "      <th>2</th>\n",
       "      <td>103.015625</td>\n",
       "      <td>39.341649</td>\n",
       "      <td>0.323328</td>\n",
       "      <td>1.051164</td>\n",
       "      <td>3.121237</td>\n",
       "      <td>21.744669</td>\n",
       "      <td>7.735822</td>\n",
       "      <td>63.171909</td>\n",
       "      <td>b'0'</td>\n",
       "    </tr>\n",
       "    <tr>\n",
       "      <th>3</th>\n",
       "      <td>136.750000</td>\n",
       "      <td>57.178449</td>\n",
       "      <td>-0.068415</td>\n",
       "      <td>-0.636238</td>\n",
       "      <td>3.642977</td>\n",
       "      <td>20.959280</td>\n",
       "      <td>6.896499</td>\n",
       "      <td>53.593661</td>\n",
       "      <td>b'0'</td>\n",
       "    </tr>\n",
       "    <tr>\n",
       "      <th>4</th>\n",
       "      <td>88.726562</td>\n",
       "      <td>40.672225</td>\n",
       "      <td>0.600866</td>\n",
       "      <td>1.123492</td>\n",
       "      <td>1.178930</td>\n",
       "      <td>11.468720</td>\n",
       "      <td>14.269573</td>\n",
       "      <td>252.567306</td>\n",
       "      <td>b'0'</td>\n",
       "    </tr>\n",
       "  </tbody>\n",
       "</table>\n",
       "</div>"
      ],
      "text/plain": [
       "   Profile_mean  Profile_stdev  Profile_skewness  Profile_kurtosis   DM_mean  \\\n",
       "0    140.562500      55.683782         -0.234571         -0.699648  3.199833   \n",
       "1    102.507812      58.882430          0.465318         -0.515088  1.677258   \n",
       "2    103.015625      39.341649          0.323328          1.051164  3.121237   \n",
       "3    136.750000      57.178449         -0.068415         -0.636238  3.642977   \n",
       "4     88.726562      40.672225          0.600866          1.123492  1.178930   \n",
       "\n",
       "    DM_stdev  DM_skewness  DM_kurtosis class  \n",
       "0  19.110426     7.975532    74.242225  b'0'  \n",
       "1  14.860146    10.576487   127.393580  b'0'  \n",
       "2  21.744669     7.735822    63.171909  b'0'  \n",
       "3  20.959280     6.896499    53.593661  b'0'  \n",
       "4  11.468720    14.269573   252.567306  b'0'  "
      ]
     },
     "execution_count": 19,
     "metadata": {},
     "output_type": "execute_result"
    }
   ],
   "source": [
    "df.head()"
   ]
  },
  {
   "cell_type": "code",
   "execution_count": 20,
   "metadata": {},
   "outputs": [
    {
     "data": {
      "text/plain": [
       "Index(['Profile_mean', 'Profile_stdev', 'Profile_skewness', 'Profile_kurtosis',\n",
       "       'DM_mean', 'DM_stdev', 'DM_skewness', 'DM_kurtosis', 'class'],\n",
       "      dtype='object')"
      ]
     },
     "execution_count": 20,
     "metadata": {},
     "output_type": "execute_result"
    }
   ],
   "source": [
    "df.columns"
   ]
  },
  {
   "cell_type": "markdown",
   "metadata": {},
   "source": [
    "### Split data on train test set"
   ]
  },
  {
   "cell_type": "code",
   "execution_count": 21,
   "metadata": {},
   "outputs": [],
   "source": [
    "X_train, X_test, y_train, y_test = train_test_split(X, y, test_size=0.2, random_state=42, stratify=y)"
   ]
  },
  {
   "cell_type": "code",
   "execution_count": 22,
   "metadata": {},
   "outputs": [
    {
     "name": "stdout",
     "output_type": "stream",
     "text": [
      "X_train shape: (17898, 8); y_train shape: (17898,);\n",
      "X_test shape: (17898, 8);  y_test shape: (17898,);\n"
     ]
    }
   ],
   "source": [
    "print(f\"X_train shape: {X.shape}; y_train shape: {y.shape};\")\n",
    "print(f\"X_test shape: {X.shape};  y_test shape: {y.shape};\")"
   ]
  },
  {
   "cell_type": "markdown",
   "metadata": {},
   "source": [
    "### Function for creating model for specific hyperparameters"
   ]
  },
  {
   "cell_type": "code",
   "execution_count": 23,
   "metadata": {},
   "outputs": [],
   "source": [
    "def build_model(var_activation='relu', var_optimizer='adam'):\n",
    "    \"\"\" Uses arguments to build Keras model. \"\"\"\n",
    "    kernel_init = initializers.TruncatedNormal(mean=0, stddev=0.01, seed=42)\n",
    "    bias_init = initializers.Constant(value=1e-3)\n",
    "\n",
    "    model = Sequential()\n",
    "    model.add(Dense(24, input_dim=8, activation=var_activation, kernel_initializer=kernel_init, bias_initializer=bias_init))\n",
    "    model.add(Dense(8, activation=var_activation, kernel_initializer=kernel_init, bias_initializer=bias_init))\n",
    "    model.add(Dense(1, activation='sigmoid'))\n",
    "    model.compile(loss='mean_squared_error', optimizer=var_optimizer, metrics=['accuracy'])\n",
    "    return model"
   ]
  },
  {
   "cell_type": "markdown",
   "metadata": {},
   "source": [
    "### Layers summary"
   ]
  },
  {
   "cell_type": "code",
   "execution_count": 24,
   "metadata": {},
   "outputs": [
    {
     "name": "stdout",
     "output_type": "stream",
     "text": [
      "Model: \"sequential_2\"\n",
      "_________________________________________________________________\n",
      "Layer (type)                 Output Shape              Param #   \n",
      "=================================================================\n",
      "dense_4 (Dense)              (None, 24)                216       \n",
      "_________________________________________________________________\n",
      "dense_5 (Dense)              (None, 8)                 200       \n",
      "_________________________________________________________________\n",
      "dense_6 (Dense)              (None, 1)                 9         \n",
      "=================================================================\n",
      "Total params: 425\n",
      "Trainable params: 425\n",
      "Non-trainable params: 0\n",
      "_________________________________________________________________\n"
     ]
    }
   ],
   "source": [
    "model_ = build_model()\n",
    "model_.summary()"
   ]
  },
  {
   "cell_type": "markdown",
   "metadata": {},
   "source": [
    "### List of hyperparameters"
   ]
  },
  {
   "cell_type": "code",
   "execution_count": 25,
   "metadata": {},
   "outputs": [
    {
     "name": "stdout",
     "output_type": "stream",
     "text": [
      "{'var_activation': ['sigmoid', 'tanh', 'relu'], 'var_optimizer': ['sgd', 'adam'], 'batch_size': [128, 64, 32], 'epochs': [10, 20]}\n"
     ]
    }
   ],
   "source": [
    "_activations=['sigmoid', 'tanh','relu']\n",
    "_optimizers=['sgd','adam']\n",
    "_batch_size=[128, 64, 32]\n",
    "_epochs=[10, 20]\n",
    "\n",
    "params=dict(var_activation=_activations,\n",
    "            var_optimizer=_optimizers,\n",
    "            batch_size=_batch_size,\n",
    "            epochs=_epochs)\n",
    "print(params)"
   ]
  },
  {
   "cell_type": "markdown",
   "metadata": {},
   "source": [
    "### Hyperparameters tunning with GridSearchCV"
   ]
  },
  {
   "cell_type": "code",
   "execution_count": 26,
   "metadata": {},
   "outputs": [],
   "source": [
    "from tensorflow.keras.wrappers.scikit_learn import KerasClassifier\n",
    "from sklearn.model_selection import GridSearchCV\n",
    "\n",
    "model_search = KerasClassifier(build_fn=build_model, verbose=0)\n",
    "grid = GridSearchCV(model_search, param_grid=params, cv=2, n_jobs=1)"
   ]
  },
  {
   "cell_type": "code",
   "execution_count": 27,
   "metadata": {},
   "outputs": [
    {
     "name": "stdout",
     "output_type": "stream",
     "text": [
      "Wall time: 2min 24s\n"
     ]
    },
    {
     "data": {
      "text/plain": [
       "GridSearchCV(cv=2, error_score=nan,\n",
       "             estimator=<tensorflow.python.keras.wrappers.scikit_learn.KerasClassifier object at 0x00000172D973A248>,\n",
       "             iid='deprecated', n_jobs=1,\n",
       "             param_grid={'batch_size': [128, 64, 32], 'epochs': [10, 20],\n",
       "                         'var_activation': ['sigmoid', 'tanh', 'relu'],\n",
       "                         'var_optimizer': ['sgd', 'adam']},\n",
       "             pre_dispatch='2*n_jobs', refit=True, return_train_score=False,\n",
       "             scoring=None, verbose=0)"
      ]
     },
     "execution_count": 27,
     "metadata": {},
     "output_type": "execute_result"
    }
   ],
   "source": [
    "%%time\n",
    "grid.fit(X_train, y_train)"
   ]
  },
  {
   "cell_type": "code",
   "execution_count": 28,
   "metadata": {},
   "outputs": [
    {
     "name": "stdout",
     "output_type": "stream",
     "text": [
      "batch_size: 128\n",
      "epochs: 20\n",
      "var_activation: tanh\n",
      "var_optimizer: adam\n"
     ]
    }
   ],
   "source": [
    "params = grid.best_params_\n",
    "res = [print(f\"{key}: {val}\") for key, val in params.items()]"
   ]
  },
  {
   "cell_type": "markdown",
   "metadata": {},
   "source": [
    "### Training Neural Network on the best hyperparameters"
   ]
  },
  {
   "cell_type": "code",
   "execution_count": 29,
   "metadata": {},
   "outputs": [
    {
     "name": "stdout",
     "output_type": "stream",
     "text": [
      "Epoch 1/20\n",
      "14318/14318 [==============================] - 0s 12us/step - loss: 0.0616 - accuracy: 0.9536\n",
      "Epoch 2/20\n",
      "14318/14318 [==============================] - 0s 6us/step - loss: 0.0245 - accuracy: 0.9733\n",
      "Epoch 3/20\n",
      "14318/14318 [==============================] - 0s 6us/step - loss: 0.0223 - accuracy: 0.9737\n",
      "Epoch 4/20\n",
      "14318/14318 [==============================] - 0s 7us/step - loss: 0.0215 - accuracy: 0.9738\n",
      "Epoch 5/20\n",
      "14318/14318 [==============================] - 0s 6us/step - loss: 0.0214 - accuracy: 0.9748\n",
      "Epoch 6/20\n",
      "14318/14318 [==============================] - 0s 6us/step - loss: 0.0208 - accuracy: 0.9748\n",
      "Epoch 7/20\n",
      "14318/14318 [==============================] - 0s 6us/step - loss: 0.0209 - accuracy: 0.9751\n",
      "Epoch 8/20\n",
      "14318/14318 [==============================] - 0s 7us/step - loss: 0.0209 - accuracy: 0.9747\n",
      "Epoch 9/20\n",
      "14318/14318 [==============================] - 0s 7us/step - loss: 0.0207 - accuracy: 0.9746\n",
      "Epoch 10/20\n",
      "14318/14318 [==============================] - 0s 7us/step - loss: 0.0207 - accuracy: 0.9751\n",
      "Epoch 11/20\n",
      "14318/14318 [==============================] - 0s 7us/step - loss: 0.0206 - accuracy: 0.9753\n",
      "Epoch 12/20\n",
      "14318/14318 [==============================] - 0s 8us/step - loss: 0.0200 - accuracy: 0.9753\n",
      "Epoch 13/20\n",
      "14318/14318 [==============================] - 0s 8us/step - loss: 0.0205 - accuracy: 0.9750\n",
      "Epoch 14/20\n",
      "14318/14318 [==============================] - 0s 7us/step - loss: 0.0199 - accuracy: 0.9752\n",
      "Epoch 15/20\n",
      "14318/14318 [==============================] - 0s 7us/step - loss: 0.0197 - accuracy: 0.9763\n",
      "Epoch 16/20\n",
      "14318/14318 [==============================] - 0s 7us/step - loss: 0.0198 - accuracy: 0.9759\n",
      "Epoch 17/20\n",
      "14318/14318 [==============================] - 0s 7us/step - loss: 0.0199 - accuracy: 0.9750\n",
      "Epoch 18/20\n",
      "14318/14318 [==============================] - 0s 7us/step - loss: 0.0200 - accuracy: 0.9755\n",
      "Epoch 19/20\n",
      "14318/14318 [==============================] - 0s 7us/step - loss: 0.0198 - accuracy: 0.9748\n",
      "Epoch 20/20\n",
      "14318/14318 [==============================] - 0s 7us/step - loss: 0.0200 - accuracy: 0.9756\n"
     ]
    },
    {
     "data": {
      "text/plain": [
       "<keras.callbacks.callbacks.History at 0x172eadbc4c8>"
      ]
     },
     "execution_count": 29,
     "metadata": {},
     "output_type": "execute_result"
    }
   ],
   "source": [
    "model = build_model(var_activation=params[\"var_activation\"], \n",
    "                     var_optimizer=params[\"var_optimizer\"])\n",
    "model.fit(X_train,\n",
    "          y_train, \n",
    "          batch_size=params[\"batch_size\"],\n",
    "          epochs=params[\"epochs\"])"
   ]
  },
  {
   "cell_type": "code",
   "execution_count": 30,
   "metadata": {},
   "outputs": [
    {
     "name": "stdout",
     "output_type": "stream",
     "text": [
      "3580/3580 [==============================] - 0s 18us/step\n",
      "Cost:  0.017952666598288914\n",
      "Accuracy: 97.88\n"
     ]
    }
   ],
   "source": [
    "cost, accuracy = model.evaluate(X_test, y_test)\n",
    "print(\"Cost: \", cost)\n",
    "print('Accuracy: %.2f' % (accuracy*100))"
   ]
  },
  {
   "cell_type": "markdown",
   "metadata": {},
   "source": [
    "### Make a few predictions"
   ]
  },
  {
   "cell_type": "code",
   "execution_count": 31,
   "metadata": {},
   "outputs": [
    {
     "name": "stdout",
     "output_type": "stream",
     "text": [
      "[0.011, 0.012, 0.011, 0.012, 0.012, 0.011, 0.011, 0.295, 0.985, 0.013]\n"
     ]
    }
   ],
   "source": [
    "predictions = model.predict(X_test)\n",
    "rounded = [round(x[0], 3) for x in predictions]\n",
    "print(rounded[0:10])"
   ]
  }
 ],
 "metadata": {
  "kernelspec": {
   "display_name": "Python 3.7.6 64-bit",
   "language": "python",
   "name": "python37664bit72af3e13b1864d0a85758af773701f9c"
  },
  "language_info": {
   "codemirror_mode": {
    "name": "ipython",
    "version": 3
   },
   "file_extension": ".py",
   "mimetype": "text/x-python",
   "name": "python",
   "nbconvert_exporter": "python",
   "pygments_lexer": "ipython3",
   "version": "3.7.6"
  }
 },
 "nbformat": 4,
 "nbformat_minor": 4
}
